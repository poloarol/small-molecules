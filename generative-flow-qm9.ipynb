{
 "cells": [
  {
   "cell_type": "code",
   "execution_count": 1,
   "metadata": {},
   "outputs": [
    {
     "name": "stdout",
     "output_type": "stream",
     "text": [
      "Requirement already satisfied: selfies in c:\\users\\user\\onedrive\\desktop\\github\\small-molecules\\env\\lib\\site-packages (2.1.1)\n",
      "Requirement already satisfied: tensorflow_probability in c:\\users\\user\\onedrive\\desktop\\github\\small-molecules\\env\\lib\\site-packages (0.19.0)\n",
      "Requirement already satisfied: gast>=0.3.2 in c:\\users\\user\\onedrive\\desktop\\github\\small-molecules\\env\\lib\\site-packages (from tensorflow_probability) (0.4.0)\n",
      "Requirement already satisfied: decorator in c:\\users\\user\\onedrive\\desktop\\github\\small-molecules\\env\\lib\\site-packages (from tensorflow_probability) (5.1.1)\n",
      "Requirement already satisfied: absl-py in c:\\users\\user\\onedrive\\desktop\\github\\small-molecules\\env\\lib\\site-packages (from tensorflow_probability) (1.3.0)\n",
      "Requirement already satisfied: six>=1.10.0 in c:\\users\\user\\onedrive\\desktop\\github\\small-molecules\\env\\lib\\site-packages (from tensorflow_probability) (1.16.0)\n",
      "Requirement already satisfied: dm-tree in c:\\users\\user\\onedrive\\desktop\\github\\small-molecules\\env\\lib\\site-packages (from tensorflow_probability) (0.1.8)\n",
      "Requirement already satisfied: cloudpickle>=1.3 in c:\\users\\user\\onedrive\\desktop\\github\\small-molecules\\env\\lib\\site-packages (from tensorflow_probability) (2.2.0)\n",
      "Requirement already satisfied: numpy>=1.13.3 in c:\\users\\user\\onedrive\\desktop\\github\\small-molecules\\env\\lib\\site-packages (from tensorflow_probability) (1.22.1)\n"
     ]
    }
   ],
   "source": [
    "! pip install selfies tensorflow_probability"
   ]
  },
  {
   "cell_type": "code",
   "execution_count": 2,
   "metadata": {},
   "outputs": [
    {
     "name": "stderr",
     "output_type": "stream",
     "text": [
      "c:\\Users\\user\\OneDrive\\Desktop\\GitHub\\small-molecules\\env\\lib\\site-packages\\tqdm\\auto.py:22: TqdmWarning: IProgress not found. Please update jupyter and ipywidgets. See https://ipywidgets.readthedocs.io/en/stable/user_install.html\n",
      "  from .autonotebook import tqdm as notebook_tqdm\n",
      "c:\\Users\\user\\OneDrive\\Desktop\\GitHub\\small-molecules\\env\\lib\\site-packages\\torchvision\\models\\detection\\anchor_utils.py:63: UserWarning: Failed to initialize NumPy: module compiled against API version 0x10 but this version of numpy is 0xf (Triggered internally at ..\\torch\\csrc\\utils\\tensor_numpy.cpp:77.)\n",
      "  device: torch.device = torch.device(\"cpu\"),\n",
      "Skipped loading some Jax models, missing a dependency. jax requires jaxlib to be installed. See https://github.com/google/jax#installation for installation instructions.\n"
     ]
    }
   ],
   "source": [
    "import numpy as np\n",
    "import matplotlib.pyplot as plt\n",
    "import pandas as pd\n",
    "import seaborn as sns\n",
    "import os\n",
    "\n",
    "import deepchem as dc\n",
    "from deepchem.models.normalizing_flows import NormalizingFlow, NormalizingFlowModel\n",
    "from deepchem.models.optimizers import Adam\n",
    "from deepchem.data import NumpyDataset\n",
    "from deepchem.splits import RandomSplitter\n",
    "from deepchem.molnet import load_qm9\n",
    "\n",
    "import selfies as sf\n",
    "\n",
    "import rdkit\n",
    "from rdkit import Chem\n",
    "from rdkit.Chem import Draw\n",
    "\n",
    "from IPython.display import Image, display\n",
    "\n",
    "import tensorflow as tf\n",
    "import tensorflow_probability as tfp\n",
    "\n",
    "tfd = tfp.distributions\n",
    "tfb = tfp.bijectors\n",
    "tfk = tf.keras\n",
    "\n",
    "tfk.backend.set_floatx('float64')"
   ]
  },
  {
   "cell_type": "code",
   "execution_count": 3,
   "metadata": {},
   "outputs": [
    {
     "data": {
      "text/html": [
       "<div>\n",
       "<style scoped>\n",
       "    .dataframe tbody tr th:only-of-type {\n",
       "        vertical-align: middle;\n",
       "    }\n",
       "\n",
       "    .dataframe tbody tr th {\n",
       "        vertical-align: top;\n",
       "    }\n",
       "\n",
       "    .dataframe thead th {\n",
       "        text-align: right;\n",
       "    }\n",
       "</style>\n",
       "<table border=\"1\" class=\"dataframe\">\n",
       "  <thead>\n",
       "    <tr style=\"text-align: right;\">\n",
       "      <th></th>\n",
       "      <th>smiles</th>\n",
       "    </tr>\n",
       "  </thead>\n",
       "  <tbody>\n",
       "    <tr>\n",
       "      <th>0</th>\n",
       "      <td>[H]O[C@@]1(C([H])([H])[H])C(=O)N(C([H])([H])[H...</td>\n",
       "    </tr>\n",
       "    <tr>\n",
       "      <th>1</th>\n",
       "      <td>[H]C([H])([H])C([H])([H])C([H])([H])[C@@]1([H]...</td>\n",
       "    </tr>\n",
       "    <tr>\n",
       "      <th>2</th>\n",
       "      <td>[H]C1=C([H])[C@]2([H])[N@H+]3C([H])([H])[C@]2(...</td>\n",
       "    </tr>\n",
       "    <tr>\n",
       "      <th>3</th>\n",
       "      <td>[H]C(=O)C([H])([H])[C@]1([H])[N@H+](C2([H])C([...</td>\n",
       "    </tr>\n",
       "    <tr>\n",
       "      <th>4</th>\n",
       "      <td>[H]OC([H])([H])C1([C@@]2([H])C([H])([H])[C@@]2...</td>\n",
       "    </tr>\n",
       "  </tbody>\n",
       "</table>\n",
       "</div>"
      ],
      "text/plain": [
       "                                              smiles\n",
       "0  [H]O[C@@]1(C([H])([H])[H])C(=O)N(C([H])([H])[H...\n",
       "1  [H]C([H])([H])C([H])([H])C([H])([H])[C@@]1([H]...\n",
       "2  [H]C1=C([H])[C@]2([H])[N@H+]3C([H])([H])[C@]2(...\n",
       "3  [H]C(=O)C([H])([H])[C@]1([H])[N@H+](C2([H])C([...\n",
       "4  [H]OC([H])([H])C1([C@@]2([H])C([H])([H])[C@@]2..."
      ]
     },
     "execution_count": 3,
     "metadata": {},
     "output_type": "execute_result"
    }
   ],
   "source": [
    "tasks, datasets, transformers = load_qm9(featurizer=\"ECFP\")\n",
    "df = pd.DataFrame(data={\"smiles\" : datasets[0].ids})\n",
    "\n",
    "df.head()"
   ]
  },
  {
   "cell_type": "code",
   "execution_count": 4,
   "metadata": {},
   "outputs": [],
   "source": [
    "data = df[[\"smiles\"]].sample(5000, random_state=42)"
   ]
  },
  {
   "cell_type": "code",
   "execution_count": 5,
   "metadata": {},
   "outputs": [
    {
     "data": {
      "text/plain": [
       "{'H': 1,\n",
       " 'F': 1,\n",
       " 'Cl': 1,\n",
       " 'Br': 1,\n",
       " 'I': 1,\n",
       " 'B': 3,\n",
       " 'B+1': 2,\n",
       " 'B-1': 4,\n",
       " 'O': 2,\n",
       " 'O+1': 3,\n",
       " 'O-1': 1,\n",
       " 'N': 3,\n",
       " 'N+1': 4,\n",
       " 'N-1': 2,\n",
       " 'C': 4,\n",
       " 'C+1': 5,\n",
       " 'C-1': 3,\n",
       " 'P': 5,\n",
       " 'P+1': 6,\n",
       " 'P-1': 4,\n",
       " 'S': 6,\n",
       " 'S+1': 7,\n",
       " 'S-1': 5,\n",
       " '?': 3}"
      ]
     },
     "execution_count": 5,
     "metadata": {},
     "output_type": "execute_result"
    }
   ],
   "source": [
    "sf.set_semantic_constraints() # reset constraints\n",
    "constraints = sf.get_semantic_constraints()\n",
    "constraints[\"?\"] = 3\n",
    "\n",
    "sf.set_semantic_constraints(constraints)\n",
    "constraints"
   ]
  },
  {
   "cell_type": "code",
   "execution_count": 6,
   "metadata": {},
   "outputs": [
    {
     "data": {
      "text/html": [
       "<div>\n",
       "<style scoped>\n",
       "    .dataframe tbody tr th:only-of-type {\n",
       "        vertical-align: middle;\n",
       "    }\n",
       "\n",
       "    .dataframe tbody tr th {\n",
       "        vertical-align: top;\n",
       "    }\n",
       "\n",
       "    .dataframe thead th {\n",
       "        text-align: right;\n",
       "    }\n",
       "</style>\n",
       "<table border=\"1\" class=\"dataframe\">\n",
       "  <thead>\n",
       "    <tr style=\"text-align: right;\">\n",
       "      <th></th>\n",
       "      <th>smiles</th>\n",
       "      <th>selfies</th>\n",
       "      <th>len</th>\n",
       "    </tr>\n",
       "  </thead>\n",
       "  <tbody>\n",
       "    <tr>\n",
       "      <th>60243</th>\n",
       "      <td>[H]C(=O)C#N</td>\n",
       "      <td>[H][C][=Branch1][C][=O][C][#N]</td>\n",
       "      <td>11</td>\n",
       "    </tr>\n",
       "    <tr>\n",
       "      <th>101707</th>\n",
       "      <td>[H]c1nc(=O)onc1F</td>\n",
       "      <td>[H][C][=N][C][=Branch1][C][=O][O][N][=C][Ring1...</td>\n",
       "      <td>16</td>\n",
       "    </tr>\n",
       "    <tr>\n",
       "      <th>63373</th>\n",
       "      <td>[H]Oc1nc2onnn2n1</td>\n",
       "      <td>[H][O][C][N][=C][O][N][=N][N][Ring1][Branch1][...</td>\n",
       "      <td>16</td>\n",
       "    </tr>\n",
       "    <tr>\n",
       "      <th>1108</th>\n",
       "      <td>[H]C#CC#CC(=O)C#N</td>\n",
       "      <td>[H][C][#C][C][#C][C][=Branch1][C][=O][C][#N]</td>\n",
       "      <td>17</td>\n",
       "    </tr>\n",
       "    <tr>\n",
       "      <th>105311</th>\n",
       "      <td>[H]OC([H])([H])C#N</td>\n",
       "      <td>[H][O][C][Branch1][C][H][Branch1][C][H][C][#N]</td>\n",
       "      <td>18</td>\n",
       "    </tr>\n",
       "  </tbody>\n",
       "</table>\n",
       "</div>"
      ],
      "text/plain": [
       "                    smiles                                            selfies  \\\n",
       "60243          [H]C(=O)C#N                     [H][C][=Branch1][C][=O][C][#N]   \n",
       "101707    [H]c1nc(=O)onc1F  [H][C][=N][C][=Branch1][C][=O][O][N][=C][Ring1...   \n",
       "63373     [H]Oc1nc2onnn2n1  [H][O][C][N][=C][O][N][=N][N][Ring1][Branch1][...   \n",
       "1108     [H]C#CC#CC(=O)C#N       [H][C][#C][C][#C][C][=Branch1][C][=O][C][#N]   \n",
       "105311  [H]OC([H])([H])C#N     [H][O][C][Branch1][C][H][Branch1][C][H][C][#N]   \n",
       "\n",
       "        len  \n",
       "60243    11  \n",
       "101707   16  \n",
       "63373    16  \n",
       "1108     17  \n",
       "105311   18  "
      ]
     },
     "execution_count": 6,
     "metadata": {},
     "output_type": "execute_result"
    }
   ],
   "source": [
    "def process_smiles(smiles):\n",
    "    return sf.encoder(smiles)\n",
    "\n",
    "def keys_int(symbol_to_int):\n",
    "    d = {}\n",
    "    for i, key in enumerate(symbol_to_int.keys()):\n",
    "        d[i] = key\n",
    "    return d\n",
    "\n",
    "data[\"selfies\"] = data[\"smiles\"].apply(process_smiles)\n",
    "\n",
    "data[\"len\"] = data[\"smiles\"].apply(lambda x: len(x))\n",
    "data.sort_values(by=\"len\").head()"
   ]
  },
  {
   "cell_type": "code",
   "execution_count": 7,
   "metadata": {},
   "outputs": [],
   "source": [
    "selfies_list = np.asanyarray(data[\"selfies\"])\n",
    "selfies_alphabet = sf.get_alphabet_from_selfies(selfies_list)\n",
    "selfies_alphabet.add(\"[nop]\") # Ass the \"no operation\" symbol as a padding character\n",
    "selfies_alphabet.add(\".\")\n",
    "selfies_alphabet = list(sorted(selfies_alphabet))\n",
    "\n",
    "largest_selfie_len = max(sf.len_selfies(s) for s in selfies_list)\n",
    "symbol_to_int = dict((c, i) for i, c in enumerate(selfies_alphabet))\n",
    "int_mol = keys_int(symbol_to_int)"
   ]
  },
  {
   "cell_type": "code",
   "execution_count": 8,
   "metadata": {},
   "outputs": [],
   "source": [
    "onehots = sf.batch_selfies_to_flat_hot(selfies_list, symbol_to_int, largest_selfie_len)"
   ]
  },
  {
   "cell_type": "code",
   "execution_count": 9,
   "metadata": {},
   "outputs": [],
   "source": [
    "input_tensor = tf.convert_to_tensor(onehots, dtype=\"float64\")\n",
    "noise_tensor = tf.random.uniform(shape=input_tensor.shape, minval=0, maxval=1, dtype=\"float64\")\n",
    "dequantized_data = tf.add(input_tensor, noise_tensor)"
   ]
  },
  {
   "cell_type": "code",
   "execution_count": 10,
   "metadata": {},
   "outputs": [
    {
     "data": {
      "text/plain": [
       "(4000, 3380)"
      ]
     },
     "execution_count": 10,
     "metadata": {},
     "output_type": "execute_result"
    }
   ],
   "source": [
    "ds = NumpyDataset(dequantized_data)\n",
    "splitter = RandomSplitter()\n",
    "train, val, test = splitter.train_valid_test_split(dataset=ds, seed=42)\n",
    "train_idx, val_idx, test_idx = splitter.split(dataset=ds, seed=42)\n",
    "\n",
    "dim = len(train.X[0])\n",
    "train.X.shape"
   ]
  },
  {
   "cell_type": "code",
   "execution_count": 11,
   "metadata": {},
   "outputs": [],
   "source": [
    "train_smiles = data['smiles'].iloc[train_idx].values"
   ]
  },
  {
   "cell_type": "code",
   "execution_count": 12,
   "metadata": {},
   "outputs": [],
   "source": [
    "base_dist = tfd.MultivariateNormalDiag(loc=np.zeros(dim), scale_diag=np.ones(dim))\n",
    "\n",
    "if dim % 2 == 0:\n",
    "    permutation = tf.cast(np.concatenate((np.arange(dim / 2, dim), np.arange(0, dim / 2))), tf.int32)\n",
    "else:\n",
    "    permutation = tf.cast(np.concatenate((np.arange(dim / 2 + 1, dim), np.arange(0, dim / 2))), tf.int32)"
   ]
  },
  {
   "cell_type": "code",
   "execution_count": 13,
   "metadata": {},
   "outputs": [],
   "source": [
    "num_layers = 8\n",
    "flow_layers = []\n",
    "\n",
    "Made = tfb.AutoregressiveNetwork(params=2, hidden_units=[521, 521], activation=\"relu\")\n",
    "\n",
    "for i in range(num_layers):\n",
    "    flow_layers.append(\n",
    "        (tfb.MaskedAutoregressiveFlow(shift_and_log_scale_fn=Made))\n",
    "    )\n",
    "    \n",
    "    permutation = tf.cast(np.random.permutation(np.arange(0, dim)), tf.int32)\n",
    "    flow_layers.append(tfb.Permute(permutation=permutation))\n"
   ]
  },
  {
   "cell_type": "code",
   "execution_count": 14,
   "metadata": {},
   "outputs": [],
   "source": [
    "\n",
    "nf = NormalizingFlow(base_distribution=base_dist, flow_layers=flow_layers)"
   ]
  },
  {
   "cell_type": "code",
   "execution_count": 15,
   "metadata": {},
   "outputs": [],
   "source": [
    "nfm = NormalizingFlowModel(nf, learning_rate = 1e-4, batch_size = 128)"
   ]
  },
  {
   "cell_type": "code",
   "execution_count": 16,
   "metadata": {},
   "outputs": [],
   "source": [
    "losses = []\n",
    "val_losses = []"
   ]
  },
  {
   "cell_type": "code",
   "execution_count": 17,
   "metadata": {},
   "outputs": [
    {
     "name": "stdout",
     "output_type": "stream",
     "text": [
      "WARNING:tensorflow:From c:\\Users\\user\\OneDrive\\Desktop\\GitHub\\small-molecules\\env\\lib\\site-packages\\tensorflow\\python\\autograph\\pyct\\static_analysis\\liveness.py:83: Analyzer.lamba_check (from tensorflow.python.autograph.pyct.static_analysis.liveness) is deprecated and will be removed after 2023-09-23.\n",
      "Instructions for updating:\n",
      "Lambda fuctions will be no more assumed to be used in the statement where they are used, or at least in the same block. https://github.com/tensorflow/tensorflow/issues/56089\n",
      "WARNING:tensorflow:Model was constructed with shape (None, 3380) for input KerasTensor(type_spec=TensorSpec(shape=(None, 3380), dtype=tf.float64, name='input_1'), name='input_1', description=\"created by layer 'input_1'\"), but it was called on an input with incompatible shape (1, 128, 3380).\n",
      "WARNING:tensorflow:Model was constructed with shape (None, 3380) for input KerasTensor(type_spec=TensorSpec(shape=(None, 3380), dtype=tf.float64, name='input_1'), name='input_1', description=\"created by layer 'input_1'\"), but it was called on an input with incompatible shape (1, 128, 3380).\n",
      "WARNING:tensorflow:Model was constructed with shape (None, 3380) for input KerasTensor(type_spec=TensorSpec(shape=(None, 3380), dtype=tf.float64, name='input_1'), name='input_1', description=\"created by layer 'input_1'\"), but it was called on an input with incompatible shape (1, 128, 3380).\n",
      "WARNING:tensorflow:Model was constructed with shape (None, 3380) for input KerasTensor(type_spec=TensorSpec(shape=(None, 3380), dtype=tf.float64, name='input_1'), name='input_1', description=\"created by layer 'input_1'\"), but it was called on an input with incompatible shape (1, 128, 3380).\n",
      "WARNING:tensorflow:Model was constructed with shape (None, 3380) for input KerasTensor(type_spec=TensorSpec(shape=(None, 3380), dtype=tf.float64, name='input_1'), name='input_1', description=\"created by layer 'input_1'\"), but it was called on an input with incompatible shape (1, 128, 3380).\n",
      "WARNING:tensorflow:Model was constructed with shape (None, 3380) for input KerasTensor(type_spec=TensorSpec(shape=(None, 3380), dtype=tf.float64, name='input_1'), name='input_1', description=\"created by layer 'input_1'\"), but it was called on an input with incompatible shape (1, 128, 3380).\n",
      "WARNING:tensorflow:Model was constructed with shape (None, 3380) for input KerasTensor(type_spec=TensorSpec(shape=(None, 3380), dtype=tf.float64, name='input_1'), name='input_1', description=\"created by layer 'input_1'\"), but it was called on an input with incompatible shape (1, 128, 3380).\n",
      "WARNING:tensorflow:Model was constructed with shape (None, 3380) for input KerasTensor(type_spec=TensorSpec(shape=(None, 3380), dtype=tf.float64, name='input_1'), name='input_1', description=\"created by layer 'input_1'\"), but it was called on an input with incompatible shape (1, 128, 3380).\n",
      "WARNING:tensorflow:Model was constructed with shape (None, 3380) for input KerasTensor(type_spec=TensorSpec(shape=(None, 3380), dtype=tf.float64, name='input_1'), name='input_1', description=\"created by layer 'input_1'\"), but it was called on an input with incompatible shape (1, 128, 3380).\n",
      "WARNING:tensorflow:Model was constructed with shape (None, 3380) for input KerasTensor(type_spec=TensorSpec(shape=(None, 3380), dtype=tf.float64, name='input_1'), name='input_1', description=\"created by layer 'input_1'\"), but it was called on an input with incompatible shape (1, 128, 3380).\n",
      "WARNING:tensorflow:Model was constructed with shape (None, 3380) for input KerasTensor(type_spec=TensorSpec(shape=(None, 3380), dtype=tf.float64, name='input_1'), name='input_1', description=\"created by layer 'input_1'\"), but it was called on an input with incompatible shape (1, 128, 3380).\n",
      "WARNING:tensorflow:Model was constructed with shape (None, 3380) for input KerasTensor(type_spec=TensorSpec(shape=(None, 3380), dtype=tf.float64, name='input_1'), name='input_1', description=\"created by layer 'input_1'\"), but it was called on an input with incompatible shape (1, 128, 3380).\n",
      "WARNING:tensorflow:Model was constructed with shape (None, 3380) for input KerasTensor(type_spec=TensorSpec(shape=(None, 3380), dtype=tf.float64, name='input_1'), name='input_1', description=\"created by layer 'input_1'\"), but it was called on an input with incompatible shape (1, 128, 3380).\n",
      "WARNING:tensorflow:Model was constructed with shape (None, 3380) for input KerasTensor(type_spec=TensorSpec(shape=(None, 3380), dtype=tf.float64, name='input_1'), name='input_1', description=\"created by layer 'input_1'\"), but it was called on an input with incompatible shape (1, 128, 3380).\n",
      "WARNING:tensorflow:Model was constructed with shape (None, 3380) for input KerasTensor(type_spec=TensorSpec(shape=(None, 3380), dtype=tf.float64, name='input_1'), name='input_1', description=\"created by layer 'input_1'\"), but it was called on an input with incompatible shape (1, 128, 3380).\n",
      "WARNING:tensorflow:Model was constructed with shape (None, 3380) for input KerasTensor(type_spec=TensorSpec(shape=(None, 3380), dtype=tf.float64, name='input_1'), name='input_1', description=\"created by layer 'input_1'\"), but it was called on an input with incompatible shape (1, 128, 3380).\n",
      "WARNING:tensorflow:Model was constructed with shape (None, 3380) for input KerasTensor(type_spec=TensorSpec(shape=(None, 3380), dtype=tf.float64, name='input_1'), name='input_1', description=\"created by layer 'input_1'\"), but it was called on an input with incompatible shape (1, 128, 3380).\n",
      "WARNING:tensorflow:Model was constructed with shape (None, 3380) for input KerasTensor(type_spec=TensorSpec(shape=(None, 3380), dtype=tf.float64, name='input_1'), name='input_1', description=\"created by layer 'input_1'\"), but it was called on an input with incompatible shape (1, 128, 3380).\n",
      "WARNING:tensorflow:Model was constructed with shape (None, 3380) for input KerasTensor(type_spec=TensorSpec(shape=(None, 3380), dtype=tf.float64, name='input_1'), name='input_1', description=\"created by layer 'input_1'\"), but it was called on an input with incompatible shape (1, 128, 3380).\n",
      "WARNING:tensorflow:Model was constructed with shape (None, 3380) for input KerasTensor(type_spec=TensorSpec(shape=(None, 3380), dtype=tf.float64, name='input_1'), name='input_1', description=\"created by layer 'input_1'\"), but it was called on an input with incompatible shape (1, 128, 3380).\n",
      "WARNING:tensorflow:Model was constructed with shape (None, 3380) for input KerasTensor(type_spec=TensorSpec(shape=(None, 3380), dtype=tf.float64, name='input_1'), name='input_1', description=\"created by layer 'input_1'\"), but it was called on an input with incompatible shape (1, 128, 3380).\n",
      "WARNING:tensorflow:Model was constructed with shape (None, 3380) for input KerasTensor(type_spec=TensorSpec(shape=(None, 3380), dtype=tf.float64, name='input_1'), name='input_1', description=\"created by layer 'input_1'\"), but it was called on an input with incompatible shape (1, 128, 3380).\n",
      "WARNING:tensorflow:Model was constructed with shape (None, 3380) for input KerasTensor(type_spec=TensorSpec(shape=(None, 3380), dtype=tf.float64, name='input_1'), name='input_1', description=\"created by layer 'input_1'\"), but it was called on an input with incompatible shape (1, 128, 3380).\n",
      "WARNING:tensorflow:Model was constructed with shape (None, 3380) for input KerasTensor(type_spec=TensorSpec(shape=(None, 3380), dtype=tf.float64, name='input_1'), name='input_1', description=\"created by layer 'input_1'\"), but it was called on an input with incompatible shape (1, 128, 3380).\n",
      "WARNING:tensorflow:Model was constructed with shape (None, 3380) for input KerasTensor(type_spec=TensorSpec(shape=(None, 3380), dtype=tf.float64, name='input_1'), name='input_1', description=\"created by layer 'input_1'\"), but it was called on an input with incompatible shape (1, 128, 3380).\n",
      "WARNING:tensorflow:Model was constructed with shape (None, 3380) for input KerasTensor(type_spec=TensorSpec(shape=(None, 3380), dtype=tf.float64, name='input_1'), name='input_1', description=\"created by layer 'input_1'\"), but it was called on an input with incompatible shape (1, 128, 3380).\n",
      "WARNING:tensorflow:Model was constructed with shape (None, 3380) for input KerasTensor(type_spec=TensorSpec(shape=(None, 3380), dtype=tf.float64, name='input_1'), name='input_1', description=\"created by layer 'input_1'\"), but it was called on an input with incompatible shape (1, 128, 3380).\n",
      "WARNING:tensorflow:Model was constructed with shape (None, 3380) for input KerasTensor(type_spec=TensorSpec(shape=(None, 3380), dtype=tf.float64, name='input_1'), name='input_1', description=\"created by layer 'input_1'\"), but it was called on an input with incompatible shape (1, 128, 3380).\n",
      "WARNING:tensorflow:Model was constructed with shape (None, 3380) for input KerasTensor(type_spec=TensorSpec(shape=(None, 3380), dtype=tf.float64, name='input_1'), name='input_1', description=\"created by layer 'input_1'\"), but it was called on an input with incompatible shape (1, 128, 3380).\n",
      "WARNING:tensorflow:Model was constructed with shape (None, 3380) for input KerasTensor(type_spec=TensorSpec(shape=(None, 3380), dtype=tf.float64, name='input_1'), name='input_1', description=\"created by layer 'input_1'\"), but it was called on an input with incompatible shape (1, 128, 3380).\n",
      "WARNING:tensorflow:Model was constructed with shape (None, 3380) for input KerasTensor(type_spec=TensorSpec(shape=(None, 3380), dtype=tf.float64, name='input_1'), name='input_1', description=\"created by layer 'input_1'\"), but it was called on an input with incompatible shape (1, 128, 3380).\n",
      "WARNING:tensorflow:Model was constructed with shape (None, 3380) for input KerasTensor(type_spec=TensorSpec(shape=(None, 3380), dtype=tf.float64, name='input_1'), name='input_1', description=\"created by layer 'input_1'\"), but it was called on an input with incompatible shape (1, 128, 3380).\n",
      "CPU times: total: 1h 4min 26s\n",
      "Wall time: 18min 15s\n"
     ]
    }
   ],
   "source": [
    "%%time\n",
    "max_epochs = 10\n",
    "\n",
    "for epoch in range(max_epochs):\n",
    "    loss = nfm.fit(train, nb_epoch=1, all_losses=losses)\n",
    "    val_loss = nfm.create_nll(val.X)\n",
    "    val_losses.append(val_loss.numpy())"
   ]
  },
  {
   "cell_type": "code",
   "execution_count": 18,
   "metadata": {},
   "outputs": [
    {
     "data": {
      "text/plain": [
       "<matplotlib.legend.Legend at 0x1ac35bc2590>"
      ]
     },
     "execution_count": 18,
     "metadata": {},
     "output_type": "execute_result"
    },
    {
     "data": {
      "image/png": "[encoded data removed]",
      "text/plain": [
       "<Figure size 640x480 with 1 Axes>"
      ]
     },
     "metadata": {},
     "output_type": "display_data"
    }
   ],
   "source": [
    "fig, ax = plt.subplots()\n",
    "ax.scatter(range(len(losses)), losses, label = \"Training loss\")\n",
    "ax.scatter(range(len(val_losses)), val_losses, label = \"Validation loss\")\n",
    "plt.legend(loc=\"upper right\")"
   ]
  },
  {
   "cell_type": "code",
   "execution_count": 19,
   "metadata": {},
   "outputs": [],
   "source": [
    "generated_samples = nfm.flow.sample(20) # generaive modeling\n",
    "log_probs = nfm.flow.log_prob(generated_samples) # probability density estimation"
   ]
  },
  {
   "cell_type": "code",
   "execution_count": 20,
   "metadata": {},
   "outputs": [],
   "source": [
    "mols = tf.math.floor(generated_samples) # quantize data\n",
    "mols = tf.clip_by_value(mols, 0, 1) # Set nefative values to 0 and values > 1 to 1\n",
    "\n",
    "int_to_symbol = dict((i, c) for i, c in enumerate(selfies_alphabet))\n",
    "\n",
    "# for idx, mol in enumerate(mols):\n",
    "#     mol = mol.numpy().tolist()\n",
    "#     print(sf.encoding_to_selfies([mol]))\n",
    "    \n",
    "mols = mols.numpy().tolist()\n",
    "selfies_molecule = sf.encoding_to_selfies(mols, vocab_itos=int_to_symbol, enc_type=\"one_hot\")"
   ]
  },
  {
   "cell_type": "code",
   "execution_count": 21,
   "metadata": {},
   "outputs": [
    {
     "name": "stderr",
     "output_type": "stream",
     "text": [
      "C:\\Users\\user\\AppData\\Local\\Temp\\ipykernel_14196\\3590359391.py:1: UserWarning: \n",
      "selfies.decoder() may behave differently than in previous major releases. We recommend using SELFIES that are up to date.\n",
      "  smile_molecule = sf.decoder(selfies_molecule, compatible=True)\n"
     ]
    }
   ],
   "source": [
    "smile_molecule = sf.decoder(selfies_molecule, compatible=True)"
   ]
  },
  {
   "cell_type": "code",
   "execution_count": 22,
   "metadata": {},
   "outputs": [
    {
     "name": "stdout",
     "output_type": "stream",
     "text": [
      "SELFIES:  [=Ring1][H][Branch2][#C][=N+1][/C][/N+1].[=O][#C][=N][/C][#C][/C][S][C@@][=N+1][#N][#N][/C@@]\n",
      "SMILES:  [H]C=[N+1]/C/[N+1].O=C=N/C#C/CS[C@@]=[N+1]=NN/[C@@]\n"
     ]
    }
   ],
   "source": [
    "print(\"SELFIES: \", selfies_molecule)\n",
    "print(\"SMILES: \", smile_molecule)"
   ]
  },
  {
   "cell_type": "code",
   "execution_count": 23,
   "metadata": {},
   "outputs": [
    {
     "data": {
      "image/png": "[encoded data removed]",
      "text/plain": [
       "<rdkit.Chem.rdchem.Mol at 0x1b3f0174190>"
      ]
     },
     "execution_count": 23,
     "metadata": {},
     "output_type": "execute_result"
    }
   ],
   "source": [
    "Chem.MolFromSmiles(sf.decoder(selfies_molecule), sanitize=True)"
   ]
  },
  {
   "cell_type": "code",
   "execution_count": 26,
   "metadata": {},
   "outputs": [
    {
     "ename": "",
     "evalue": "",
     "output_type": "error",
     "traceback": [
      "\u001b[1;31mCanceled future for execute_request message before replies were done"
     ]
    },
    {
     "ename": "",
     "evalue": "",
     "output_type": "error",
     "traceback": [
      "\u001b[1;31mThe Kernel crashed while executing code in the the current cell or a previous cell. Please review the code in the cell(s) to identify a possible cause of the failure. Click <a href='https://aka.ms/vscodeJupyterKernelCrash'>here</a> for more info. View Jupyter <a href='command:jupyter.viewOutput'>log</a> for further details."
     ]
    }
   ],
   "source": [
    "# let's generate 5 molecules\n",
    "\n",
    "import random\n",
    "int_to_symbol = dict((i, c) for i, c in enumerate(selfies_alphabet))\n",
    "\n",
    "selfies_molecules = []\n",
    "\n",
    "for i in range(5):\n",
    "    n_steps = random.randint(10, 30)\n",
    "    generated_samples = nfm.flow.sample(n_steps) # generaive modeling\n",
    "    log_probs = nfm.flow.log_prob(generated_samples) # probability density estimation\n",
    "    \n",
    "    mols = tf.math.floor(generated_samples) # quantize data\n",
    "    mols = tf.clip_by_value(mols, 0, 1) # Set nefative values to 0 and values > 1 to 1\n",
    "    mols = mols.numpy().tolist()\n",
    "    selfies_molecule.append(sf.encoding_to_selfies(mols, vocab_itos=int_to_symbol, enc_type=\"one_hot\"))"
   ]
  }
 ],
 "metadata": {
  "kernelspec": {
   "display_name": "env",
   "language": "python",
   "name": "python3"
  },
  "language_info": {
   "codemirror_mode": {
    "name": "ipython",
    "version": 3
   },
   "file_extension": ".py",
   "mimetype": "text/x-python",
   "name": "python",
   "nbconvert_exporter": "python",
   "pygments_lexer": "ipython3",
   "version": "3.10.9"
  },
  "orig_nbformat": 4,
  "vscode": {
   "interpreter": {
    "hash": "4df9ae2f3669d2915414309207e4c3fb96f9f71dd598ede9d89ce16f72233d5f"
   }
  }
 },
 "nbformat": 4,
 "nbformat_minor": 2
}
