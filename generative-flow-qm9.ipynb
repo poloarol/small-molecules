{
 "cells": [
  {
   "cell_type": "code",
   "execution_count": 1,
   "metadata": {},
   "outputs": [
    {
     "name": "stdout",
     "output_type": "stream",
     "text": [
      "Collecting selfies\n",
      "  Using cached selfies-2.1.1-py3-none-any.whl (35 kB)\n",
      "Collecting tensorflow_probability\n",
      "  Downloading tensorflow_probability-0.19.0-py2.py3-none-any.whl (6.7 MB)\n",
      "     ---------------------------------------- 6.7/6.7 MB 15.9 MB/s eta 0:00:00\n",
      "Requirement already satisfied: six>=1.10.0 in c:\\users\\user\\onedrive\\desktop\\github\\small-molecules\\env\\lib\\site-packages (from tensorflow_probability) (1.16.0)\n",
      "Requirement already satisfied: absl-py in c:\\users\\user\\onedrive\\desktop\\github\\small-molecules\\env\\lib\\site-packages (from tensorflow_probability) (1.3.0)\n",
      "Requirement already satisfied: decorator in c:\\users\\user\\onedrive\\desktop\\github\\small-molecules\\env\\lib\\site-packages (from tensorflow_probability) (5.1.1)\n",
      "Collecting dm-tree\n",
      "  Downloading dm_tree-0.1.8-cp310-cp310-win_amd64.whl (101 kB)\n",
      "     -------------------------------------- 101.3/101.3 kB 5.7 MB/s eta 0:00:00\n",
      "Requirement already satisfied: cloudpickle>=1.3 in c:\\users\\user\\onedrive\\desktop\\github\\small-molecules\\env\\lib\\site-packages (from tensorflow_probability) (2.2.0)\n",
      "Requirement already satisfied: gast>=0.3.2 in c:\\users\\user\\onedrive\\desktop\\github\\small-molecules\\env\\lib\\site-packages (from tensorflow_probability) (0.4.0)\n",
      "Requirement already satisfied: numpy>=1.13.3 in c:\\users\\user\\onedrive\\desktop\\github\\small-molecules\\env\\lib\\site-packages (from tensorflow_probability) (1.22.1)\n",
      "Installing collected packages: dm-tree, tensorflow_probability, selfies\n",
      "Successfully installed dm-tree-0.1.8 selfies-2.1.1 tensorflow_probability-0.19.0\n"
     ]
    }
   ],
   "source": [
    "! pip install selfies tensorflow_probability"
   ]
  },
  {
   "cell_type": "code",
   "execution_count": 4,
   "metadata": {},
   "outputs": [],
   "source": [
    "import numpy as np\n",
    "import matplotlib.pyplot as plt\n",
    "import pandas as pd\n",
    "import seaborn as sns\n",
    "import os\n",
    "\n",
    "import deepchem as dc\n",
    "from deepchem.models.normalizing_flows import NormalizingFlow, NormalizingFlowModel\n",
    "from deepchem.models.optimizers import Adam\n",
    "from deepchem.data import NumpyDataset\n",
    "from deepchem.splits import RandomSplitter\n",
    "from deepchem.molnet import load_qm9\n",
    "\n",
    "import selfies as sf\n",
    "\n",
    "import rdkit\n",
    "from rdkit import Chem\n",
    "from rdkit.Chem import Draw\n",
    "\n",
    "from IPython.display import Image, display\n",
    "\n",
    "import tensorflow as tf\n",
    "import tensorflow_probability as tfp\n",
    "\n",
    "tdf = tfp.distributions\n",
    "tfb = tfp.bijectors\n",
    "tfk = tf.keras\n",
    "\n",
    "tfk.backend.set_floatx('float64')"
   ]
  },
  {
   "cell_type": "code",
   "execution_count": 5,
   "metadata": {},
   "outputs": [
    {
     "data": {
      "text/html": [
       "<div>\n",
       "<style scoped>\n",
       "    .dataframe tbody tr th:only-of-type {\n",
       "        vertical-align: middle;\n",
       "    }\n",
       "\n",
       "    .dataframe tbody tr th {\n",
       "        vertical-align: top;\n",
       "    }\n",
       "\n",
       "    .dataframe thead th {\n",
       "        text-align: right;\n",
       "    }\n",
       "</style>\n",
       "<table border=\"1\" class=\"dataframe\">\n",
       "  <thead>\n",
       "    <tr style=\"text-align: right;\">\n",
       "      <th></th>\n",
       "      <th>smiles</th>\n",
       "    </tr>\n",
       "  </thead>\n",
       "  <tbody>\n",
       "    <tr>\n",
       "      <th>0</th>\n",
       "      <td>[H]O[C@@]1(C([H])([H])[H])C(=O)N(C([H])([H])[H...</td>\n",
       "    </tr>\n",
       "    <tr>\n",
       "      <th>1</th>\n",
       "      <td>[H]C([H])([H])C([H])([H])C([H])([H])[C@@]1([H]...</td>\n",
       "    </tr>\n",
       "    <tr>\n",
       "      <th>2</th>\n",
       "      <td>[H]C1=C([H])[C@]2([H])[N@H+]3C([H])([H])[C@]2(...</td>\n",
       "    </tr>\n",
       "    <tr>\n",
       "      <th>3</th>\n",
       "      <td>[H]C(=O)C([H])([H])[C@]1([H])[N@H+](C2([H])C([...</td>\n",
       "    </tr>\n",
       "    <tr>\n",
       "      <th>4</th>\n",
       "      <td>[H]OC([H])([H])C1([C@@]2([H])C([H])([H])[C@@]2...</td>\n",
       "    </tr>\n",
       "  </tbody>\n",
       "</table>\n",
       "</div>"
      ],
      "text/plain": [
       "                                              smiles\n",
       "0  [H]O[C@@]1(C([H])([H])[H])C(=O)N(C([H])([H])[H...\n",
       "1  [H]C([H])([H])C([H])([H])C([H])([H])[C@@]1([H]...\n",
       "2  [H]C1=C([H])[C@]2([H])[N@H+]3C([H])([H])[C@]2(...\n",
       "3  [H]C(=O)C([H])([H])[C@]1([H])[N@H+](C2([H])C([...\n",
       "4  [H]OC([H])([H])C1([C@@]2([H])C([H])([H])[C@@]2..."
      ]
     },
     "execution_count": 5,
     "metadata": {},
     "output_type": "execute_result"
    }
   ],
   "source": [
    "tasks, datasets, transformers = load_qm9(featurizer=\"ECFP\")\n",
    "df = pd.DataFrame(data={\"smiles\" : datasets[0].ids})\n",
    "\n",
    "df.head()"
   ]
  },
  {
   "cell_type": "code",
   "execution_count": 6,
   "metadata": {},
   "outputs": [
    {
     "data": {
      "text/plain": [
       "{'H': 1,\n",
       " 'F': 1,\n",
       " 'Cl': 1,\n",
       " 'Br': 1,\n",
       " 'I': 1,\n",
       " 'B': 3,\n",
       " 'B+1': 2,\n",
       " 'B-1': 4,\n",
       " 'O': 2,\n",
       " 'O+1': 3,\n",
       " 'O-1': 1,\n",
       " 'N': 3,\n",
       " 'N+1': 4,\n",
       " 'N-1': 2,\n",
       " 'C': 4,\n",
       " 'C+1': 5,\n",
       " 'C-1': 3,\n",
       " 'P': 5,\n",
       " 'P+1': 6,\n",
       " 'P-1': 4,\n",
       " 'S': 6,\n",
       " 'S+1': 7,\n",
       " 'S-1': 5,\n",
       " '?': 3}"
      ]
     },
     "execution_count": 6,
     "metadata": {},
     "output_type": "execute_result"
    }
   ],
   "source": [
    "sf.set_semantic_constraints() # reset constraints\n",
    "constraints = sf.get_semantic_constraints()\n",
    "constraints[\"?\"] = 3\n",
    "\n",
    "sf.set_semantic_constraints(constraints)\n",
    "constraints"
   ]
  },
  {
   "cell_type": "code",
   "execution_count": 7,
   "metadata": {},
   "outputs": [
    {
     "data": {
      "text/html": [
       "<div>\n",
       "<style scoped>\n",
       "    .dataframe tbody tr th:only-of-type {\n",
       "        vertical-align: middle;\n",
       "    }\n",
       "\n",
       "    .dataframe tbody tr th {\n",
       "        vertical-align: top;\n",
       "    }\n",
       "\n",
       "    .dataframe thead th {\n",
       "        text-align: right;\n",
       "    }\n",
       "</style>\n",
       "<table border=\"1\" class=\"dataframe\">\n",
       "  <thead>\n",
       "    <tr style=\"text-align: right;\">\n",
       "      <th></th>\n",
       "      <th>smiles</th>\n",
       "      <th>selfies</th>\n",
       "      <th>len</th>\n",
       "    </tr>\n",
       "  </thead>\n",
       "  <tbody>\n",
       "    <tr>\n",
       "      <th>13309</th>\n",
       "      <td>[H]C#N</td>\n",
       "      <td>[H][C][#N]</td>\n",
       "      <td>6</td>\n",
       "    </tr>\n",
       "    <tr>\n",
       "      <th>18573</th>\n",
       "      <td>[H]O[H]</td>\n",
       "      <td>[H][O][H]</td>\n",
       "      <td>7</td>\n",
       "    </tr>\n",
       "    <tr>\n",
       "      <th>53523</th>\n",
       "      <td>n1nnon1</td>\n",
       "      <td>[N][N][=N][O][N][=Ring1][Branch1]</td>\n",
       "      <td>7</td>\n",
       "    </tr>\n",
       "    <tr>\n",
       "      <th>5210</th>\n",
       "      <td>[H]C#C[H]</td>\n",
       "      <td>[H][C][#C][H]</td>\n",
       "      <td>9</td>\n",
       "    </tr>\n",
       "    <tr>\n",
       "      <th>58883</th>\n",
       "      <td>N#CC#CC#N</td>\n",
       "      <td>[N][#C][C][#C][C][#N]</td>\n",
       "      <td>9</td>\n",
       "    </tr>\n",
       "  </tbody>\n",
       "</table>\n",
       "</div>"
      ],
      "text/plain": [
       "          smiles                            selfies  len\n",
       "13309     [H]C#N                         [H][C][#N]    6\n",
       "18573    [H]O[H]                          [H][O][H]    7\n",
       "53523    n1nnon1  [N][N][=N][O][N][=Ring1][Branch1]    7\n",
       "5210   [H]C#C[H]                      [H][C][#C][H]    9\n",
       "58883  N#CC#CC#N              [N][#C][C][#C][C][#N]    9"
      ]
     },
     "execution_count": 7,
     "metadata": {},
     "output_type": "execute_result"
    }
   ],
   "source": [
    "def process_smiles(smiles):\n",
    "    return sf.encoder(smiles)\n",
    "\n",
    "def keys_int(symbol_to_int):\n",
    "    d = {}\n",
    "    for i, key in enumerate(symbol_to_int.keys()):\n",
    "        d[i] = key\n",
    "    return d\n",
    "\n",
    "df[\"selfies\"] = df[\"smiles\"].apply(process_smiles)\n",
    "\n",
    "df[\"len\"] = df[\"smiles\"].apply(lambda x: len(x))\n",
    "df.sort_values(by=\"len\").head()"
   ]
  }
 ],
 "metadata": {
  "kernelspec": {
   "display_name": "env",
   "language": "python",
   "name": "python3"
  },
  "language_info": {
   "codemirror_mode": {
    "name": "ipython",
    "version": 3
   },
   "file_extension": ".py",
   "mimetype": "text/x-python",
   "name": "python",
   "nbconvert_exporter": "python",
   "pygments_lexer": "ipython3",
   "version": "3.10.9"
  },
  "orig_nbformat": 4,
  "vscode": {
   "interpreter": {
    "hash": "4df9ae2f3669d2915414309207e4c3fb96f9f71dd598ede9d89ce16f72233d5f"
   }
  }
 },
 "nbformat": 4,
 "nbformat_minor": 2
}
