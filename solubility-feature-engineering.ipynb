{
 "cells": [
  {
   "attachments": {},
   "cell_type": "markdown",
   "metadata": {},
   "source": [
    "# Preparation of Dataset for solubility prediction\n",
    "\n",
    "## Datasets\n",
    "\n",
    "1. [ESOL: Estimating Aqueous Solubility Directly from Molecular Structure](https://pubs.acs.org/doi/10.1021/ci034243x)\n",
    "2. [AqSolDB, a curated reference set of aqueous solubility and 2D descriptors for a diverse set of compounds](https://www.nature.com/articles/s41597-019-0151-1)\n",
    "3. [Is Experimental Data Quality the Limiting Factor in Predicting the Aqueous Solubility of Driglike Molecules](https://pubs.acs.org/doi/full/10.1021/mp500103r)"
   ]
  },
  {
   "attachments": {},
   "cell_type": "markdown",
   "metadata": {},
   "source": [
    "## Backgroud:\n",
    "\n",
    "Aqueous solubility is a key factor in drug discovery, since if a molecule is not soluble. it will typically be poorly bioavailable, making it difficult to perform <i>in-vivo</i> studies with it, and hence deliver to patients."
   ]
  },
  {
   "cell_type": "code",
   "execution_count": 301,
   "metadata": {},
   "outputs": [
    {
     "name": "stdout",
     "output_type": "stream",
     "text": [
      "Requirement already satisfied: rdkit in c:\\users\\user\\onedrive\\desktop\\github\\small-molecules\\env\\lib\\site-packages (2022.9.3)\n",
      "Requirement already satisfied: pandas in c:\\users\\user\\onedrive\\desktop\\github\\small-molecules\\env\\lib\\site-packages (1.5.2)\n",
      "Requirement already satisfied: numpy in c:\\users\\user\\onedrive\\desktop\\github\\small-molecules\\env\\lib\\site-packages (1.22.1)\n",
      "Requirement already satisfied: Pillow in c:\\users\\user\\onedrive\\desktop\\github\\small-molecules\\env\\lib\\site-packages (from rdkit) (9.3.0)\n",
      "Requirement already satisfied: python-dateutil>=2.8.1 in c:\\users\\user\\onedrive\\desktop\\github\\small-molecules\\env\\lib\\site-packages (from pandas) (2.8.2)\n",
      "Requirement already satisfied: pytz>=2020.1 in c:\\users\\user\\onedrive\\desktop\\github\\small-molecules\\env\\lib\\site-packages (from pandas) (2022.7)\n",
      "Requirement already satisfied: six>=1.5 in c:\\users\\user\\onedrive\\desktop\\github\\small-molecules\\env\\lib\\site-packages (from python-dateutil>=2.8.1->pandas) (1.16.0)\n"
     ]
    }
   ],
   "source": [
    "! pip install rdkit pandas numpy"
   ]
  },
  {
   "cell_type": "code",
   "execution_count": 302,
   "metadata": {},
   "outputs": [],
   "source": [
    "import math\n",
    "import numpy as np\n",
    "import pandas as pd\n",
    "from rdkit import Chem\n",
    "from rdkit.Chem import Descriptors"
   ]
  },
  {
   "cell_type": "code",
   "execution_count": 303,
   "metadata": {},
   "outputs": [],
   "source": [
    "def load_csv(path: str) -> pd.DataFrame:\n",
    "    return pd.read_csv(path)"
   ]
  },
  {
   "cell_type": "code",
   "execution_count": 304,
   "metadata": {},
   "outputs": [],
   "source": [
    "esol = load_csv(path=\"data/esol.csv\")\n",
    "aqsol = load_csv(path=\"data/solubility-dataset-train.csv\")\n",
    "dsl = load_csv(path=\"data/dsl-100-unique.csv\")"
   ]
  },
  {
   "cell_type": "code",
   "execution_count": 305,
   "metadata": {},
   "outputs": [
    {
     "name": "stdout",
     "output_type": "stream",
     "text": [
      "<class 'pandas.core.frame.DataFrame'>\n",
      "RangeIndex: 1128 entries, 0 to 1127\n",
      "Data columns (total 10 columns):\n",
      " #   Column                                           Non-Null Count  Dtype  \n",
      "---  ------                                           --------------  -----  \n",
      " 0   Compound ID                                      1128 non-null   object \n",
      " 1   ESOL predicted log solubility in mols per litre  1128 non-null   float64\n",
      " 2   Minimum Degree                                   1128 non-null   int64  \n",
      " 3   Molecular Weight                                 1128 non-null   float64\n",
      " 4   Number of H-Bond Donors                          1128 non-null   int64  \n",
      " 5   Number of Rings                                  1128 non-null   int64  \n",
      " 6   Number of Rotatable Bonds                        1128 non-null   int64  \n",
      " 7   Polar Surface Area                               1128 non-null   float64\n",
      " 8   measured log solubility in mols per litre        1128 non-null   float64\n",
      " 9   smiles                                           1128 non-null   object \n",
      "dtypes: float64(4), int64(4), object(2)\n",
      "memory usage: 88.2+ KB\n",
      "None\n"
     ]
    }
   ],
   "source": [
    "print(esol.info())"
   ]
  },
  {
   "cell_type": "code",
   "execution_count": 306,
   "metadata": {},
   "outputs": [
    {
     "name": "stdout",
     "output_type": "stream",
     "text": [
      "<class 'pandas.core.frame.DataFrame'>\n",
      "RangeIndex: 9982 entries, 0 to 9981\n",
      "Data columns (total 26 columns):\n",
      " #   Column               Non-Null Count  Dtype  \n",
      "---  ------               --------------  -----  \n",
      " 0   ID                   9982 non-null   object \n",
      " 1   Name                 9982 non-null   object \n",
      " 2   InChI                9982 non-null   object \n",
      " 3   InChIKey             9982 non-null   object \n",
      " 4   SMILES               9982 non-null   object \n",
      " 5   Solubility           9982 non-null   float64\n",
      " 6   SD                   9982 non-null   float64\n",
      " 7   Ocurrences           9982 non-null   int64  \n",
      " 8   Group                9982 non-null   object \n",
      " 9   MolWt                9982 non-null   float64\n",
      " 10  MolLogP              9982 non-null   float64\n",
      " 11  MolMR                9982 non-null   float64\n",
      " 12  HeavyAtomCount       9982 non-null   float64\n",
      " 13  NumHAcceptors        9982 non-null   float64\n",
      " 14  NumHDonors           9982 non-null   float64\n",
      " 15  NumHeteroatoms       9982 non-null   float64\n",
      " 16  NumRotatableBonds    9982 non-null   float64\n",
      " 17  NumValenceElectrons  9982 non-null   float64\n",
      " 18  NumAromaticRings     9982 non-null   float64\n",
      " 19  NumSaturatedRings    9982 non-null   float64\n",
      " 20  NumAliphaticRings    9982 non-null   float64\n",
      " 21  RingCount            9982 non-null   float64\n",
      " 22  TPSA                 9982 non-null   float64\n",
      " 23  LabuteASA            9982 non-null   float64\n",
      " 24  BalabanJ             9982 non-null   float64\n",
      " 25  BertzCT              9982 non-null   float64\n",
      "dtypes: float64(19), int64(1), object(6)\n",
      "memory usage: 2.0+ MB\n",
      "None\n"
     ]
    }
   ],
   "source": [
    "print(aqsol.info())"
   ]
  },
  {
   "cell_type": "code",
   "execution_count": 307,
   "metadata": {},
   "outputs": [
    {
     "name": "stdout",
     "output_type": "stream",
     "text": [
      "<class 'pandas.core.frame.DataFrame'>\n",
      "RangeIndex: 56 entries, 0 to 55\n",
      "Data columns (total 12 columns):\n",
      " #   Column                         Non-Null Count  Dtype  \n",
      "---  ------                         --------------  -----  \n",
      " 0   Unnamed: 0                     56 non-null     int64  \n",
      " 1   Chemical name                  56 non-null     object \n",
      " 2   Crystal structure CSD refcode  56 non-null     object \n",
      " 3   LogS exp (mol/L)               56 non-null     float64\n",
      " 4   Reference                      56 non-null     int64  \n",
      " 5   Test                           56 non-null     bool   \n",
      " 6   SMILES                         56 non-null     object \n",
      " 7   Smiles Source                  56 non-null     object \n",
      " 8   Chemspider reference number    56 non-null     int64  \n",
      " 9   InChl                          56 non-null     object \n",
      " 10  cansmi                         56 non-null     object \n",
      " 11  is_unique                      56 non-null     bool   \n",
      "dtypes: bool(2), float64(1), int64(3), object(6)\n",
      "memory usage: 4.6+ KB\n",
      "None\n"
     ]
    }
   ],
   "source": [
    "print(dsl.info())"
   ]
  },
  {
   "attachments": {},
   "cell_type": "markdown",
   "metadata": {},
   "source": [
    "## Calculating Molecular Descriptors\n",
    "\n",
    "To predict log(S), the study of Delaney used four molecular descriptors:\n",
    "- cLogP (Octanol-Water partition coefficient)\n",
    "- MW (Molecular Weight)\n",
    "- RB (Number of rotatable bonds)\n",
    "- AP (Aromatic proportion = Number of aromatic atoms / total number of heavy atoms)"
   ]
  },
  {
   "cell_type": "code",
   "execution_count": 308,
   "metadata": {},
   "outputs": [],
   "source": [
    "def get_number_aromatic_atoms(molecule) -> int:\n",
    "    \n",
    "    aromatic_atoms = [molecule.GetAtomWithIdx(idx).GetIsAromatic() for idx in range(molecule.GetNumAtoms())]\n",
    "    count = []\n",
    "    for _, value in enumerate(aromatic_atoms):\n",
    "        if value == True:\n",
    "            count.append(value)\n",
    "    sum_count = sum(count)\n",
    "    \n",
    "    return sum_count"
   ]
  },
  {
   "cell_type": "code",
   "execution_count": 309,
   "metadata": {},
   "outputs": [],
   "source": [
    "def calc_aromatic_descriptors(molecule) -> float:\n",
    "    aromatic_atoms: int = get_number_aromatic_atoms(molecule)\n",
    "    num_heavy_atoms: int = Descriptors.HeavyAtomCount(molecule)\n",
    "    \n",
    "    aromatic_proportion: float = aromatic_atoms / num_heavy_atoms\n",
    "    return aromatic_proportion"
   ]
  },
  {
   "cell_type": "code",
   "execution_count": 310,
   "metadata": {},
   "outputs": [],
   "source": [
    "def generate_dataset(molecules) -> pd.DataFrame:\n",
    "    smiles = []\n",
    "    rows = []\n",
    "\n",
    "    for molecule in molecules:\n",
    "        descriptor = Chem.MolFromSmiles(molecule)\n",
    "        smiles.append(descriptor)\n",
    "    \n",
    "    for smile in smiles:\n",
    "        mol_log_p: float = Descriptors.MolLogP(smile)\n",
    "        mol_weight: float = Descriptors.MolWt(smile)\n",
    "        num_rot_bonds: int = Descriptors.NumRotatableBonds(smile)\n",
    "        aromatic_proportion: float = calc_aromatic_descriptors(smile)\n",
    "        \n",
    "        row = [smile, mol_log_p, mol_weight, num_rot_bonds, aromatic_proportion]\n",
    "        rows.append(row)\n",
    "    \n",
    "    df = pd.DataFrame(data=rows, columns=[\"SMILES\", \"MolLogP\", \"MolWeight\", \"NumRotatableBonds\", \"AromaticProportion\"])\n",
    "    return df"
   ]
  },
  {
   "cell_type": "code",
   "execution_count": 311,
   "metadata": {},
   "outputs": [
    {
     "name": "stderr",
     "output_type": "stream",
     "text": [
      "[02:22:56] WARNING: not removing hydrogen atom without neighbors\n",
      "[02:22:56] WARNING: not removing hydrogen atom without neighbors\n",
      "[02:22:56] WARNING: not removing hydrogen atom without neighbors\n",
      "[02:22:56] WARNING: not removing hydrogen atom without neighbors\n",
      "[02:22:56] WARNING: not removing hydrogen atom without neighbors\n",
      "[02:22:56] WARNING: not removing hydrogen atom without neighbors\n",
      "[02:22:56] WARNING: not removing hydrogen atom without neighbors\n",
      "[02:22:56] WARNING: not removing hydrogen atom without neighbors\n",
      "[02:22:56] WARNING: not removing hydrogen atom without neighbors\n",
      "[02:22:56] WARNING: not removing hydrogen atom without neighbors\n",
      "[02:22:56] WARNING: not removing hydrogen atom without neighbors\n",
      "[02:22:56] WARNING: not removing hydrogen atom without neighbors\n",
      "[02:22:57] WARNING: not removing hydrogen atom without neighbors\n",
      "[02:22:57] WARNING: not removing hydrogen atom without neighbors\n",
      "[02:22:57] WARNING: not removing hydrogen atom without neighbors\n",
      "[02:22:57] WARNING: not removing hydrogen atom without neighbors\n",
      "[02:22:57] WARNING: not removing hydrogen atom without neighbors\n",
      "[02:22:57] WARNING: not removing hydrogen atom without neighbors\n",
      "[02:22:57] WARNING: not removing hydrogen atom without neighbors\n",
      "[02:22:57] WARNING: not removing hydrogen atom without neighbors\n",
      "[02:22:57] WARNING: not removing hydrogen atom without neighbors\n",
      "[02:22:57] WARNING: not removing hydrogen atom without neighbors\n",
      "[02:22:57] WARNING: not removing hydrogen atom without neighbors\n",
      "[02:22:57] WARNING: not removing hydrogen atom without neighbors\n",
      "[02:22:57] WARNING: not removing hydrogen atom without neighbors\n",
      "[02:22:57] WARNING: not removing hydrogen atom without neighbors\n",
      "[02:22:57] WARNING: not removing hydrogen atom without neighbors\n",
      "[02:22:57] WARNING: not removing hydrogen atom without neighbors\n",
      "[02:22:57] WARNING: not removing hydrogen atom without neighbors\n",
      "[02:22:57] WARNING: not removing hydrogen atom without neighbors\n",
      "[02:22:57] WARNING: not removing hydrogen atom without neighbors\n",
      "[02:22:57] WARNING: not removing hydrogen atom without neighbors\n",
      "[02:22:57] WARNING: not removing hydrogen atom without neighbors\n",
      "[02:22:57] WARNING: not removing hydrogen atom without neighbors\n",
      "[02:22:57] WARNING: not removing hydrogen atom without neighbors\n",
      "[02:22:57] WARNING: not removing hydrogen atom without neighbors\n",
      "[02:22:57] WARNING: not removing hydrogen atom without neighbors\n",
      "[02:22:57] WARNING: not removing hydrogen atom without neighbors\n",
      "[02:22:57] WARNING: not removing hydrogen atom without neighbors\n",
      "[02:22:57] WARNING: not removing hydrogen atom without neighbors\n",
      "[02:22:57] WARNING: not removing hydrogen atom without neighbors\n",
      "[02:22:57] WARNING: not removing hydrogen atom without neighbors\n",
      "[02:22:57] WARNING: not removing hydrogen atom without neighbors\n",
      "[02:22:57] WARNING: not removing hydrogen atom without neighbors\n",
      "[02:22:57] WARNING: not removing hydrogen atom without neighbors\n",
      "[02:22:57] WARNING: not removing hydrogen atom without neighbors\n",
      "[02:22:57] WARNING: not removing hydrogen atom without neighbors\n",
      "[02:22:57] WARNING: not removing hydrogen atom without neighbors\n",
      "[02:22:57] WARNING: not removing hydrogen atom without neighbors\n",
      "[02:22:57] WARNING: not removing hydrogen atom without neighbors\n",
      "[02:22:57] WARNING: not removing hydrogen atom without neighbors\n",
      "[02:22:57] WARNING: not removing hydrogen atom without neighbors\n",
      "[02:22:57] WARNING: not removing hydrogen atom without neighbors\n",
      "[02:22:57] WARNING: not removing hydrogen atom without neighbors\n",
      "[02:22:57] WARNING: not removing hydrogen atom without neighbors\n",
      "[02:22:57] WARNING: not removing hydrogen atom without neighbors\n",
      "[02:22:58] WARNING: not removing hydrogen atom without neighbors\n",
      "[02:22:58] WARNING: not removing hydrogen atom without neighbors\n",
      "[02:22:58] WARNING: not removing hydrogen atom without neighbors\n",
      "[02:22:58] WARNING: not removing hydrogen atom without neighbors\n",
      "[02:22:58] WARNING: not removing hydrogen atom without neighbors\n",
      "[02:22:58] WARNING: not removing hydrogen atom without neighbors\n",
      "[02:22:58] WARNING: not removing hydrogen atom without neighbors\n",
      "[02:22:58] WARNING: not removing hydrogen atom without neighbors\n",
      "[02:22:58] WARNING: not removing hydrogen atom without neighbors\n"
     ]
    }
   ],
   "source": [
    "esol_parsed = generate_dataset(molecules=esol[\"smiles\"])\n",
    "aqsol_parsed = generate_dataset(molecules=aqsol[\"SMILES\"])\n",
    "dsl_parsed = generate_dataset(molecules=dsl[\"SMILES\"])"
   ]
  },
  {
   "cell_type": "code",
   "execution_count": 312,
   "metadata": {},
   "outputs": [
    {
     "data": {
      "text/plain": [
       "array(['Compound ID', 'ESOL predicted log solubility in mols per litre',\n",
       "       'Minimum Degree', 'Molecular Weight', 'Number of H-Bond Donors',\n",
       "       'Number of Rings', 'Number of Rotatable Bonds',\n",
       "       'Polar Surface Area', 'measured log solubility in mols per litre',\n",
       "       'smiles'], dtype=object)"
      ]
     },
     "execution_count": 312,
     "metadata": {},
     "output_type": "execute_result"
    }
   ],
   "source": [
    "esol.columns.values # y = measured log solubility in mols / L"
   ]
  },
  {
   "cell_type": "code",
   "execution_count": 313,
   "metadata": {},
   "outputs": [
    {
     "data": {
      "text/plain": [
       "array(['ID', 'Name', 'InChI', 'InChIKey', 'SMILES', 'Solubility', 'SD',\n",
       "       'Ocurrences', 'Group', 'MolWt', 'MolLogP', 'MolMR',\n",
       "       'HeavyAtomCount', 'NumHAcceptors', 'NumHDonors', 'NumHeteroatoms',\n",
       "       'NumRotatableBonds', 'NumValenceElectrons', 'NumAromaticRings',\n",
       "       'NumSaturatedRings', 'NumAliphaticRings', 'RingCount', 'TPSA',\n",
       "       'LabuteASA', 'BalabanJ', 'BertzCT'], dtype=object)"
      ]
     },
     "execution_count": 313,
     "metadata": {},
     "output_type": "execute_result"
    }
   ],
   "source": [
    "aqsol.columns.values # y = Solubility (reported as LogS (mol/L))"
   ]
  },
  {
   "cell_type": "code",
   "execution_count": 314,
   "metadata": {},
   "outputs": [
    {
     "data": {
      "text/plain": [
       "array(['Unnamed: 0', 'Chemical name', 'Crystal structure CSD refcode',\n",
       "       'LogS exp (mol/L)', 'Reference', 'Test', 'SMILES', 'Smiles Source',\n",
       "       'Chemspider reference number', 'InChl', 'cansmi', 'is_unique'],\n",
       "      dtype=object)"
      ]
     },
     "execution_count": 314,
     "metadata": {},
     "output_type": "execute_result"
    }
   ],
   "source": [
    "dsl.columns.values # y = LogS exp (mol/L)"
   ]
  },
  {
   "cell_type": "code",
   "execution_count": 315,
   "metadata": {},
   "outputs": [
    {
     "data": {
      "text/html": [
       "<div>\n",
       "<style scoped>\n",
       "    .dataframe tbody tr th:only-of-type {\n",
       "        vertical-align: middle;\n",
       "    }\n",
       "\n",
       "    .dataframe tbody tr th {\n",
       "        vertical-align: top;\n",
       "    }\n",
       "\n",
       "    .dataframe thead th {\n",
       "        text-align: right;\n",
       "    }\n",
       "</style>\n",
       "<table border=\"1\" class=\"dataframe\">\n",
       "  <thead>\n",
       "    <tr style=\"text-align: right;\">\n",
       "      <th></th>\n",
       "      <th>MolLogP</th>\n",
       "      <th>MolWeight</th>\n",
       "      <th>NumRotatableBonds</th>\n",
       "      <th>AromaticProportion</th>\n",
       "      <th>y</th>\n",
       "    </tr>\n",
       "  </thead>\n",
       "  <tbody>\n",
       "    <tr>\n",
       "      <th>0</th>\n",
       "      <td>-1.514901</td>\n",
       "      <td>1.103667</td>\n",
       "      <td>0.572566</td>\n",
       "      <td>-0.435543</td>\n",
       "      <td>-0.77</td>\n",
       "    </tr>\n",
       "    <tr>\n",
       "      <th>1</th>\n",
       "      <td>0.239799</td>\n",
       "      <td>-0.330717</td>\n",
       "      <td>-0.345172</td>\n",
       "      <td>1.368067</td>\n",
       "      <td>-3.30</td>\n",
       "    </tr>\n",
       "    <tr>\n",
       "      <th>2</th>\n",
       "      <td>0.250914</td>\n",
       "      <td>-0.604978</td>\n",
       "      <td>0.021923</td>\n",
       "      <td>-1.055104</td>\n",
       "      <td>-2.06</td>\n",
       "    </tr>\n",
       "    <tr>\n",
       "      <th>3</th>\n",
       "      <td>1.260193</td>\n",
       "      <td>0.101092</td>\n",
       "      <td>-0.712267</td>\n",
       "      <td>2.249220</td>\n",
       "      <td>-7.87</td>\n",
       "    </tr>\n",
       "    <tr>\n",
       "      <th>4</th>\n",
       "      <td>-0.082395</td>\n",
       "      <td>-0.986205</td>\n",
       "      <td>-0.712267</td>\n",
       "      <td>2.249220</td>\n",
       "      <td>-1.33</td>\n",
       "    </tr>\n",
       "  </tbody>\n",
       "</table>\n",
       "</div>"
      ],
      "text/plain": [
       "    MolLogP  MolWeight  NumRotatableBonds  AromaticProportion     y\n",
       "0 -1.514901   1.103667           0.572566           -0.435543 -0.77\n",
       "1  0.239799  -0.330717          -0.345172            1.368067 -3.30\n",
       "2  0.250914  -0.604978           0.021923           -1.055104 -2.06\n",
       "3  1.260193   0.101092          -0.712267            2.249220 -7.87\n",
       "4 -0.082395  -0.986205          -0.712267            2.249220 -1.33"
      ]
     },
     "execution_count": 315,
     "metadata": {},
     "output_type": "execute_result"
    }
   ],
   "source": [
    "from sklearn.preprocessing import StandardScaler\n",
    "\n",
    "tmp_train = pd.concat([esol_parsed, aqsol_parsed], axis=0)\n",
    "X_train = tmp_train[[\"MolLogP\", \"MolWeight\", \"NumRotatableBonds\", \"AromaticProportion\"]]\n",
    "\n",
    "scaler = StandardScaler().fit(X_train)\n",
    "X_train = scaler.transform(X_train)\n",
    "train_dataset = pd.DataFrame(columns=[\"MolLogP\", \"MolWeight\", \"NumRotatableBonds\", \"AromaticProportion\"], data=X_train)\n",
    "\n",
    "y, y_aqsol = list(esol[\"measured log solubility in mols per litre\"]), list(aqsol[\"Solubility\"])\n",
    "y.extend(y_aqsol)\n",
    "\n",
    "train_dataset[\"y\"] = y\n",
    "\n",
    "train_dataset.head()\n"
   ]
  },
  {
   "cell_type": "code",
   "execution_count": 316,
   "metadata": {},
   "outputs": [
    {
     "data": {
      "text/plain": [
       "array([[<AxesSubplot: title={'center': 'MolLogP'}>,\n",
       "        <AxesSubplot: title={'center': 'MolWeight'}>],\n",
       "       [<AxesSubplot: title={'center': 'NumRotatableBonds'}>,\n",
       "        <AxesSubplot: title={'center': 'AromaticProportion'}>]],\n",
       "      dtype=object)"
      ]
     },
     "execution_count": 316,
     "metadata": {},
     "output_type": "execute_result"
    },
    {
     "data": {
      "image/png": "[encoded data removed]",
      "text/plain": [
       "<Figure size 640x480 with 4 Axes>"
      ]
     },
     "metadata": {},
     "output_type": "display_data"
    }
   ],
   "source": [
    "pd.DataFrame(columns=[\"MolLogP\", \"MolWeight\", \"NumRotatableBonds\", \"AromaticProportion\"], data=X_train).hist()"
   ]
  },
  {
   "cell_type": "code",
   "execution_count": 317,
   "metadata": {},
   "outputs": [
    {
     "data": {
      "text/html": [
       "<div>\n",
       "<style scoped>\n",
       "    .dataframe tbody tr th:only-of-type {\n",
       "        vertical-align: middle;\n",
       "    }\n",
       "\n",
       "    .dataframe tbody tr th {\n",
       "        vertical-align: top;\n",
       "    }\n",
       "\n",
       "    .dataframe thead th {\n",
       "        text-align: right;\n",
       "    }\n",
       "</style>\n",
       "<table border=\"1\" class=\"dataframe\">\n",
       "  <thead>\n",
       "    <tr style=\"text-align: right;\">\n",
       "      <th></th>\n",
       "      <th>MolLogP</th>\n",
       "      <th>MolWeight</th>\n",
       "      <th>NumRotatableBonds</th>\n",
       "      <th>AromaticProportion</th>\n",
       "      <th>y</th>\n",
       "    </tr>\n",
       "  </thead>\n",
       "  <tbody>\n",
       "    <tr>\n",
       "      <th>0</th>\n",
       "      <td>-1.182146</td>\n",
       "      <td>0.038898</td>\n",
       "      <td>-0.345172</td>\n",
       "      <td>0.510102</td>\n",
       "      <td>-1.73</td>\n",
       "    </tr>\n",
       "    <tr>\n",
       "      <th>1</th>\n",
       "      <td>-0.580809</td>\n",
       "      <td>-0.695244</td>\n",
       "      <td>-0.712267</td>\n",
       "      <td>1.918788</td>\n",
       "      <td>-2.26</td>\n",
       "    </tr>\n",
       "    <tr>\n",
       "      <th>2</th>\n",
       "      <td>-0.227087</td>\n",
       "      <td>0.168101</td>\n",
       "      <td>0.205471</td>\n",
       "      <td>0.833081</td>\n",
       "      <td>-2.95</td>\n",
       "    </tr>\n",
       "    <tr>\n",
       "      <th>3</th>\n",
       "      <td>-0.189564</td>\n",
       "      <td>-0.773573</td>\n",
       "      <td>-0.528719</td>\n",
       "      <td>1.147779</td>\n",
       "      <td>-1.58</td>\n",
       "    </tr>\n",
       "    <tr>\n",
       "      <th>4</th>\n",
       "      <td>-0.212810</td>\n",
       "      <td>-0.117469</td>\n",
       "      <td>0.021923</td>\n",
       "      <td>0.111128</td>\n",
       "      <td>-1.22</td>\n",
       "    </tr>\n",
       "  </tbody>\n",
       "</table>\n",
       "</div>"
      ],
      "text/plain": [
       "    MolLogP  MolWeight  NumRotatableBonds  AromaticProportion     y\n",
       "0 -1.182146   0.038898          -0.345172            0.510102 -1.73\n",
       "1 -0.580809  -0.695244          -0.712267            1.918788 -2.26\n",
       "2 -0.227087   0.168101           0.205471            0.833081 -2.95\n",
       "3 -0.189564  -0.773573          -0.528719            1.147779 -1.58\n",
       "4 -0.212810  -0.117469           0.021923            0.111128 -1.22"
      ]
     },
     "execution_count": 317,
     "metadata": {},
     "output_type": "execute_result"
    }
   ],
   "source": [
    "X_test = dsl_parsed[[\"MolLogP\", \"MolWeight\", \"NumRotatableBonds\", \"AromaticProportion\"]]\n",
    "X_test = scaler.transform(X_test)\n",
    "test_dataset = pd.DataFrame(columns=[\"MolLogP\", \"MolWeight\", \"NumRotatableBonds\", \"AromaticProportion\"], data=X_test)\n",
    "test_dataset[\"y\"] = dsl[\"LogS exp (mol/L)\"]\n",
    "\n",
    "test_dataset.head()"
   ]
  },
  {
   "cell_type": "code",
   "execution_count": 318,
   "metadata": {},
   "outputs": [
    {
     "name": "stdout",
     "output_type": "stream",
     "text": [
      "Training dataset:  (11110, 5)\n",
      "Testing dataset:  (56, 5)\n"
     ]
    }
   ],
   "source": [
    "print(\"Training dataset: \", train_dataset.shape)\n",
    "print(\"Testing dataset: \", test_dataset.shape)"
   ]
  },
  {
   "cell_type": "code",
   "execution_count": 319,
   "metadata": {},
   "outputs": [
    {
     "data": {
      "text/plain": [
       "array([[<AxesSubplot: title={'center': 'MolLogP'}>,\n",
       "        <AxesSubplot: title={'center': 'MolWeight'}>],\n",
       "       [<AxesSubplot: title={'center': 'NumRotatableBonds'}>,\n",
       "        <AxesSubplot: title={'center': 'AromaticProportion'}>]],\n",
       "      dtype=object)"
      ]
     },
     "execution_count": 319,
     "metadata": {},
     "output_type": "execute_result"
    },
    {
     "data": {
      "image/png": "[encoded data removed]",
      "text/plain": [
       "<Figure size 640x480 with 4 Axes>"
      ]
     },
     "metadata": {},
     "output_type": "display_data"
    }
   ],
   "source": [
    "pd.DataFrame(columns=[\"MolLogP\", \"MolWeight\", \"NumRotatableBonds\", \"AromaticProportion\"], data=X_test).hist()"
   ]
  },
  {
   "cell_type": "code",
   "execution_count": 320,
   "metadata": {},
   "outputs": [
    {
     "data": {
      "text/html": [
       "<div>\n",
       "<style scoped>\n",
       "    .dataframe tbody tr th:only-of-type {\n",
       "        vertical-align: middle;\n",
       "    }\n",
       "\n",
       "    .dataframe tbody tr th {\n",
       "        vertical-align: top;\n",
       "    }\n",
       "\n",
       "    .dataframe thead th {\n",
       "        text-align: right;\n",
       "    }\n",
       "</style>\n",
       "<table border=\"1\" class=\"dataframe\">\n",
       "  <thead>\n",
       "    <tr style=\"text-align: right;\">\n",
       "      <th></th>\n",
       "      <th>MolLogP</th>\n",
       "      <th>MolWeight</th>\n",
       "      <th>NumRotatableBonds</th>\n",
       "      <th>AromaticProportion</th>\n",
       "      <th>y</th>\n",
       "    </tr>\n",
       "  </thead>\n",
       "  <tbody>\n",
       "    <tr>\n",
       "      <th>365</th>\n",
       "      <td>-0.457474</td>\n",
       "      <td>-1.008896</td>\n",
       "      <td>-0.712267</td>\n",
       "      <td>2.249220</td>\n",
       "      <td>1.100</td>\n",
       "    </tr>\n",
       "    <tr>\n",
       "      <th>465</th>\n",
       "      <td>-0.391455</td>\n",
       "      <td>-0.157084</td>\n",
       "      <td>-0.345172</td>\n",
       "      <td>0.111128</td>\n",
       "      <td>-2.322</td>\n",
       "    </tr>\n",
       "    <tr>\n",
       "      <th>500</th>\n",
       "      <td>0.545963</td>\n",
       "      <td>0.747723</td>\n",
       "      <td>0.756113</td>\n",
       "      <td>-0.193106</td>\n",
       "      <td>-6.340</td>\n",
       "    </tr>\n",
       "    <tr>\n",
       "      <th>612</th>\n",
       "      <td>-0.097044</td>\n",
       "      <td>-0.857366</td>\n",
       "      <td>-0.712267</td>\n",
       "      <td>1.423139</td>\n",
       "      <td>0.380</td>\n",
       "    </tr>\n",
       "    <tr>\n",
       "      <th>886</th>\n",
       "      <td>0.005365</td>\n",
       "      <td>-0.737546</td>\n",
       "      <td>-0.712267</td>\n",
       "      <td>1.423139</td>\n",
       "      <td>-0.700</td>\n",
       "    </tr>\n",
       "    <tr>\n",
       "      <th>...</th>\n",
       "      <td>...</td>\n",
       "      <td>...</td>\n",
       "      <td>...</td>\n",
       "      <td>...</td>\n",
       "      <td>...</td>\n",
       "    </tr>\n",
       "    <tr>\n",
       "      <th>11012</th>\n",
       "      <td>1.547690</td>\n",
       "      <td>0.563128</td>\n",
       "      <td>-0.528719</td>\n",
       "      <td>1.147779</td>\n",
       "      <td>-8.560</td>\n",
       "    </tr>\n",
       "    <tr>\n",
       "      <th>11073</th>\n",
       "      <td>-0.423344</td>\n",
       "      <td>0.762235</td>\n",
       "      <td>0.389018</td>\n",
       "      <td>-0.419657</td>\n",
       "      <td>-2.940</td>\n",
       "    </tr>\n",
       "    <tr>\n",
       "      <th>11079</th>\n",
       "      <td>0.011501</td>\n",
       "      <td>0.543550</td>\n",
       "      <td>-0.161624</td>\n",
       "      <td>0.215790</td>\n",
       "      <td>-2.900</td>\n",
       "    </tr>\n",
       "    <tr>\n",
       "      <th>11098</th>\n",
       "      <td>0.337995</td>\n",
       "      <td>0.359017</td>\n",
       "      <td>0.021923</td>\n",
       "      <td>0.321698</td>\n",
       "      <td>-2.790</td>\n",
       "    </tr>\n",
       "    <tr>\n",
       "      <th>11103</th>\n",
       "      <td>0.493868</td>\n",
       "      <td>0.773174</td>\n",
       "      <td>0.389018</td>\n",
       "      <td>1.069105</td>\n",
       "      <td>-6.140</td>\n",
       "    </tr>\n",
       "  </tbody>\n",
       "</table>\n",
       "<p>317 rows × 5 columns</p>\n",
       "</div>"
      ],
      "text/plain": [
       "        MolLogP  MolWeight  NumRotatableBonds  AromaticProportion      y\n",
       "365   -0.457474  -1.008896          -0.712267            2.249220  1.100\n",
       "465   -0.391455  -0.157084          -0.345172            0.111128 -2.322\n",
       "500    0.545963   0.747723           0.756113           -0.193106 -6.340\n",
       "612   -0.097044  -0.857366          -0.712267            1.423139  0.380\n",
       "886    0.005365  -0.737546          -0.712267            1.423139 -0.700\n",
       "...         ...        ...                ...                 ...    ...\n",
       "11012  1.547690   0.563128          -0.528719            1.147779 -8.560\n",
       "11073 -0.423344   0.762235           0.389018           -0.419657 -2.940\n",
       "11079  0.011501   0.543550          -0.161624            0.215790 -2.900\n",
       "11098  0.337995   0.359017           0.021923            0.321698 -2.790\n",
       "11103  0.493868   0.773174           0.389018            1.069105 -6.140\n",
       "\n",
       "[317 rows x 5 columns]"
      ]
     },
     "execution_count": 320,
     "metadata": {},
     "output_type": "execute_result"
    }
   ],
   "source": [
    "train_dataset[train_dataset.duplicated()]"
   ]
  },
  {
   "cell_type": "code",
   "execution_count": 321,
   "metadata": {},
   "outputs": [
    {
     "name": "stdout",
     "output_type": "stream",
     "text": [
      "Requirement already satisfied: scikit-learn in c:\\users\\user\\onedrive\\desktop\\github\\small-molecules\\env\\lib\\site-packages (1.2.0)\n",
      "Requirement already satisfied: lightgbm in c:\\users\\user\\onedrive\\desktop\\github\\small-molecules\\env\\lib\\site-packages (3.3.3)\n",
      "Requirement already satisfied: xgboost in c:\\users\\user\\onedrive\\desktop\\github\\small-molecules\\env\\lib\\site-packages (1.7.2)\n",
      "Requirement already satisfied: scipy>=1.3.2 in c:\\users\\user\\onedrive\\desktop\\github\\small-molecules\\env\\lib\\site-packages (from scikit-learn) (1.7.3)\n",
      "Requirement already satisfied: joblib>=1.1.1 in c:\\users\\user\\onedrive\\desktop\\github\\small-molecules\\env\\lib\\site-packages (from scikit-learn) (1.2.0)\n",
      "Requirement already satisfied: threadpoolctl>=2.0.0 in c:\\users\\user\\onedrive\\desktop\\github\\small-molecules\\env\\lib\\site-packages (from scikit-learn) (3.1.0)\n",
      "Requirement already satisfied: numpy>=1.17.3 in c:\\users\\user\\onedrive\\desktop\\github\\small-molecules\\env\\lib\\site-packages (from scikit-learn) (1.22.1)\n",
      "Requirement already satisfied: wheel in c:\\users\\user\\onedrive\\desktop\\github\\small-molecules\\env\\lib\\site-packages (from lightgbm) (0.38.4)\n"
     ]
    }
   ],
   "source": [
    "! pip install scikit-learn lightgbm xgboost"
   ]
  },
  {
   "cell_type": "code",
   "execution_count": 322,
   "metadata": {},
   "outputs": [
    {
     "name": "stdout",
     "output_type": "stream",
     "text": [
      "Training dataset statistics: linear-regression \n",
      "\n",
      "Coefficients:  [-1.35620427 -0.73790469  0.41853347 -0.22668507]\n",
      "Intercept:  -2.90617323936847\n",
      "RMSE: 1.716\n",
      "MAE: 1.254\n",
      "Coefficient of Correlation: 0.464\n",
      "===============================================\n",
      "\n",
      "Training dataset statistics: random-forest \n",
      "\n",
      "RMSE: 0.479\n",
      "MAE: 0.318\n",
      "Coefficient of Correlation: 0.958\n",
      "===============================================\n",
      "\n",
      "Training dataset statistics: lightgbm-regressor \n",
      "\n",
      "RMSE: 1.101\n",
      "MAE: 0.782\n",
      "Coefficient of Correlation: 0.779\n",
      "===============================================\n",
      "\n",
      "Training dataset statistics: xgboost-regressor \n",
      "\n",
      "RMSE: 0.877\n",
      "MAE: 0.627\n",
      "Coefficient of Correlation: 0.860\n",
      "===============================================\n",
      "\n"
     ]
    }
   ],
   "source": [
    "from xgboost.sklearn import XGBRegressor\n",
    "from lightgbm.sklearn import LGBMRegressor\n",
    "\n",
    "\n",
    "from sklearn.linear_model import LinearRegression\n",
    "from sklearn.ensemble import RandomForestRegressor\n",
    "from sklearn.metrics import mean_squared_error, r2_score, mean_absolute_error\n",
    "from sklearn.model_selection import train_test_split\n",
    "\n",
    "X_dataset, y = train_dataset[[\"MolLogP\", \"MolWeight\", \"NumRotatableBonds\", \"AromaticProportion\"]], train_dataset[\"y\"]\n",
    "\n",
    "\n",
    "models = {\n",
    "    \"linear-regression\": LinearRegression().fit(X_dataset, y),\n",
    "    \"random-forest\": RandomForestRegressor().fit(X_dataset, y),\n",
    "    \"lightgbm-regressor\": LGBMRegressor().fit(X_dataset, y),\n",
    "    \"xgboost-regressor\": XGBRegressor().fit(X_dataset, y)\n",
    "}\n",
    "\n",
    "for key, model in models.items():\n",
    "    print(f\"Training dataset statistics: {key} \\n\")\n",
    "    \n",
    "    pred_train = model.predict(X_dataset)\n",
    "    \n",
    "    if key == \"linear-regression\":\n",
    "        print(\"Coefficients: \", model.coef_)\n",
    "        print(\"Intercept: \", model.intercept_)\n",
    "        \n",
    "    print(f\"RMSE: {math.sqrt(mean_squared_error(y, pred_train)):.3f}\")\n",
    "    print(f\"MAE: {mean_absolute_error(y, pred_train):.3f}\")\n",
    "    print(f\"Coefficient of Correlation: {r2_score(y, pred_train):.3f}\")\n",
    "    \n",
    "    print(\"===============================================\\n\")\n",
    "\n"
   ]
  },
  {
   "cell_type": "code",
   "execution_count": 323,
   "metadata": {},
   "outputs": [
    {
     "name": "stdout",
     "output_type": "stream",
     "text": [
      "Training dataset statistics: linear-regression \n",
      "\n",
      "RMSE: 1.122\n",
      "MAE: 0.883\n",
      "Coefficient of Correlation: 0.543\n",
      "===============================================\n",
      "\n",
      "Training dataset statistics: random-forest \n",
      "\n",
      "RMSE: 0.607\n",
      "MAE: 0.397\n",
      "Coefficient of Correlation: 0.866\n",
      "===============================================\n",
      "\n",
      "Training dataset statistics: lightgbm-regressor \n",
      "\n",
      "RMSE: 0.927\n",
      "MAE: 0.721\n",
      "Coefficient of Correlation: 0.688\n",
      "===============================================\n",
      "\n",
      "Training dataset statistics: xgboost-regressor \n",
      "\n",
      "RMSE: 0.938\n",
      "MAE: 0.712\n",
      "Coefficient of Correlation: 0.680\n",
      "===============================================\n",
      "\n"
     ]
    }
   ],
   "source": [
    "X_test, y_test = test_dataset[[\"MolLogP\", \"MolWeight\", \"NumRotatableBonds\", \"AromaticProportion\"]], test_dataset[\"y\"]\n",
    "\n",
    "for key, model in models.items():\n",
    "    print(f\"Training dataset statistics: {key} \\n\")\n",
    "    \n",
    "    pred_train = model.predict(X_test)\n",
    "        \n",
    "    print(f\"RMSE: {math.sqrt(mean_squared_error(y_test, pred_train)):.3f}\")\n",
    "    print(f\"MAE: {mean_absolute_error(y_test, pred_train):.3f}\")\n",
    "    print(f\"Coefficient of Correlation: {r2_score(y_test, pred_train):.3f}\")\n",
    "    \n",
    "    print(\"===============================================\\n\")"
   ]
  },
  {
   "cell_type": "code",
   "execution_count": 324,
   "metadata": {},
   "outputs": [
    {
     "name": "stdout",
     "output_type": "stream",
     "text": [
      "Baseline model: Linear regression \n",
      "\n",
      "RMSE: 1.122\n",
      "MAE: 0.883\n",
      "Coefficient of Correlation: 0.543\n"
     ]
    }
   ],
   "source": [
    "print(\"Baseline model: Linear regression \\n\")\n",
    "pred_train = models[\"linear-regression\"].predict(X_test)\n",
    "        \n",
    "print(f\"RMSE: {math.sqrt(mean_squared_error(y_test, pred_train)):.3f}\")\n",
    "print(f\"MAE: {mean_absolute_error(y_test, pred_train):.3f}\")\n",
    "print(f\"Coefficient of Correlation: {r2_score(y_test, pred_train):.3f}\")"
   ]
  },
  {
   "cell_type": "code",
   "execution_count": 325,
   "metadata": {},
   "outputs": [
    {
     "name": "stdout",
     "output_type": "stream",
     "text": [
      "Best model: Random Forest Regression \n",
      "\n",
      "RMSE: 0.607\n",
      "MAE: 0.397\n",
      "Coefficient of Correlation: 0.866\n"
     ]
    }
   ],
   "source": [
    "print(\"Best model: Random Forest Regression \\n\")\n",
    "pred_train = models[\"random-forest\"].predict(X_test)\n",
    "        \n",
    "print(f\"RMSE: {math.sqrt(mean_squared_error(y_test, pred_train)):.3f}\")\n",
    "print(f\"MAE: {mean_absolute_error(y_test, pred_train):.3f}\")\n",
    "print(f\"Coefficient of Correlation: {r2_score(y_test, pred_train):.3f}\")"
   ]
  },
  {
   "cell_type": "code",
   "execution_count": 326,
   "metadata": {},
   "outputs": [],
   "source": [
    "train_dataset.to_csv(\"data/processed/esol-aqsol-training-set-standard.csv\", index=False)\n",
    "test_dataset.to_csv(\"data/processed/dsl-100-test-set-standard.csv\", index=False)"
   ]
  },
  {
   "attachments": {},
   "cell_type": "markdown",
   "metadata": {},
   "source": [
    "### Use optuna for hyperparameter tuning"
   ]
  },
  {
   "cell_type": "code",
   "execution_count": 327,
   "metadata": {},
   "outputs": [
    {
     "name": "stdout",
     "output_type": "stream",
     "text": [
      "Requirement already satisfied: optuna in c:\\users\\user\\onedrive\\desktop\\github\\small-molecules\\env\\lib\\site-packages (3.0.5)\n",
      "Requirement already satisfied: importlib-metadata<5.0.0 in c:\\users\\user\\onedrive\\desktop\\github\\small-molecules\\env\\lib\\site-packages (from optuna) (4.13.0)\n",
      "Requirement already satisfied: tqdm in c:\\users\\user\\onedrive\\desktop\\github\\small-molecules\\env\\lib\\site-packages (from optuna) (4.64.1)\n",
      "Requirement already satisfied: packaging>=20.0 in c:\\users\\user\\onedrive\\desktop\\github\\small-molecules\\env\\lib\\site-packages (from optuna) (22.0)\n",
      "Requirement already satisfied: cliff in c:\\users\\user\\onedrive\\desktop\\github\\small-molecules\\env\\lib\\site-packages (from optuna) (4.1.0)\n",
      "Requirement already satisfied: cmaes>=0.8.2 in c:\\users\\user\\onedrive\\desktop\\github\\small-molecules\\env\\lib\\site-packages (from optuna) (0.9.0)\n",
      "Requirement already satisfied: colorlog in c:\\users\\user\\onedrive\\desktop\\github\\small-molecules\\env\\lib\\site-packages (from optuna) (6.7.0)\n",
      "Requirement already satisfied: PyYAML in c:\\users\\user\\onedrive\\desktop\\github\\small-molecules\\env\\lib\\site-packages (from optuna) (6.0)\n",
      "Requirement already satisfied: alembic>=1.5.0 in c:\\users\\user\\onedrive\\desktop\\github\\small-molecules\\env\\lib\\site-packages (from optuna) (1.9.1)\n",
      "Requirement already satisfied: scipy<1.9.0,>=1.7.0 in c:\\users\\user\\onedrive\\desktop\\github\\small-molecules\\env\\lib\\site-packages (from optuna) (1.7.3)\n",
      "Requirement already satisfied: numpy in c:\\users\\user\\onedrive\\desktop\\github\\small-molecules\\env\\lib\\site-packages (from optuna) (1.22.1)\n",
      "Requirement already satisfied: sqlalchemy>=1.3.0 in c:\\users\\user\\onedrive\\desktop\\github\\small-molecules\\env\\lib\\site-packages (from optuna) (1.4.45)\n",
      "Requirement already satisfied: Mako in c:\\users\\user\\onedrive\\desktop\\github\\small-molecules\\env\\lib\\site-packages (from alembic>=1.5.0->optuna) (1.2.4)\n",
      "Requirement already satisfied: zipp>=0.5 in c:\\users\\user\\onedrive\\desktop\\github\\small-molecules\\env\\lib\\site-packages (from importlib-metadata<5.0.0->optuna) (3.11.0)\n",
      "Requirement already satisfied: greenlet!=0.4.17 in c:\\users\\user\\onedrive\\desktop\\github\\small-molecules\\env\\lib\\site-packages (from sqlalchemy>=1.3.0->optuna) (2.0.1)\n",
      "Requirement already satisfied: PrettyTable>=0.7.2 in c:\\users\\user\\onedrive\\desktop\\github\\small-molecules\\env\\lib\\site-packages (from cliff->optuna) (3.5.0)\n",
      "Requirement already satisfied: stevedore>=2.0.1 in c:\\users\\user\\onedrive\\desktop\\github\\small-molecules\\env\\lib\\site-packages (from cliff->optuna) (4.1.1)\n",
      "Requirement already satisfied: cmd2>=1.0.0 in c:\\users\\user\\onedrive\\desktop\\github\\small-molecules\\env\\lib\\site-packages (from cliff->optuna) (2.4.2)\n",
      "Requirement already satisfied: autopage>=0.4.0 in c:\\users\\user\\onedrive\\desktop\\github\\small-molecules\\env\\lib\\site-packages (from cliff->optuna) (0.5.1)\n",
      "Requirement already satisfied: colorama in c:\\users\\user\\onedrive\\desktop\\github\\small-molecules\\env\\lib\\site-packages (from colorlog->optuna) (0.4.6)\n",
      "Requirement already satisfied: pyperclip>=1.6 in c:\\users\\user\\onedrive\\desktop\\github\\small-molecules\\env\\lib\\site-packages (from cmd2>=1.0.0->cliff->optuna) (1.8.2)\n",
      "Requirement already satisfied: pyreadline3 in c:\\users\\user\\onedrive\\desktop\\github\\small-molecules\\env\\lib\\site-packages (from cmd2>=1.0.0->cliff->optuna) (3.4.1)\n",
      "Requirement already satisfied: attrs>=16.3.0 in c:\\users\\user\\onedrive\\desktop\\github\\small-molecules\\env\\lib\\site-packages (from cmd2>=1.0.0->cliff->optuna) (22.2.0)\n",
      "Requirement already satisfied: wcwidth>=0.1.7 in c:\\users\\user\\onedrive\\desktop\\github\\small-molecules\\env\\lib\\site-packages (from cmd2>=1.0.0->cliff->optuna) (0.2.5)\n",
      "Requirement already satisfied: pbr!=2.1.0,>=2.0.0 in c:\\users\\user\\onedrive\\desktop\\github\\small-molecules\\env\\lib\\site-packages (from stevedore>=2.0.1->cliff->optuna) (5.11.0)\n",
      "Requirement already satisfied: MarkupSafe>=0.9.2 in c:\\users\\user\\onedrive\\desktop\\github\\small-molecules\\env\\lib\\site-packages (from Mako->alembic>=1.5.0->optuna) (2.1.1)\n"
     ]
    }
   ],
   "source": [
    "! pip install optuna"
   ]
  },
  {
   "cell_type": "code",
   "execution_count": 328,
   "metadata": {},
   "outputs": [
    {
     "name": "stderr",
     "output_type": "stream",
     "text": [
      "\u001b[32m[I 2023-01-02 02:23:31,424]\u001b[0m A new study created in memory with name: experiment-2023-01-02 02:23:31.424331\u001b[0m\n",
      "\u001b[32m[I 2023-01-02 02:23:36,283]\u001b[0m Trial 2 finished with value: -1.2807375268363437 and parameters: {'max_depth': 86, 'n_estimators': 23, 'criterion': 'squared_error', 'max_features': 'log2'}. Best is trial 2 with value: -1.2807375268363437.\u001b[0m\n",
      "\u001b[32m[I 2023-01-02 02:23:45,822]\u001b[0m Trial 1 finished with value: -1.280564174814099 and parameters: {'max_depth': 68, 'n_estimators': 43, 'criterion': 'squared_error', 'max_features': None}. Best is trial 1 with value: -1.280564174814099.\u001b[0m\n",
      "\u001b[32m[I 2023-01-02 02:23:47,509]\u001b[0m Trial 3 finished with value: -1.2596041985025432 and parameters: {'max_depth': 57, 'n_estimators': 82, 'criterion': 'squared_error', 'max_features': 'log2'}. Best is trial 3 with value: -1.2596041985025432.\u001b[0m\n",
      "\u001b[32m[I 2023-01-02 02:23:55,372]\u001b[0m Trial 4 finished with value: -1.2804420071041553 and parameters: {'max_depth': 55, 'n_estimators': 61, 'criterion': 'squared_error', 'max_features': None}. Best is trial 3 with value: -1.2596041985025432.\u001b[0m\n",
      "\u001b[32m[I 2023-01-02 02:24:05,877]\u001b[0m Trial 5 finished with value: -1.2816850992808668 and parameters: {'max_depth': 53, 'n_estimators': 61, 'criterion': 'friedman_mse', 'max_features': None}. Best is trial 3 with value: -1.2596041985025432.\u001b[0m\n",
      "\u001b[32m[I 2023-01-02 02:24:10,189]\u001b[0m Trial 6 finished with value: -1.276307485612471 and parameters: {'max_depth': 14, 'n_estimators': 84, 'criterion': 'friedman_mse', 'max_features': None}. Best is trial 3 with value: -1.2596041985025432.\u001b[0m\n",
      "\u001b[32m[I 2023-01-02 02:24:27,112]\u001b[0m Trial 9 finished with value: -1.2794272583942712 and parameters: {'max_depth': 34, 'n_estimators': 49, 'criterion': 'squared_error', 'max_features': None}. Best is trial 3 with value: -1.2596041985025432.\u001b[0m\n",
      "\u001b[32m[I 2023-01-02 02:24:37,694]\u001b[0m Trial 7 finished with value: -1.2929611569829056 and parameters: {'max_depth': 73, 'n_estimators': 15, 'criterion': 'absolute_error', 'max_features': 'sqrt'}. Best is trial 3 with value: -1.2596041985025432.\u001b[0m\n",
      "\u001b[32m[I 2023-01-02 02:24:43,396]\u001b[0m Trial 11 finished with value: -1.274016432033174 and parameters: {'max_depth': 100, 'n_estimators': 27, 'criterion': 'friedman_mse', 'max_features': 'log2'}. Best is trial 3 with value: -1.2596041985025432.\u001b[0m\n",
      "\u001b[32m[I 2023-01-02 02:24:52,723]\u001b[0m Trial 10 finished with value: -1.274385109239225 and parameters: {'max_depth': 47, 'n_estimators': 91, 'criterion': 'squared_error', 'max_features': None}. Best is trial 3 with value: -1.2596041985025432.\u001b[0m\n",
      "\u001b[32m[I 2023-01-02 02:25:20,899]\u001b[0m Trial 12 finished with value: -1.781537348011783 and parameters: {'max_depth': 1, 'n_estimators': 40, 'criterion': 'absolute_error', 'max_features': 'sqrt'}. Best is trial 3 with value: -1.2596041985025432.\u001b[0m\n",
      "\u001b[32m[I 2023-01-02 02:25:32,748]\u001b[0m Trial 14 finished with value: -1.2607574293913353 and parameters: {'max_depth': 95, 'n_estimators': 78, 'criterion': 'friedman_mse', 'max_features': 'log2'}. Best is trial 3 with value: -1.2596041985025432.\u001b[0m\n",
      "\u001b[32m[I 2023-01-02 02:25:44,845]\u001b[0m Trial 15 finished with value: -1.2611386711630852 and parameters: {'max_depth': 98, 'n_estimators': 81, 'criterion': 'friedman_mse', 'max_features': 'log2'}. Best is trial 3 with value: -1.2596041985025432.\u001b[0m\n",
      "\u001b[32m[I 2023-01-02 02:25:57,185]\u001b[0m Trial 16 finished with value: -1.258172470829014 and parameters: {'max_depth': 34, 'n_estimators': 74, 'criterion': 'friedman_mse', 'max_features': 'log2'}. Best is trial 16 with value: -1.258172470829014.\u001b[0m\n",
      "\u001b[32m[I 2023-01-02 02:26:55,203]\u001b[0m Trial 8 finished with value: -1.2633624006749886 and parameters: {'max_depth': 65, 'n_estimators': 66, 'criterion': 'absolute_error', 'max_features': 'log2'}. Best is trial 16 with value: -1.258172470829014.\u001b[0m\n",
      "\u001b[32m[I 2023-01-02 02:27:08,296]\u001b[0m Trial 18 finished with value: -1.2570894303515918 and parameters: {'max_depth': 28, 'n_estimators': 71, 'criterion': 'friedman_mse', 'max_features': 'log2'}. Best is trial 18 with value: -1.2570894303515918.\u001b[0m\n",
      "\u001b[32m[I 2023-01-02 02:27:25,472]\u001b[0m Trial 19 finished with value: -1.255383709036349 and parameters: {'max_depth': 28, 'n_estimators': 100, 'criterion': 'friedman_mse', 'max_features': 'log2'}. Best is trial 19 with value: -1.255383709036349.\u001b[0m\n",
      "\u001b[32m[I 2023-01-02 02:27:41,678]\u001b[0m Trial 20 finished with value: -1.257726211494419 and parameters: {'max_depth': 26, 'n_estimators': 100, 'criterion': 'friedman_mse', 'max_features': 'log2'}. Best is trial 19 with value: -1.255383709036349.\u001b[0m\n",
      "\u001b[32m[I 2023-01-02 02:27:56,446]\u001b[0m Trial 21 finished with value: -1.2557060410098244 and parameters: {'max_depth': 18, 'n_estimators': 99, 'criterion': 'friedman_mse', 'max_features': 'sqrt'}. Best is trial 19 with value: -1.255383709036349.\u001b[0m\n",
      "\u001b[32m[I 2023-01-02 02:28:02,892]\u001b[0m Trial 13 finished with value: -1.2581928232798685 and parameters: {'max_depth': 23, 'n_estimators': 77, 'criterion': 'absolute_error', 'max_features': 'log2'}. Best is trial 19 with value: -1.255383709036349.\u001b[0m\n",
      "\u001b[32m[I 2023-01-02 02:28:07,055]\u001b[0m Trial 22 finished with value: -1.257869460365948 and parameters: {'max_depth': 13, 'n_estimators': 98, 'criterion': 'friedman_mse', 'max_features': 'sqrt'}. Best is trial 19 with value: -1.255383709036349.\u001b[0m\n",
      "\u001b[32m[I 2023-01-02 02:28:08,764]\u001b[0m Trial 23 finished with value: -1.2869414322702637 and parameters: {'max_depth': 7, 'n_estimators': 96, 'criterion': 'friedman_mse', 'max_features': 'sqrt'}. Best is trial 19 with value: -1.255383709036349.\u001b[0m\n",
      "\u001b[32m[I 2023-01-02 02:28:22,632]\u001b[0m Trial 24 finished with value: -1.2586005410220569 and parameters: {'max_depth': 35, 'n_estimators': 94, 'criterion': 'friedman_mse', 'max_features': 'sqrt'}. Best is trial 19 with value: -1.255383709036349.\u001b[0m\n",
      "\u001b[32m[I 2023-01-02 02:28:23,473]\u001b[0m Trial 25 finished with value: -1.2576230399581685 and parameters: {'max_depth': 40, 'n_estimators': 89, 'criterion': 'friedman_mse', 'max_features': 'sqrt'}. Best is trial 19 with value: -1.255383709036349.\u001b[0m\n",
      "\u001b[32m[I 2023-01-02 02:28:35,210]\u001b[0m Trial 27 finished with value: -1.2608264748226772 and parameters: {'max_depth': 23, 'n_estimators': 70, 'criterion': 'friedman_mse', 'max_features': 'log2'}. Best is trial 19 with value: -1.255383709036349.\u001b[0m\n",
      "\u001b[32m[I 2023-01-02 02:28:37,353]\u001b[0m Trial 26 finished with value: -1.2594469993104904 and parameters: {'max_depth': 24, 'n_estimators': 88, 'criterion': 'friedman_mse', 'max_features': 'sqrt'}. Best is trial 19 with value: -1.255383709036349.\u001b[0m\n",
      "\u001b[32m[I 2023-01-02 02:28:44,577]\u001b[0m Trial 29 finished with value: -1.2593774281761785 and parameters: {'max_depth': 14, 'n_estimators': 56, 'criterion': 'friedman_mse', 'max_features': 'log2'}. Best is trial 19 with value: -1.255383709036349.\u001b[0m\n",
      "\u001b[32m[I 2023-01-02 02:28:47,743]\u001b[0m Trial 28 finished with value: -1.2588581699237813 and parameters: {'max_depth': 17, 'n_estimators': 88, 'criterion': 'friedman_mse', 'max_features': 'sqrt'}. Best is trial 19 with value: -1.255383709036349.\u001b[0m\n",
      "\u001b[32m[I 2023-01-02 02:28:58,631]\u001b[0m Trial 17 finished with value: -1.2574443257628982 and parameters: {'max_depth': 30, 'n_estimators': 72, 'criterion': 'absolute_error', 'max_features': 'log2'}. Best is trial 19 with value: -1.255383709036349.\u001b[0m\n",
      "\u001b[32m[I 2023-01-02 02:28:59,243]\u001b[0m Trial 0 finished with value: -1.2730912898009756 and parameters: {'max_depth': 80, 'n_estimators': 73, 'criterion': 'absolute_error', 'max_features': None}. Best is trial 19 with value: -1.255383709036349.\u001b[0m\n"
     ]
    }
   ],
   "source": [
    "import datetime\n",
    "import optuna\n",
    "from functools import partial\n",
    "\n",
    "from sklearn.model_selection import cross_val_score\n",
    "\n",
    "def objective(trial, name, X_train, y_train):\n",
    "    max_depth = trial.suggest_int('max_depth', 1, 100)\n",
    "    n_estimators = trial.suggest_int('n_estimators', 10, 100)\n",
    "    criterion = trial.suggest_categorical(\"criterion\", [\"squared_error\", \"absolute_error\", \"friedman_mse\"])\n",
    "    max_features = trial.suggest_categorical(\"max_features\", [\"sqrt\", \"log2\", None])\n",
    "    \n",
    "    random_regressor = RandomForestRegressor(\n",
    "        n_estimators=n_estimators,\n",
    "        max_depth=max_depth,\n",
    "        criterion=criterion,\n",
    "        max_features=max_features\n",
    "    )\n",
    "    \n",
    "    score = cross_val_score(random_regressor, X_train, y_train, cv=5, scoring=\"neg_root_mean_squared_error\")\n",
    "    return score.mean()\n",
    "\n",
    "current_time = datetime.datetime.now()\n",
    "\n",
    "opt_function = partial(objective, name=\"rf\", X_train=X_dataset, y_train=y)\n",
    "\n",
    "study = optuna.create_study(direction=\"maximize\", study_name=f\"experiment-{current_time}\")\n",
    "study.optimize(opt_function, n_trials=30, n_jobs=-1)                                                         "
   ]
  },
  {
   "cell_type": "code",
   "execution_count": 329,
   "metadata": {},
   "outputs": [
    {
     "name": "stdout",
     "output_type": "stream",
     "text": [
      "RMSE: 0.476\n",
      "MAE: 0.316\n",
      "Coefficient of Correlation: 0.959\n"
     ]
    }
   ],
   "source": [
    "params = study.best_params\n",
    "\n",
    "random_forest = RandomForestRegressor(**params).fit(X_dataset, y)\n",
    "\n",
    "pred_train = random_forest.predict(X_dataset)\n",
    "        \n",
    "print(f\"RMSE: {math.sqrt(mean_squared_error(y, pred_train)):.3f}\")\n",
    "print(f\"MAE: {mean_absolute_error(y, pred_train):.3f}\")\n",
    "print(f\"Coefficient of Correlation: {r2_score(y, pred_train):.3f}\")"
   ]
  },
  {
   "cell_type": "code",
   "execution_count": 330,
   "metadata": {},
   "outputs": [
    {
     "name": "stdout",
     "output_type": "stream",
     "text": [
      "RMSE: 0.635\n",
      "MAE: 0.405\n",
      "Coefficient of Correlation: 0.854\n"
     ]
    }
   ],
   "source": [
    "pred_test = random_forest.predict(X_test)\n",
    "        \n",
    "print(f\"RMSE: {math.sqrt(mean_squared_error(y_test, pred_test)):.3f}\")\n",
    "print(f\"MAE: {mean_absolute_error(y_test, pred_test):.3f}\")\n",
    "print(f\"Coefficient of Correlation: {r2_score(y_test, pred_test):.3f}\")"
   ]
  },
  {
   "cell_type": "code",
   "execution_count": 331,
   "metadata": {},
   "outputs": [
    {
     "data": {
      "image/png": "[encoded data removed]",
      "text/plain": [
       "<Figure size 500x400 with 1 Axes>"
      ]
     },
     "metadata": {},
     "output_type": "display_data"
    }
   ],
   "source": [
    "import matplotlib.pyplot as plt\n",
    "\n",
    "plt.figure(figsize=(5, 4))\n",
    "plt.scatter(y_test, pred_test)\n",
    "plt.xlabel(\"Calculate log(S) mol/L\")\n",
    "plt.ylabel(\"Predicted log(S) mol/L\")\n",
    "plt.title(\"Random Forest Regressor preditions of Aqueous solubility\")\n",
    "plt.show()"
   ]
  },
  {
   "cell_type": "code",
   "execution_count": 332,
   "metadata": {},
   "outputs": [],
   "source": [
    "import joblib\n",
    "\n",
    "with open(file=\"model/regressors/solubility-rf-sklearn.model\", mode=\"wb\") as file:\n",
    "    joblib.dump(value=random_forest, filename=file)\n",
    "\n",
    "with open(file=\"model/regressors/solubility-standard-scaler-sklearn.model\", mode=\"wb\") as file:\n",
    "    joblib.dump(value=scaler, filename=file)"
   ]
  },
  {
   "cell_type": "code",
   "execution_count": 333,
   "metadata": {},
   "outputs": [],
   "source": [
    "import torch\n",
    "import torch.nn.functional as F\n",
    "\n",
    "class Network(torch.nn.Module):\n",
    "    def __init__(self):\n",
    "        super(Network, self).__init__()\n",
    "        self.layer_one = torch.nn.Linear(in_features=4, out_features=1)\n",
    "        # self.layer_two = torch.nn.Linear(in_features=2, out_features=1)\n",
    "        self.out = torch.nn.Linear(in_features=1, out_features=1)\n",
    "    \n",
    "    def forward(self, features) -> float:\n",
    "        output = F.leaky_relu(self.layer_one(features))\n",
    "        # output = F.leaky_relu(self.layer_two(output))\n",
    "        output = self.out(output)\n",
    "        \n",
    "        return output\n",
    "\n",
    "prediction_network = Network()"
   ]
  },
  {
   "cell_type": "code",
   "execution_count": 334,
   "metadata": {},
   "outputs": [
    {
     "name": "stdout",
     "output_type": "stream",
     "text": [
      "Parameter containing:\n",
      "tensor([[ 0.3380, -0.3253, -0.1653, -0.0661]], requires_grad=True)\n",
      "Parameter containing:\n",
      "tensor([0.0452], requires_grad=True)\n",
      "Parameter containing:\n",
      "tensor([[0.1289]], requires_grad=True)\n",
      "Parameter containing:\n",
      "tensor([-0.0917], requires_grad=True)\n"
     ]
    }
   ],
   "source": [
    "for _, parameter in enumerate(list(prediction_network.parameters()), start = 1):\n",
    "    print(parameter)"
   ]
  },
  {
   "cell_type": "code",
   "execution_count": 338,
   "metadata": {},
   "outputs": [],
   "source": [
    "X_dataset_tensor, y_tensor = torch.tensor(X_dataset.to_numpy(), dtype=torch.float32), torch.tensor(y.to_numpy(), dtype=torch.float32)\n",
    "X_test_tensor, y_test_tensor = torch.tensor(X_test.to_numpy(), dtype=torch.float32), torch.tensor(y_test.to_numpy(), dtype=torch.float32)\n",
    "\n",
    "optimizer = torch.optim.Adam(prediction_network.parameters(), lr=0.001)\n",
    "criterion = torch.nn.MSELoss()\n",
    "\n",
    "for x, target in zip(X_dataset_tensor, y_tensor):\n",
    "    optimizer.zero_grad()\n",
    "    output = prediction_network(x)\n",
    "    loss = criterion(output, target)\n",
    "    loss.backward()\n",
    "    optimizer.step()\n"
   ]
  },
  {
   "cell_type": "code",
   "execution_count": 340,
   "metadata": {},
   "outputs": [
    {
     "name": "stdout",
     "output_type": "stream",
     "text": [
      "Average loss: 1.0083614587783813\n"
     ]
    }
   ],
   "source": [
    "total_loss: float = 0.0\n",
    "\n",
    "for x, target in zip(X_test_tensor, y_test_tensor):\n",
    "    output = prediction_network(x)\n",
    "    loss = criterion(output, target)\n",
    "    total_loss = total_loss + loss\n",
    "\n",
    "print(f\"Average loss: {total_loss/len(X_test_tensor)}\")"
   ]
  },
  {
   "cell_type": "code",
   "execution_count": 337,
   "metadata": {},
   "outputs": [
    {
     "name": "stdout",
     "output_type": "stream",
     "text": [
      "Testing RMSE: 0.9805763363838196\n"
     ]
    }
   ],
   "source": [
    "mean_loss = total_loss/len(X_test_tensor)\n",
    "\n",
    "print(f\"Testing RMSE: {torch.sqrt(mean_loss).detach().numpy()}\")"
   ]
  },
  {
   "cell_type": "code",
   "execution_count": null,
   "metadata": {},
   "outputs": [],
   "source": []
  }
 ],
 "metadata": {
  "kernelspec": {
   "display_name": "env",
   "language": "python",
   "name": "python3"
  },
  "language_info": {
   "codemirror_mode": {
    "name": "ipython",
    "version": 3
   },
   "file_extension": ".py",
   "mimetype": "text/x-python",
   "name": "python",
   "nbconvert_exporter": "python",
   "pygments_lexer": "ipython3",
   "version": "3.10.9"
  },
  "orig_nbformat": 4,
  "vscode": {
   "interpreter": {
    "hash": "4df9ae2f3669d2915414309207e4c3fb96f9f71dd598ede9d89ce16f72233d5f"
   }
  }
 },
 "nbformat": 4,
 "nbformat_minor": 2
}
