{
 "cells": [
  {
   "attachments": {},
   "cell_type": "markdown",
   "metadata": {},
   "source": [
    "# Preparation of Dataset for solubility prediction\n",
    "\n",
    "## Datasets\n",
    "\n",
    "1. [ESOL: Estimating Aqueous Solubility Directly from Molecular Structure](https://pubs.acs.org/doi/10.1021/ci034243x)\n",
    "2. [AqSolDB, a curated reference set of aqueous solubility and 2D descriptors for a diverse set of compounds](https://www.nature.com/articles/s41597-019-0151-1)\n",
    "3. [Is Experimental Data Quality the Limiting Factor in Predicting the Aqueous Solubility of Driglike Molecules](https://pubs.acs.org/doi/full/10.1021/mp500103r)"
   ]
  },
  {
   "attachments": {},
   "cell_type": "markdown",
   "metadata": {},
   "source": [
    "## Backgroud:\n",
    "\n",
    "Aqueous solubility is a key factor in drug discovery, since if a molecule is not soluble. it will typically be poorly bioavailable, making it difficult to perform <i>in-vivo</i> studies with it, and hence deliver to patients."
   ]
  },
  {
   "cell_type": "code",
   "execution_count": 145,
   "metadata": {},
   "outputs": [
    {
     "name": "stdout",
     "output_type": "stream",
     "text": [
      "Requirement already satisfied: rdkit in c:\\users\\user\\onedrive\\desktop\\github\\small-molecules\\env\\lib\\site-packages (2022.9.3)\n",
      "Requirement already satisfied: pandas in c:\\users\\user\\onedrive\\desktop\\github\\small-molecules\\env\\lib\\site-packages (1.5.2)\n",
      "Requirement already satisfied: numpy in c:\\users\\user\\onedrive\\desktop\\github\\small-molecules\\env\\lib\\site-packages (1.23.5)\n",
      "Requirement already satisfied: Pillow in c:\\users\\user\\onedrive\\desktop\\github\\small-molecules\\env\\lib\\site-packages (from rdkit) (9.3.0)\n",
      "Requirement already satisfied: python-dateutil>=2.8.1 in c:\\users\\user\\onedrive\\desktop\\github\\small-molecules\\env\\lib\\site-packages (from pandas) (2.8.2)\n",
      "Requirement already satisfied: pytz>=2020.1 in c:\\users\\user\\onedrive\\desktop\\github\\small-molecules\\env\\lib\\site-packages (from pandas) (2022.7)\n",
      "Requirement already satisfied: six>=1.5 in c:\\users\\user\\onedrive\\desktop\\github\\small-molecules\\env\\lib\\site-packages (from python-dateutil>=2.8.1->pandas) (1.16.0)\n"
     ]
    }
   ],
   "source": [
    "! pip install rdkit pandas numpy"
   ]
  },
  {
   "cell_type": "code",
   "execution_count": 2,
   "metadata": {},
   "outputs": [],
   "source": [
    "import math\n",
    "import numpy as np\n",
    "import pandas as pd\n",
    "from rdkit import Chem\n",
    "from rdkit.Chem import Descriptors"
   ]
  },
  {
   "cell_type": "code",
   "execution_count": 3,
   "metadata": {},
   "outputs": [],
   "source": [
    "def load_csv(path: str) -> pd.DataFrame:\n",
    "    return pd.read_csv(path)"
   ]
  },
  {
   "cell_type": "code",
   "execution_count": 4,
   "metadata": {},
   "outputs": [],
   "source": [
    "esol = load_csv(path=\"data/esol.csv\")\n",
    "aqsol = load_csv(path=\"data/solubility-dataset-train.csv\")\n",
    "dsl = load_csv(path=\"data/dsl-100-unique.csv\")"
   ]
  },
  {
   "cell_type": "code",
   "execution_count": 5,
   "metadata": {},
   "outputs": [
    {
     "name": "stdout",
     "output_type": "stream",
     "text": [
      "<class 'pandas.core.frame.DataFrame'>\n",
      "RangeIndex: 1128 entries, 0 to 1127\n",
      "Data columns (total 10 columns):\n",
      " #   Column                                           Non-Null Count  Dtype  \n",
      "---  ------                                           --------------  -----  \n",
      " 0   Compound ID                                      1128 non-null   object \n",
      " 1   ESOL predicted log solubility in mols per litre  1128 non-null   float64\n",
      " 2   Minimum Degree                                   1128 non-null   int64  \n",
      " 3   Molecular Weight                                 1128 non-null   float64\n",
      " 4   Number of H-Bond Donors                          1128 non-null   int64  \n",
      " 5   Number of Rings                                  1128 non-null   int64  \n",
      " 6   Number of Rotatable Bonds                        1128 non-null   int64  \n",
      " 7   Polar Surface Area                               1128 non-null   float64\n",
      " 8   measured log solubility in mols per litre        1128 non-null   float64\n",
      " 9   smiles                                           1128 non-null   object \n",
      "dtypes: float64(4), int64(4), object(2)\n",
      "memory usage: 88.2+ KB\n",
      "None\n"
     ]
    }
   ],
   "source": [
    "print(esol.info())"
   ]
  },
  {
   "cell_type": "code",
   "execution_count": 6,
   "metadata": {},
   "outputs": [
    {
     "name": "stdout",
     "output_type": "stream",
     "text": [
      "<class 'pandas.core.frame.DataFrame'>\n",
      "RangeIndex: 9982 entries, 0 to 9981\n",
      "Data columns (total 26 columns):\n",
      " #   Column               Non-Null Count  Dtype  \n",
      "---  ------               --------------  -----  \n",
      " 0   ID                   9982 non-null   object \n",
      " 1   Name                 9982 non-null   object \n",
      " 2   InChI                9982 non-null   object \n",
      " 3   InChIKey             9982 non-null   object \n",
      " 4   SMILES               9982 non-null   object \n",
      " 5   Solubility           9982 non-null   float64\n",
      " 6   SD                   9982 non-null   float64\n",
      " 7   Ocurrences           9982 non-null   int64  \n",
      " 8   Group                9982 non-null   object \n",
      " 9   MolWt                9982 non-null   float64\n",
      " 10  MolLogP              9982 non-null   float64\n",
      " 11  MolMR                9982 non-null   float64\n",
      " 12  HeavyAtomCount       9982 non-null   float64\n",
      " 13  NumHAcceptors        9982 non-null   float64\n",
      " 14  NumHDonors           9982 non-null   float64\n",
      " 15  NumHeteroatoms       9982 non-null   float64\n",
      " 16  NumRotatableBonds    9982 non-null   float64\n",
      " 17  NumValenceElectrons  9982 non-null   float64\n",
      " 18  NumAromaticRings     9982 non-null   float64\n",
      " 19  NumSaturatedRings    9982 non-null   float64\n",
      " 20  NumAliphaticRings    9982 non-null   float64\n",
      " 21  RingCount            9982 non-null   float64\n",
      " 22  TPSA                 9982 non-null   float64\n",
      " 23  LabuteASA            9982 non-null   float64\n",
      " 24  BalabanJ             9982 non-null   float64\n",
      " 25  BertzCT              9982 non-null   float64\n",
      "dtypes: float64(19), int64(1), object(6)\n",
      "memory usage: 2.0+ MB\n",
      "None\n"
     ]
    }
   ],
   "source": [
    "print(aqsol.info())"
   ]
  },
  {
   "cell_type": "code",
   "execution_count": 7,
   "metadata": {},
   "outputs": [
    {
     "name": "stdout",
     "output_type": "stream",
     "text": [
      "<class 'pandas.core.frame.DataFrame'>\n",
      "RangeIndex: 56 entries, 0 to 55\n",
      "Data columns (total 12 columns):\n",
      " #   Column                         Non-Null Count  Dtype  \n",
      "---  ------                         --------------  -----  \n",
      " 0   Unnamed: 0                     56 non-null     int64  \n",
      " 1   Chemical name                  56 non-null     object \n",
      " 2   Crystal structure CSD refcode  56 non-null     object \n",
      " 3   LogS exp (mol/L)               56 non-null     float64\n",
      " 4   Reference                      56 non-null     int64  \n",
      " 5   Test                           56 non-null     bool   \n",
      " 6   SMILES                         56 non-null     object \n",
      " 7   Smiles Source                  56 non-null     object \n",
      " 8   Chemspider reference number    56 non-null     int64  \n",
      " 9   InChl                          56 non-null     object \n",
      " 10  cansmi                         56 non-null     object \n",
      " 11  is_unique                      56 non-null     bool   \n",
      "dtypes: bool(2), float64(1), int64(3), object(6)\n",
      "memory usage: 4.6+ KB\n",
      "None\n"
     ]
    }
   ],
   "source": [
    "print(dsl.info())"
   ]
  },
  {
   "attachments": {},
   "cell_type": "markdown",
   "metadata": {},
   "source": [
    "## Calculating Molecular Descriptors\n",
    "\n",
    "To predict log(S), the study of Delaney used four molecular descriptors:\n",
    "- cLogP (Octanol-Water partition coefficient)\n",
    "- MW (Molecular Weight)\n",
    "- RB (Number of rotatable bonds)\n",
    "- AP (Aromatic proportion = Number of aromatic atoms / total number of heavy atoms)"
   ]
  },
  {
   "cell_type": "code",
   "execution_count": 8,
   "metadata": {},
   "outputs": [],
   "source": [
    "def get_number_aromatic_atoms(molecule) -> int:\n",
    "    \n",
    "    aromatic_atoms = [molecule.GetAtomWithIdx(idx).GetIsAromatic() for idx in range(molecule.GetNumAtoms())]\n",
    "    count = []\n",
    "    for _, value in enumerate(aromatic_atoms):\n",
    "        if value == True:\n",
    "            count.append(value)\n",
    "    sum_count = sum(count)\n",
    "    \n",
    "    return sum_count"
   ]
  },
  {
   "cell_type": "code",
   "execution_count": 9,
   "metadata": {},
   "outputs": [],
   "source": [
    "def calc_aromatic_descriptors(molecule) -> float:\n",
    "    aromatic_atoms: int = get_number_aromatic_atoms(molecule)\n",
    "    num_heavy_atoms: int = Descriptors.HeavyAtomCount(molecule)\n",
    "    \n",
    "    aromatic_proportion: float = aromatic_atoms / num_heavy_atoms\n",
    "    return aromatic_proportion"
   ]
  },
  {
   "cell_type": "code",
   "execution_count": 10,
   "metadata": {},
   "outputs": [],
   "source": [
    "def generate_dataset(molecules) -> pd.DataFrame:\n",
    "    smiles = []\n",
    "    rows = []\n",
    "\n",
    "    for molecule in molecules:\n",
    "        descriptor = Chem.MolFromSmiles(molecule)\n",
    "        smiles.append(descriptor)\n",
    "    \n",
    "    for smile in smiles:\n",
    "        mol_log_p: float = Descriptors.MolLogP(smile)\n",
    "        mol_weight: float = Descriptors.MolWt(smile)\n",
    "        num_rot_bonds: int = Descriptors.NumRotatableBonds(smile)\n",
    "        aromatic_proportion: float = calc_aromatic_descriptors(smile)\n",
    "        \n",
    "        row = [smile, mol_log_p, mol_weight, num_rot_bonds, aromatic_proportion]\n",
    "        rows.append(row)\n",
    "    \n",
    "    df = pd.DataFrame(data=rows, columns=[\"SMILES\", \"MolLogP\", \"MolWeight\", \"NumRotatableBonds\", \"AromaticProportion\"])\n",
    "    return df"
   ]
  },
  {
   "cell_type": "code",
   "execution_count": 11,
   "metadata": {},
   "outputs": [
    {
     "name": "stderr",
     "output_type": "stream",
     "text": [
      "[11:48:44] WARNING: not removing hydrogen atom without neighbors\n",
      "[11:48:44] WARNING: not removing hydrogen atom without neighbors\n",
      "[11:48:44] WARNING: not removing hydrogen atom without neighbors\n",
      "[11:48:44] WARNING: not removing hydrogen atom without neighbors\n",
      "[11:48:44] WARNING: not removing hydrogen atom without neighbors\n",
      "[11:48:44] WARNING: not removing hydrogen atom without neighbors\n",
      "[11:48:44] WARNING: not removing hydrogen atom without neighbors\n",
      "[11:48:44] WARNING: not removing hydrogen atom without neighbors\n",
      "[11:48:44] WARNING: not removing hydrogen atom without neighbors\n",
      "[11:48:44] WARNING: not removing hydrogen atom without neighbors\n",
      "[11:48:44] WARNING: not removing hydrogen atom without neighbors\n",
      "[11:48:44] WARNING: not removing hydrogen atom without neighbors\n",
      "[11:48:45] WARNING: not removing hydrogen atom without neighbors\n",
      "[11:48:45] WARNING: not removing hydrogen atom without neighbors\n",
      "[11:48:45] WARNING: not removing hydrogen atom without neighbors\n",
      "[11:48:45] WARNING: not removing hydrogen atom without neighbors\n",
      "[11:48:45] WARNING: not removing hydrogen atom without neighbors\n",
      "[11:48:45] WARNING: not removing hydrogen atom without neighbors\n",
      "[11:48:45] WARNING: not removing hydrogen atom without neighbors\n",
      "[11:48:45] WARNING: not removing hydrogen atom without neighbors\n",
      "[11:48:45] WARNING: not removing hydrogen atom without neighbors\n",
      "[11:48:45] WARNING: not removing hydrogen atom without neighbors\n",
      "[11:48:45] WARNING: not removing hydrogen atom without neighbors\n",
      "[11:48:45] WARNING: not removing hydrogen atom without neighbors\n",
      "[11:48:45] WARNING: not removing hydrogen atom without neighbors\n",
      "[11:48:45] WARNING: not removing hydrogen atom without neighbors\n",
      "[11:48:45] WARNING: not removing hydrogen atom without neighbors\n",
      "[11:48:45] WARNING: not removing hydrogen atom without neighbors\n",
      "[11:48:45] WARNING: not removing hydrogen atom without neighbors\n",
      "[11:48:45] WARNING: not removing hydrogen atom without neighbors\n",
      "[11:48:45] WARNING: not removing hydrogen atom without neighbors\n",
      "[11:48:45] WARNING: not removing hydrogen atom without neighbors\n",
      "[11:48:45] WARNING: not removing hydrogen atom without neighbors\n",
      "[11:48:45] WARNING: not removing hydrogen atom without neighbors\n",
      "[11:48:45] WARNING: not removing hydrogen atom without neighbors\n",
      "[11:48:45] WARNING: not removing hydrogen atom without neighbors\n",
      "[11:48:45] WARNING: not removing hydrogen atom without neighbors\n",
      "[11:48:45] WARNING: not removing hydrogen atom without neighbors\n",
      "[11:48:45] WARNING: not removing hydrogen atom without neighbors\n",
      "[11:48:45] WARNING: not removing hydrogen atom without neighbors\n",
      "[11:48:45] WARNING: not removing hydrogen atom without neighbors\n",
      "[11:48:45] WARNING: not removing hydrogen atom without neighbors\n",
      "[11:48:45] WARNING: not removing hydrogen atom without neighbors\n",
      "[11:48:45] WARNING: not removing hydrogen atom without neighbors\n",
      "[11:48:45] WARNING: not removing hydrogen atom without neighbors\n",
      "[11:48:45] WARNING: not removing hydrogen atom without neighbors\n",
      "[11:48:45] WARNING: not removing hydrogen atom without neighbors\n",
      "[11:48:45] WARNING: not removing hydrogen atom without neighbors\n",
      "[11:48:45] WARNING: not removing hydrogen atom without neighbors\n",
      "[11:48:45] WARNING: not removing hydrogen atom without neighbors\n",
      "[11:48:45] WARNING: not removing hydrogen atom without neighbors\n",
      "[11:48:45] WARNING: not removing hydrogen atom without neighbors\n",
      "[11:48:45] WARNING: not removing hydrogen atom without neighbors\n",
      "[11:48:45] WARNING: not removing hydrogen atom without neighbors\n",
      "[11:48:45] WARNING: not removing hydrogen atom without neighbors\n",
      "[11:48:45] WARNING: not removing hydrogen atom without neighbors\n",
      "[11:48:45] WARNING: not removing hydrogen atom without neighbors\n",
      "[11:48:45] WARNING: not removing hydrogen atom without neighbors\n",
      "[11:48:45] WARNING: not removing hydrogen atom without neighbors\n",
      "[11:48:45] WARNING: not removing hydrogen atom without neighbors\n",
      "[11:48:46] WARNING: not removing hydrogen atom without neighbors\n",
      "[11:48:46] WARNING: not removing hydrogen atom without neighbors\n",
      "[11:48:46] WARNING: not removing hydrogen atom without neighbors\n",
      "[11:48:46] WARNING: not removing hydrogen atom without neighbors\n",
      "[11:48:46] WARNING: not removing hydrogen atom without neighbors\n"
     ]
    }
   ],
   "source": [
    "esol_parsed = generate_dataset(molecules=esol[\"smiles\"])\n",
    "aqsol_parsed = generate_dataset(molecules=aqsol[\"SMILES\"])\n",
    "dsl_parsed = generate_dataset(molecules=dsl[\"SMILES\"])"
   ]
  },
  {
   "cell_type": "code",
   "execution_count": 12,
   "metadata": {},
   "outputs": [
    {
     "data": {
      "text/plain": [
       "array(['Compound ID', 'ESOL predicted log solubility in mols per litre',\n",
       "       'Minimum Degree', 'Molecular Weight', 'Number of H-Bond Donors',\n",
       "       'Number of Rings', 'Number of Rotatable Bonds',\n",
       "       'Polar Surface Area', 'measured log solubility in mols per litre',\n",
       "       'smiles'], dtype=object)"
      ]
     },
     "execution_count": 12,
     "metadata": {},
     "output_type": "execute_result"
    }
   ],
   "source": [
    "esol.columns.values # y = measured log solubility in mols / L"
   ]
  },
  {
   "cell_type": "code",
   "execution_count": 13,
   "metadata": {},
   "outputs": [
    {
     "data": {
      "text/plain": [
       "array(['ID', 'Name', 'InChI', 'InChIKey', 'SMILES', 'Solubility', 'SD',\n",
       "       'Ocurrences', 'Group', 'MolWt', 'MolLogP', 'MolMR',\n",
       "       'HeavyAtomCount', 'NumHAcceptors', 'NumHDonors', 'NumHeteroatoms',\n",
       "       'NumRotatableBonds', 'NumValenceElectrons', 'NumAromaticRings',\n",
       "       'NumSaturatedRings', 'NumAliphaticRings', 'RingCount', 'TPSA',\n",
       "       'LabuteASA', 'BalabanJ', 'BertzCT'], dtype=object)"
      ]
     },
     "execution_count": 13,
     "metadata": {},
     "output_type": "execute_result"
    }
   ],
   "source": [
    "aqsol.columns.values # y = Solubility (reported as LogS (mol/L))"
   ]
  },
  {
   "cell_type": "code",
   "execution_count": 14,
   "metadata": {},
   "outputs": [
    {
     "data": {
      "text/plain": [
       "array(['Unnamed: 0', 'Chemical name', 'Crystal structure CSD refcode',\n",
       "       'LogS exp (mol/L)', 'Reference', 'Test', 'SMILES', 'Smiles Source',\n",
       "       'Chemspider reference number', 'InChl', 'cansmi', 'is_unique'],\n",
       "      dtype=object)"
      ]
     },
     "execution_count": 14,
     "metadata": {},
     "output_type": "execute_result"
    }
   ],
   "source": [
    "dsl.columns.values # y = LogS exp (mol/L)"
   ]
  },
  {
   "cell_type": "code",
   "execution_count": 15,
   "metadata": {},
   "outputs": [],
   "source": [
    "esol_parsed[\"y\"] = esol[\"measured log solubility in mols per litre\"]\n",
    "aqsol_parsed[\"y\"] = aqsol[\"Solubility\"]\n",
    "dsl_parsed[\"y\"] = dsl[\"LogS exp (mol/L)\"]"
   ]
  },
  {
   "cell_type": "code",
   "execution_count": 16,
   "metadata": {},
   "outputs": [],
   "source": [
    "train_dataset = pd.concat([esol_parsed, aqsol_parsed], axis=0)\n",
    "train_dataset.head()\n",
    "\n",
    "train_dataset = train_dataset.sample(frac=1)"
   ]
  },
  {
   "cell_type": "code",
   "execution_count": 17,
   "metadata": {},
   "outputs": [
    {
     "name": "stdout",
     "output_type": "stream",
     "text": [
      "Training dataset:  (11110, 6)\n",
      "Testing dataset:  (56, 6)\n"
     ]
    }
   ],
   "source": [
    "print(\"Training dataset: \", train_dataset.shape)\n",
    "print(\"Testing dataset: \", dsl_parsed.shape)"
   ]
  },
  {
   "cell_type": "code",
   "execution_count": 18,
   "metadata": {},
   "outputs": [
    {
     "data": {
      "text/html": [
       "<div>\n",
       "<style scoped>\n",
       "    .dataframe tbody tr th:only-of-type {\n",
       "        vertical-align: middle;\n",
       "    }\n",
       "\n",
       "    .dataframe tbody tr th {\n",
       "        vertical-align: top;\n",
       "    }\n",
       "\n",
       "    .dataframe thead th {\n",
       "        text-align: right;\n",
       "    }\n",
       "</style>\n",
       "<table border=\"1\" class=\"dataframe\">\n",
       "  <thead>\n",
       "    <tr style=\"text-align: right;\">\n",
       "      <th></th>\n",
       "      <th>SMILES</th>\n",
       "      <th>MolLogP</th>\n",
       "      <th>MolWeight</th>\n",
       "      <th>NumRotatableBonds</th>\n",
       "      <th>AromaticProportion</th>\n",
       "      <th>y</th>\n",
       "    </tr>\n",
       "  </thead>\n",
       "  <tbody>\n",
       "  </tbody>\n",
       "</table>\n",
       "</div>"
      ],
      "text/plain": [
       "Empty DataFrame\n",
       "Columns: [SMILES, MolLogP, MolWeight, NumRotatableBonds, AromaticProportion, y]\n",
       "Index: []"
      ]
     },
     "execution_count": 18,
     "metadata": {},
     "output_type": "execute_result"
    }
   ],
   "source": [
    "train_dataset[train_dataset.duplicated()]"
   ]
  },
  {
   "cell_type": "code",
   "execution_count": 19,
   "metadata": {},
   "outputs": [
    {
     "name": "stdout",
     "output_type": "stream",
     "text": [
      "Requirement already satisfied: scikit-learn in c:\\users\\user\\onedrive\\desktop\\github\\small-molecules\\env\\lib\\site-packages (1.2.0)\n",
      "Requirement already satisfied: lightgbm in c:\\users\\user\\onedrive\\desktop\\github\\small-molecules\\env\\lib\\site-packages (3.3.3)\n",
      "Requirement already satisfied: xgboost in c:\\users\\user\\onedrive\\desktop\\github\\small-molecules\\env\\lib\\site-packages (1.7.2)\n",
      "Requirement already satisfied: threadpoolctl>=2.0.0 in c:\\users\\user\\onedrive\\desktop\\github\\small-molecules\\env\\lib\\site-packages (from scikit-learn) (3.1.0)\n",
      "Requirement already satisfied: scipy>=1.3.2 in c:\\users\\user\\onedrive\\desktop\\github\\small-molecules\\env\\lib\\site-packages (from scikit-learn) (1.8.1)\n",
      "Requirement already satisfied: joblib>=1.1.1 in c:\\users\\user\\onedrive\\desktop\\github\\small-molecules\\env\\lib\\site-packages (from scikit-learn) (1.2.0)\n",
      "Requirement already satisfied: numpy>=1.17.3 in c:\\users\\user\\onedrive\\desktop\\github\\small-molecules\\env\\lib\\site-packages (from scikit-learn) (1.23.5)\n",
      "Requirement already satisfied: wheel in c:\\users\\user\\onedrive\\desktop\\github\\small-molecules\\env\\lib\\site-packages (from lightgbm) (0.38.4)\n"
     ]
    }
   ],
   "source": [
    "! pip install scikit-learn lightgbm xgboost"
   ]
  },
  {
   "cell_type": "code",
   "execution_count": 20,
   "metadata": {},
   "outputs": [
    {
     "name": "stdout",
     "output_type": "stream",
     "text": [
      "Training dataset statistics: linear-regression \n",
      "\n",
      "Coefficients:  [-0.40006646 -0.00413119  0.07682077 -0.74904093]\n",
      "Intercept:  -1.078668523504994\n",
      "RMSE: 1.716\n",
      "MAE: 1.254\n",
      "Coefficient of Correlation: 0.464\n",
      "===============================================\n",
      "\n",
      "Training dataset statistics: random-forest \n",
      "\n",
      "RMSE: 0.476\n",
      "MAE: 0.317\n",
      "Coefficient of Correlation: 0.959\n",
      "===============================================\n",
      "\n",
      "Training dataset statistics: lightgbm-regressor \n",
      "\n",
      "RMSE: 1.098\n",
      "MAE: 0.777\n",
      "Coefficient of Correlation: 0.780\n",
      "===============================================\n",
      "\n",
      "Training dataset statistics: xgboost-regressor \n",
      "\n",
      "RMSE: 0.877\n",
      "MAE: 0.627\n",
      "Coefficient of Correlation: 0.860\n",
      "===============================================\n",
      "\n"
     ]
    }
   ],
   "source": [
    "from xgboost.sklearn import XGBRegressor\n",
    "from lightgbm.sklearn import LGBMRegressor\n",
    "\n",
    "\n",
    "from sklearn.linear_model import LinearRegression\n",
    "from sklearn.ensemble import RandomForestRegressor\n",
    "from sklearn.metrics import mean_squared_error, r2_score, mean_absolute_error\n",
    "from sklearn.model_selection import train_test_split\n",
    "\n",
    "X_dataset, y = train_dataset[[\"MolLogP\", \"MolWeight\", \"NumRotatableBonds\", \"AromaticProportion\"]], train_dataset[\"y\"]\n",
    "\n",
    "\n",
    "models = {\n",
    "    \"linear-regression\": LinearRegression().fit(X_dataset, y),\n",
    "    \"random-forest\": RandomForestRegressor().fit(X_dataset, y),\n",
    "    \"lightgbm-regressor\": LGBMRegressor().fit(X_dataset, y),\n",
    "    \"xgboost-regressor\": XGBRegressor().fit(X_dataset, y)\n",
    "}\n",
    "\n",
    "for key, model in models.items():\n",
    "    print(f\"Training dataset statistics: {key} \\n\")\n",
    "    \n",
    "    pred_train = model.predict(X_dataset)\n",
    "    \n",
    "    if key == \"linear-regression\":\n",
    "        print(\"Coefficients: \", model.coef_)\n",
    "        print(\"Intercept: \", model.intercept_)\n",
    "        \n",
    "    print(f\"RMSE: {math.sqrt(mean_squared_error(y, pred_train)):.3f}\")\n",
    "    print(f\"MAE: {mean_absolute_error(y, pred_train):.3f}\")\n",
    "    print(f\"Coefficient of Correlation: {r2_score(y, pred_train):.3f}\")\n",
    "    \n",
    "    print(\"===============================================\\n\")\n",
    "\n"
   ]
  },
  {
   "cell_type": "code",
   "execution_count": 21,
   "metadata": {},
   "outputs": [
    {
     "name": "stdout",
     "output_type": "stream",
     "text": [
      "Training dataset statistics: linear-regression \n",
      "\n",
      "RMSE: 1.122\n",
      "MAE: 0.883\n",
      "Coefficient of Correlation: 0.543\n",
      "===============================================\n",
      "\n",
      "Training dataset statistics: random-forest \n",
      "\n",
      "RMSE: 0.625\n",
      "MAE: 0.405\n",
      "Coefficient of Correlation: 0.858\n",
      "===============================================\n",
      "\n",
      "Training dataset statistics: lightgbm-regressor \n",
      "\n",
      "RMSE: 0.903\n",
      "MAE: 0.711\n",
      "Coefficient of Correlation: 0.704\n",
      "===============================================\n",
      "\n",
      "Training dataset statistics: xgboost-regressor \n",
      "\n",
      "RMSE: 0.938\n",
      "MAE: 0.712\n",
      "Coefficient of Correlation: 0.680\n",
      "===============================================\n",
      "\n"
     ]
    }
   ],
   "source": [
    "X_test, y_test = dsl_parsed[[\"MolLogP\", \"MolWeight\", \"NumRotatableBonds\", \"AromaticProportion\"]], dsl_parsed[\"y\"]\n",
    "\n",
    "for key, model in models.items():\n",
    "    print(f\"Training dataset statistics: {key} \\n\")\n",
    "    \n",
    "    pred_train = model.predict(X_test)\n",
    "        \n",
    "    print(f\"RMSE: {math.sqrt(mean_squared_error(y_test, pred_train)):.3f}\")\n",
    "    print(f\"MAE: {mean_absolute_error(y_test, pred_train):.3f}\")\n",
    "    print(f\"Coefficient of Correlation: {r2_score(y_test, pred_train):.3f}\")\n",
    "    \n",
    "    print(\"===============================================\\n\")"
   ]
  },
  {
   "cell_type": "code",
   "execution_count": 22,
   "metadata": {},
   "outputs": [
    {
     "name": "stdout",
     "output_type": "stream",
     "text": [
      "Baseline model: Linear regression \n",
      "\n",
      "RMSE: 1.122\n",
      "MAE: 0.883\n",
      "Coefficient of Correlation: 0.543\n"
     ]
    }
   ],
   "source": [
    "print(\"Baseline model: Linear regression \\n\")\n",
    "pred_train = models[\"linear-regression\"].predict(X_test)\n",
    "        \n",
    "print(f\"RMSE: {math.sqrt(mean_squared_error(y_test, pred_train)):.3f}\")\n",
    "print(f\"MAE: {mean_absolute_error(y_test, pred_train):.3f}\")\n",
    "print(f\"Coefficient of Correlation: {r2_score(y_test, pred_train):.3f}\")"
   ]
  },
  {
   "cell_type": "code",
   "execution_count": 23,
   "metadata": {},
   "outputs": [
    {
     "name": "stdout",
     "output_type": "stream",
     "text": [
      "Best model: Random Forest Regression \n",
      "\n",
      "RMSE: 0.625\n",
      "MAE: 0.405\n",
      "Coefficient of Correlation: 0.858\n"
     ]
    }
   ],
   "source": [
    "print(\"Best model: Random Forest Regression \\n\")\n",
    "pred_train = models[\"random-forest\"].predict(X_test)\n",
    "        \n",
    "print(f\"RMSE: {math.sqrt(mean_squared_error(y_test, pred_train)):.3f}\")\n",
    "print(f\"MAE: {mean_absolute_error(y_test, pred_train):.3f}\")\n",
    "print(f\"Coefficient of Correlation: {r2_score(y_test, pred_train):.3f}\")"
   ]
  },
  {
   "cell_type": "code",
   "execution_count": 24,
   "metadata": {},
   "outputs": [],
   "source": [
    "train_dataset.to_csv(\"data/processed/esol-aqsol-training-set.csv\", index=False)\n",
    "dsl.to_csv(\"data/processed/dsl-100-test-set.csv\", index=False)"
   ]
  },
  {
   "attachments": {},
   "cell_type": "markdown",
   "metadata": {},
   "source": [
    "### Use optuna for hyperparameter tuning"
   ]
  },
  {
   "cell_type": "code",
   "execution_count": 25,
   "metadata": {},
   "outputs": [
    {
     "name": "stdout",
     "output_type": "stream",
     "text": [
      "Requirement already satisfied: optuna in c:\\users\\user\\onedrive\\desktop\\github\\small-molecules\\env\\lib\\site-packages (3.0.5)\n",
      "Requirement already satisfied: PyYAML in c:\\users\\user\\onedrive\\desktop\\github\\small-molecules\\env\\lib\\site-packages (from optuna) (6.0)\n",
      "Requirement already satisfied: importlib-metadata<5.0.0 in c:\\users\\user\\onedrive\\desktop\\github\\small-molecules\\env\\lib\\site-packages (from optuna) (4.13.0)\n",
      "Requirement already satisfied: cmaes>=0.8.2 in c:\\users\\user\\onedrive\\desktop\\github\\small-molecules\\env\\lib\\site-packages (from optuna) (0.9.0)\n",
      "Requirement already satisfied: tqdm in c:\\users\\user\\onedrive\\desktop\\github\\small-molecules\\env\\lib\\site-packages (from optuna) (4.64.1)\n",
      "Requirement already satisfied: cliff in c:\\users\\user\\onedrive\\desktop\\github\\small-molecules\\env\\lib\\site-packages (from optuna) (4.1.0)\n",
      "Requirement already satisfied: numpy in c:\\users\\user\\onedrive\\desktop\\github\\small-molecules\\env\\lib\\site-packages (from optuna) (1.23.5)\n",
      "Requirement already satisfied: alembic>=1.5.0 in c:\\users\\user\\onedrive\\desktop\\github\\small-molecules\\env\\lib\\site-packages (from optuna) (1.9.1)\n",
      "Requirement already satisfied: colorlog in c:\\users\\user\\onedrive\\desktop\\github\\small-molecules\\env\\lib\\site-packages (from optuna) (6.7.0)\n",
      "Requirement already satisfied: packaging>=20.0 in c:\\users\\user\\onedrive\\desktop\\github\\small-molecules\\env\\lib\\site-packages (from optuna) (22.0)\n",
      "Requirement already satisfied: sqlalchemy>=1.3.0 in c:\\users\\user\\onedrive\\desktop\\github\\small-molecules\\env\\lib\\site-packages (from optuna) (1.4.45)\n",
      "Requirement already satisfied: scipy<1.9.0,>=1.7.0 in c:\\users\\user\\onedrive\\desktop\\github\\small-molecules\\env\\lib\\site-packages (from optuna) (1.8.1)\n",
      "Requirement already satisfied: Mako in c:\\users\\user\\onedrive\\desktop\\github\\small-molecules\\env\\lib\\site-packages (from alembic>=1.5.0->optuna) (1.2.4)\n",
      "Requirement already satisfied: zipp>=0.5 in c:\\users\\user\\onedrive\\desktop\\github\\small-molecules\\env\\lib\\site-packages (from importlib-metadata<5.0.0->optuna) (3.11.0)\n",
      "Requirement already satisfied: greenlet!=0.4.17 in c:\\users\\user\\onedrive\\desktop\\github\\small-molecules\\env\\lib\\site-packages (from sqlalchemy>=1.3.0->optuna) (2.0.1)\n",
      "Requirement already satisfied: cmd2>=1.0.0 in c:\\users\\user\\onedrive\\desktop\\github\\small-molecules\\env\\lib\\site-packages (from cliff->optuna) (2.4.2)\n",
      "Requirement already satisfied: autopage>=0.4.0 in c:\\users\\user\\onedrive\\desktop\\github\\small-molecules\\env\\lib\\site-packages (from cliff->optuna) (0.5.1)\n",
      "Requirement already satisfied: PrettyTable>=0.7.2 in c:\\users\\user\\onedrive\\desktop\\github\\small-molecules\\env\\lib\\site-packages (from cliff->optuna) (3.5.0)\n",
      "Requirement already satisfied: stevedore>=2.0.1 in c:\\users\\user\\onedrive\\desktop\\github\\small-molecules\\env\\lib\\site-packages (from cliff->optuna) (4.1.1)\n",
      "Requirement already satisfied: colorama in c:\\users\\user\\onedrive\\desktop\\github\\small-molecules\\env\\lib\\site-packages (from colorlog->optuna) (0.4.6)\n",
      "Requirement already satisfied: attrs>=16.3.0 in c:\\users\\user\\onedrive\\desktop\\github\\small-molecules\\env\\lib\\site-packages (from cmd2>=1.0.0->cliff->optuna) (22.2.0)\n",
      "Requirement already satisfied: pyreadline3 in c:\\users\\user\\onedrive\\desktop\\github\\small-molecules\\env\\lib\\site-packages (from cmd2>=1.0.0->cliff->optuna) (3.4.1)\n",
      "Requirement already satisfied: pyperclip>=1.6 in c:\\users\\user\\onedrive\\desktop\\github\\small-molecules\\env\\lib\\site-packages (from cmd2>=1.0.0->cliff->optuna) (1.8.2)\n",
      "Requirement already satisfied: wcwidth>=0.1.7 in c:\\users\\user\\onedrive\\desktop\\github\\small-molecules\\env\\lib\\site-packages (from cmd2>=1.0.0->cliff->optuna) (0.2.5)\n",
      "Requirement already satisfied: pbr!=2.1.0,>=2.0.0 in c:\\users\\user\\onedrive\\desktop\\github\\small-molecules\\env\\lib\\site-packages (from stevedore>=2.0.1->cliff->optuna) (5.11.0)\n",
      "Requirement already satisfied: MarkupSafe>=0.9.2 in c:\\users\\user\\onedrive\\desktop\\github\\small-molecules\\env\\lib\\site-packages (from Mako->alembic>=1.5.0->optuna) (2.1.1)\n"
     ]
    }
   ],
   "source": [
    "! pip install optuna"
   ]
  },
  {
   "cell_type": "code",
   "execution_count": 28,
   "metadata": {},
   "outputs": [
    {
     "name": "stderr",
     "output_type": "stream",
     "text": [
      "\u001b[32m[I 2022-12-31 12:17:22,287]\u001b[0m A new study created in memory with name: experiment-2022-12-31 12:17:22.287579\u001b[0m\n",
      "\u001b[32m[I 2022-12-31 12:17:30,510]\u001b[0m Trial 0 finished with value: -1.2326689625733902 and parameters: {'max_depth': 40, 'n_estimators': 26, 'criterion': 'squared_error', 'max_features': None}. Best is trial 0 with value: -1.2326689625733902.\u001b[0m\n",
      "\u001b[32m[I 2022-12-31 12:17:32,920]\u001b[0m Trial 1 finished with value: -1.2069495915000839 and parameters: {'max_depth': 35, 'n_estimators': 58, 'criterion': 'squared_error', 'max_features': 'log2'}. Best is trial 1 with value: -1.2069495915000839.\u001b[0m\n",
      "\u001b[32m[I 2022-12-31 12:17:34,641]\u001b[0m Trial 5 finished with value: -1.6944724911136866 and parameters: {'max_depth': 1, 'n_estimators': 65, 'criterion': 'friedman_mse', 'max_features': None}. Best is trial 1 with value: -1.2069495915000839.\u001b[0m\n",
      "\u001b[32m[I 2022-12-31 12:18:25,101]\u001b[0m Trial 6 finished with value: -1.2657826225709519 and parameters: {'max_depth': 45, 'n_estimators': 12, 'criterion': 'absolute_error', 'max_features': None}. Best is trial 1 with value: -1.2069495915000839.\u001b[0m\n",
      "\u001b[32m[I 2022-12-31 12:18:40,692]\u001b[0m Trial 7 finished with value: -1.2001651881234148 and parameters: {'max_depth': 71, 'n_estimators': 95, 'criterion': 'squared_error', 'max_features': 'sqrt'}. Best is trial 7 with value: -1.2001651881234148.\u001b[0m\n",
      "\u001b[32m[I 2022-12-31 12:18:48,689]\u001b[0m Trial 4 finished with value: -1.4030578732213337 and parameters: {'max_depth': 3, 'n_estimators': 48, 'criterion': 'absolute_error', 'max_features': 'log2'}. Best is trial 7 with value: -1.2001651881234148.\u001b[0m\n",
      "\u001b[32m[I 2022-12-31 12:19:21,867]\u001b[0m Trial 9 finished with value: -1.2248591729159535 and parameters: {'max_depth': 45, 'n_estimators': 14, 'criterion': 'absolute_error', 'max_features': 'log2'}. Best is trial 7 with value: -1.2001651881234148.\u001b[0m\n",
      "\u001b[32m[I 2022-12-31 12:21:02,138]\u001b[0m Trial 2 finished with value: -1.2050024909054275 and parameters: {'max_depth': 16, 'n_estimators': 92, 'criterion': 'absolute_error', 'max_features': 'log2'}. Best is trial 7 with value: -1.2001651881234148.\u001b[0m\n",
      "\u001b[32m[I 2022-12-31 12:21:13,318]\u001b[0m Trial 11 finished with value: -1.201443714054619 and parameters: {'max_depth': 48, 'n_estimators': 65, 'criterion': 'friedman_mse', 'max_features': 'log2'}. Best is trial 7 with value: -1.2001651881234148.\u001b[0m\n",
      "\u001b[32m[I 2022-12-31 12:21:21,370]\u001b[0m Trial 12 finished with value: -1.2044038911392687 and parameters: {'max_depth': 14, 'n_estimators': 63, 'criterion': 'squared_error', 'max_features': 'log2'}. Best is trial 7 with value: -1.2001651881234148.\u001b[0m\n",
      "\u001b[32m[I 2022-12-31 12:21:37,042]\u001b[0m Trial 10 finished with value: -1.1989141757692419 and parameters: {'max_depth': 86, 'n_estimators': 54, 'criterion': 'absolute_error', 'max_features': 'log2'}. Best is trial 10 with value: -1.1989141757692419.\u001b[0m\n",
      "\u001b[32m[I 2022-12-31 12:21:38,202]\u001b[0m Trial 13 finished with value: -1.200688299435655 and parameters: {'max_depth': 88, 'n_estimators': 97, 'criterion': 'squared_error', 'max_features': 'sqrt'}. Best is trial 10 with value: -1.1989141757692419.\u001b[0m\n",
      "\u001b[32m[I 2022-12-31 12:21:54,282]\u001b[0m Trial 14 finished with value: -1.1974946793952213 and parameters: {'max_depth': 85, 'n_estimators': 100, 'criterion': 'squared_error', 'max_features': 'sqrt'}. Best is trial 14 with value: -1.1974946793952213.\u001b[0m\n",
      "\u001b[32m[I 2022-12-31 12:22:25,857]\u001b[0m Trial 3 finished with value: -1.3150437405808002 and parameters: {'max_depth': 6, 'n_estimators': 84, 'criterion': 'absolute_error', 'max_features': None}. Best is trial 14 with value: -1.1974946793952213.\u001b[0m\n",
      "\u001b[32m[I 2022-12-31 12:22:32,917]\u001b[0m Trial 17 finished with value: -1.2078335448911044 and parameters: {'max_depth': 99, 'n_estimators': 42, 'criterion': 'friedman_mse', 'max_features': 'sqrt'}. Best is trial 14 with value: -1.1974946793952213.\u001b[0m\n",
      "\u001b[32m[I 2022-12-31 12:23:16,746]\u001b[0m Trial 8 finished with value: -1.2190258565133338 and parameters: {'max_depth': 22, 'n_estimators': 63, 'criterion': 'absolute_error', 'max_features': None}. Best is trial 14 with value: -1.1974946793952213.\u001b[0m\n",
      "\u001b[32m[I 2022-12-31 12:23:30,269]\u001b[0m Trial 19 finished with value: -1.2022287710488304 and parameters: {'max_depth': 68, 'n_estimators': 78, 'criterion': 'squared_error', 'max_features': 'sqrt'}. Best is trial 14 with value: -1.1974946793952213.\u001b[0m\n",
      "\u001b[32m[I 2022-12-31 12:23:36,434]\u001b[0m Trial 20 finished with value: -1.2111246035749865 and parameters: {'max_depth': 69, 'n_estimators': 36, 'criterion': 'squared_error', 'max_features': 'sqrt'}. Best is trial 14 with value: -1.1974946793952213.\u001b[0m\n",
      "\u001b[32m[I 2022-12-31 12:23:42,005]\u001b[0m Trial 16 finished with value: -1.2014056679845073 and parameters: {'max_depth': 100, 'n_estimators': 43, 'criterion': 'absolute_error', 'max_features': 'sqrt'}. Best is trial 14 with value: -1.1974946793952213.\u001b[0m\n",
      "\u001b[32m[I 2022-12-31 12:23:54,967]\u001b[0m Trial 22 finished with value: -1.2024923050793572 and parameters: {'max_depth': 84, 'n_estimators': 76, 'criterion': 'friedman_mse', 'max_features': 'log2'}. Best is trial 14 with value: -1.1974946793952213.\u001b[0m\n",
      "\u001b[32m[I 2022-12-31 12:24:00,271]\u001b[0m Trial 23 finished with value: -1.21539394516649 and parameters: {'max_depth': 60, 'n_estimators': 31, 'criterion': 'squared_error', 'max_features': 'sqrt'}. Best is trial 14 with value: -1.1974946793952213.\u001b[0m\n",
      "\u001b[32m[I 2022-12-31 12:24:16,797]\u001b[0m Trial 24 finished with value: -1.198370296565723 and parameters: {'max_depth': 80, 'n_estimators': 99, 'criterion': 'squared_error', 'max_features': 'sqrt'}. Best is trial 14 with value: -1.1974946793952213.\u001b[0m\n",
      "\u001b[32m[I 2022-12-31 12:24:31,192]\u001b[0m Trial 25 finished with value: -1.2008114590533459 and parameters: {'max_depth': 84, 'n_estimators': 86, 'criterion': 'squared_error', 'max_features': 'sqrt'}. Best is trial 14 with value: -1.1974946793952213.\u001b[0m\n",
      "\u001b[32m[I 2022-12-31 12:24:48,350]\u001b[0m Trial 26 finished with value: -1.2019204970896789 and parameters: {'max_depth': 76, 'n_estimators': 100, 'criterion': 'squared_error', 'max_features': 'sqrt'}. Best is trial 14 with value: -1.1974946793952213.\u001b[0m\n",
      "\u001b[32m[I 2022-12-31 12:25:00,529]\u001b[0m Trial 27 finished with value: -1.203144028784118 and parameters: {'max_depth': 59, 'n_estimators': 72, 'criterion': 'squared_error', 'max_features': 'sqrt'}. Best is trial 14 with value: -1.1974946793952213.\u001b[0m\n",
      "\u001b[32m[I 2022-12-31 12:25:02,108]\u001b[0m Trial 15 finished with value: -1.201649199897753 and parameters: {'max_depth': 82, 'n_estimators': 82, 'criterion': 'absolute_error', 'max_features': 'sqrt'}. Best is trial 14 with value: -1.1974946793952213.\u001b[0m\n",
      "\u001b[32m[I 2022-12-31 12:25:10,499]\u001b[0m Trial 29 finished with value: -1.2044822155349142 and parameters: {'max_depth': 92, 'n_estimators': 51, 'criterion': 'squared_error', 'max_features': 'log2'}. Best is trial 14 with value: -1.1974946793952213.\u001b[0m\n",
      "\u001b[32m[I 2022-12-31 12:25:44,077]\u001b[0m Trial 18 finished with value: -1.200150850806466 and parameters: {'max_depth': 70, 'n_estimators': 77, 'criterion': 'absolute_error', 'max_features': 'sqrt'}. Best is trial 14 with value: -1.1974946793952213.\u001b[0m\n",
      "\u001b[32m[I 2022-12-31 12:26:33,778]\u001b[0m Trial 21 finished with value: -1.2004614293408282 and parameters: {'max_depth': 82, 'n_estimators': 74, 'criterion': 'absolute_error', 'max_features': 'sqrt'}. Best is trial 14 with value: -1.1974946793952213.\u001b[0m\n",
      "\u001b[32m[I 2022-12-31 12:26:57,792]\u001b[0m Trial 28 finished with value: -1.2072460742422004 and parameters: {'max_depth': 94, 'n_estimators': 52, 'criterion': 'absolute_error', 'max_features': 'sqrt'}. Best is trial 14 with value: -1.1974946793952213.\u001b[0m\n"
     ]
    }
   ],
   "source": [
    "import datetime\n",
    "import optuna\n",
    "from functools import partial\n",
    "\n",
    "from sklearn.model_selection import cross_val_score\n",
    "\n",
    "def objective(trial, name, X_train, y_train):\n",
    "    max_depth = trial.suggest_int('max_depth', 1, 100)\n",
    "    n_estimators = trial.suggest_int('n_estimators', 10, 100)\n",
    "    criterion = trial.suggest_categorical(\"criterion\", [\"squared_error\", \"absolute_error\", \"friedman_mse\"])\n",
    "    max_features = trial.suggest_categorical(\"max_features\", [\"sqrt\", \"log2\", None])\n",
    "    \n",
    "    random_regressor = RandomForestRegressor(\n",
    "        n_estimators=n_estimators,\n",
    "        max_depth=max_depth,\n",
    "        criterion=criterion,\n",
    "        max_features=max_features\n",
    "    )\n",
    "    \n",
    "    score = cross_val_score(random_regressor, X_train, y_train, cv=5, scoring=\"neg_root_mean_squared_error\")\n",
    "    return score.mean()\n",
    "\n",
    "current_time = datetime.datetime.now()\n",
    "\n",
    "opt_function = partial(objective, name=\"rf\", X_train=X_dataset, y_train=y)\n",
    "\n",
    "study = optuna.create_study(direction=\"maximize\", study_name=f\"experiment-{current_time}\")\n",
    "study.optimize(opt_function, n_trials=30, n_jobs=-1)                                                         "
   ]
  },
  {
   "cell_type": "code",
   "execution_count": 29,
   "metadata": {},
   "outputs": [
    {
     "name": "stdout",
     "output_type": "stream",
     "text": [
      "RMSE: 0.474\n",
      "MAE: 0.315\n",
      "Coefficient of Correlation: 0.959\n"
     ]
    }
   ],
   "source": [
    "params = study.best_params\n",
    "\n",
    "random_forest = RandomForestRegressor(**params).fit(X_dataset, y)\n",
    "\n",
    "pred_train = random_forest.predict(X_dataset)\n",
    "        \n",
    "print(f\"RMSE: {math.sqrt(mean_squared_error(y, pred_train)):.3f}\")\n",
    "print(f\"MAE: {mean_absolute_error(y, pred_train):.3f}\")\n",
    "print(f\"Coefficient of Correlation: {r2_score(y, pred_train):.3f}\")"
   ]
  },
  {
   "cell_type": "code",
   "execution_count": 30,
   "metadata": {},
   "outputs": [
    {
     "name": "stdout",
     "output_type": "stream",
     "text": [
      "RMSE: 0.631\n",
      "MAE: 0.402\n",
      "Coefficient of Correlation: 0.856\n"
     ]
    }
   ],
   "source": [
    "pred_test = random_forest.predict(X_test)\n",
    "        \n",
    "print(f\"RMSE: {math.sqrt(mean_squared_error(y_test, pred_test)):.3f}\")\n",
    "print(f\"MAE: {mean_absolute_error(y_test, pred_test):.3f}\")\n",
    "print(f\"Coefficient of Correlation: {r2_score(y_test, pred_test):.3f}\")"
   ]
  },
  {
   "cell_type": "code",
   "execution_count": 31,
   "metadata": {},
   "outputs": [
    {
     "data": {
      "image/png": "[encoded data removed]",
      "text/plain": [
       "<Figure size 500x400 with 1 Axes>"
      ]
     },
     "metadata": {},
     "output_type": "display_data"
    }
   ],
   "source": [
    "import matplotlib.pyplot as plt\n",
    "\n",
    "plt.figure(figsize=(5, 4))\n",
    "plt.scatter(y_test, pred_test)\n",
    "plt.xlabel(\"Calculate log(S) mol/L\")\n",
    "plt.ylabel(\"Predicted log(S) mol/L\")\n",
    "plt.title(\"Random Forest Regressor preditions of Aqueous solubility\")\n",
    "plt.show()"
   ]
  },
  {
   "cell_type": "code",
   "execution_count": 32,
   "metadata": {},
   "outputs": [],
   "source": [
    "import joblib\n",
    "\n",
    "with open(file=\"model/regressors/solubility-rf-sklearn.model\", mode=\"wb\") as file:\n",
    "    joblib.dump(value=random_forest, filename=file)"
   ]
  },
  {
   "cell_type": "code",
   "execution_count": 102,
   "metadata": {},
   "outputs": [],
   "source": [
    "import torch\n",
    "import torch.nn.functional as F\n",
    "\n",
    "class Network(torch.nn.Module):\n",
    "    def __init__(self):\n",
    "        super(Network, self).__init__()\n",
    "        self.layer_one = torch.nn.Linear(in_features=4, out_features=1)\n",
    "        # self.layer_two = torch.nn.Linear(in_features=2, out_features=1)\n",
    "        self.out = torch.nn.Linear(in_features=1, out_features=1)\n",
    "    \n",
    "    def forward(self, features) -> float:\n",
    "        output = F.leaky_relu(self.layer_one(features))\n",
    "        # output = F.leaky_relu(self.layer_two(output))\n",
    "        output = self.out(output)\n",
    "        \n",
    "        return output\n",
    "\n",
    "prediction_network = Network()"
   ]
  },
  {
   "cell_type": "code",
   "execution_count": 103,
   "metadata": {},
   "outputs": [
    {
     "name": "stdout",
     "output_type": "stream",
     "text": [
      "Parameter containing:\n",
      "tensor([[ 0.2688, -0.3286, -0.2907,  0.4251]], requires_grad=True)\n",
      "Parameter containing:\n",
      "tensor([-0.3810], requires_grad=True)\n",
      "Parameter containing:\n",
      "tensor([[0.1235]], requires_grad=True)\n",
      "Parameter containing:\n",
      "tensor([-0.8102], requires_grad=True)\n"
     ]
    }
   ],
   "source": [
    "for _, parameter in enumerate(list(prediction_network.parameters()), start = 1):\n",
    "    print(parameter)"
   ]
  },
  {
   "cell_type": "code",
   "execution_count": 104,
   "metadata": {},
   "outputs": [
    {
     "name": "stderr",
     "output_type": "stream",
     "text": [
      "c:\\Users\\user\\OneDrive\\Desktop\\GitHub\\small-molecules\\env\\lib\\site-packages\\torch\\nn\\modules\\loss.py:536: UserWarning: Using a target size (torch.Size([])) that is different to the input size (torch.Size([1])). This will likely lead to incorrect results due to broadcasting. Please ensure they have the same size.\n",
      "  return F.mse_loss(input, target, reduction=self.reduction)\n"
     ]
    }
   ],
   "source": [
    "X_dataset_tensor, y_tensor = torch.tensor(X_dataset.to_numpy(), dtype=torch.float32), torch.tensor(y.to_numpy(), dtype=torch.float32)\n",
    "X_test_tensor, y_test_tensor = torch.tensor(X_test.to_numpy(), dtype=torch.float32), torch.tensor(y_test.to_numpy(), dtype=torch.float32)\n",
    "\n",
    "optimizer = torch.optim.Adam(prediction_network.parameters(), lr=0.01)\n",
    "criterion = torch.nn.MSELoss()\n",
    "\n",
    "for x, target in zip(X_dataset_tensor, y_tensor):\n",
    "    optimizer.zero_grad()\n",
    "    output = prediction_network(x)\n",
    "    loss = criterion(output, target)\n",
    "    loss.backward()\n",
    "    optimizer.step()\n"
   ]
  },
  {
   "cell_type": "code",
   "execution_count": 105,
   "metadata": {},
   "outputs": [
    {
     "name": "stdout",
     "output_type": "stream",
     "text": [
      "Average loss: 2.0880448818206787\n"
     ]
    }
   ],
   "source": [
    "total_loss: float = 0.0\n",
    "\n",
    "for x, target in zip(X_test_tensor, y_test_tensor):\n",
    "    output = prediction_network(x)\n",
    "    loss = criterion(output, target)\n",
    "    total_loss = total_loss + loss\n",
    "\n",
    "print(f\"Average loss: {total_loss/len(X_test_tensor)}\")"
   ]
  },
  {
   "cell_type": "code",
   "execution_count": 107,
   "metadata": {},
   "outputs": [
    {
     "name": "stdout",
     "output_type": "stream",
     "text": [
      "Testing RMSE: 1.4450068473815918\n"
     ]
    }
   ],
   "source": [
    "mean_loss = total_loss/len(X_test_tensor)\n",
    "\n",
    "print(f\"Testing RMSE: {torch.sqrt(mean_loss).detach().numpy()}\")"
   ]
  },
  {
   "cell_type": "code",
   "execution_count": null,
   "metadata": {},
   "outputs": [],
   "source": []
  }
 ],
 "metadata": {
  "kernelspec": {
   "display_name": "env",
   "language": "python",
   "name": "python3"
  },
  "language_info": {
   "codemirror_mode": {
    "name": "ipython",
    "version": 3
   },
   "file_extension": ".py",
   "mimetype": "text/x-python",
   "name": "python",
   "nbconvert_exporter": "python",
   "pygments_lexer": "ipython3",
   "version": "3.10.9"
  },
  "orig_nbformat": 4,
  "vscode": {
   "interpreter": {
    "hash": "4df9ae2f3669d2915414309207e4c3fb96f9f71dd598ede9d89ce16f72233d5f"
   }
  }
 },
 "nbformat": 4,
 "nbformat_minor": 2
}
