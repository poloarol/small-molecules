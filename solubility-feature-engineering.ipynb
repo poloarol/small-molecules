{
 "cells": [
  {
   "attachments": {},
   "cell_type": "markdown",
   "metadata": {},
   "source": [
    "# Preparation of Dataset for solubility prediction\n",
    "\n",
    "## Datasets\n",
    "\n",
    "1. [ESOL: Estimating Aqueous Solubility Directly from Molecular Structure](https://pubs.acs.org/doi/10.1021/ci034243x)\n",
    "2. [AqSolDB, a curated reference set of aqueous solubility and 2D descriptors for a diverse set of compounds](https://www.nature.com/articles/s41597-019-0151-1)\n",
    "3. [Is Experimental Data Quality the Limiting Factor in Predicting the Aqueous Solubility of Driglike Molecules](https://pubs.acs.org/doi/full/10.1021/mp500103r)"
   ]
  },
  {
   "attachments": {},
   "cell_type": "markdown",
   "metadata": {},
   "source": [
    "## Backgroud:\n",
    "\n",
    "Aqueous solubility is a key factor in drug discovery, since if a molecule is not soluble. it will typically be poorly bioavailable, making it difficult to perform <i>in-vivo</i> studies with it, and hence deliver to patients."
   ]
  },
  {
   "cell_type": "code",
   "execution_count": 145,
   "metadata": {},
   "outputs": [
    {
     "name": "stdout",
     "output_type": "stream",
     "text": [
      "Requirement already satisfied: rdkit in c:\\users\\user\\onedrive\\desktop\\github\\small-molecules\\env\\lib\\site-packages (2022.9.3)\n",
      "Requirement already satisfied: pandas in c:\\users\\user\\onedrive\\desktop\\github\\small-molecules\\env\\lib\\site-packages (1.5.2)\n",
      "Requirement already satisfied: numpy in c:\\users\\user\\onedrive\\desktop\\github\\small-molecules\\env\\lib\\site-packages (1.23.5)\n",
      "Requirement already satisfied: Pillow in c:\\users\\user\\onedrive\\desktop\\github\\small-molecules\\env\\lib\\site-packages (from rdkit) (9.3.0)\n",
      "Requirement already satisfied: python-dateutil>=2.8.1 in c:\\users\\user\\onedrive\\desktop\\github\\small-molecules\\env\\lib\\site-packages (from pandas) (2.8.2)\n",
      "Requirement already satisfied: pytz>=2020.1 in c:\\users\\user\\onedrive\\desktop\\github\\small-molecules\\env\\lib\\site-packages (from pandas) (2022.7)\n",
      "Requirement already satisfied: six>=1.5 in c:\\users\\user\\onedrive\\desktop\\github\\small-molecules\\env\\lib\\site-packages (from python-dateutil>=2.8.1->pandas) (1.16.0)\n"
     ]
    }
   ],
   "source": [
    "! pip install rdkit pandas numpy"
   ]
  },
  {
   "cell_type": "code",
   "execution_count": 211,
   "metadata": {},
   "outputs": [],
   "source": [
    "import math\n",
    "import numpy as np\n",
    "import pandas as pd\n",
    "from rdkit import Chem\n",
    "from rdkit.Chem import Descriptors"
   ]
  },
  {
   "cell_type": "code",
   "execution_count": 147,
   "metadata": {},
   "outputs": [],
   "source": [
    "def load_csv(path: str) -> pd.DataFrame:\n",
    "    return pd.read_csv(path)"
   ]
  },
  {
   "cell_type": "code",
   "execution_count": 148,
   "metadata": {},
   "outputs": [],
   "source": [
    "esol = load_csv(path=\"data/esol.csv\")\n",
    "aqsol = load_csv(path=\"data/solubility-dataset-train.csv\")\n",
    "dsl = load_csv(path=\"data/dsl-100-unique.csv\")"
   ]
  },
  {
   "cell_type": "code",
   "execution_count": 149,
   "metadata": {},
   "outputs": [
    {
     "name": "stdout",
     "output_type": "stream",
     "text": [
      "<class 'pandas.core.frame.DataFrame'>\n",
      "RangeIndex: 1128 entries, 0 to 1127\n",
      "Data columns (total 10 columns):\n",
      " #   Column                                           Non-Null Count  Dtype  \n",
      "---  ------                                           --------------  -----  \n",
      " 0   Compound ID                                      1128 non-null   object \n",
      " 1   ESOL predicted log solubility in mols per litre  1128 non-null   float64\n",
      " 2   Minimum Degree                                   1128 non-null   int64  \n",
      " 3   Molecular Weight                                 1128 non-null   float64\n",
      " 4   Number of H-Bond Donors                          1128 non-null   int64  \n",
      " 5   Number of Rings                                  1128 non-null   int64  \n",
      " 6   Number of Rotatable Bonds                        1128 non-null   int64  \n",
      " 7   Polar Surface Area                               1128 non-null   float64\n",
      " 8   measured log solubility in mols per litre        1128 non-null   float64\n",
      " 9   smiles                                           1128 non-null   object \n",
      "dtypes: float64(4), int64(4), object(2)\n",
      "memory usage: 88.2+ KB\n",
      "None\n"
     ]
    }
   ],
   "source": [
    "print(esol.info())"
   ]
  },
  {
   "cell_type": "code",
   "execution_count": 150,
   "metadata": {},
   "outputs": [
    {
     "name": "stdout",
     "output_type": "stream",
     "text": [
      "<class 'pandas.core.frame.DataFrame'>\n",
      "RangeIndex: 9982 entries, 0 to 9981\n",
      "Data columns (total 26 columns):\n",
      " #   Column               Non-Null Count  Dtype  \n",
      "---  ------               --------------  -----  \n",
      " 0   ID                   9982 non-null   object \n",
      " 1   Name                 9982 non-null   object \n",
      " 2   InChI                9982 non-null   object \n",
      " 3   InChIKey             9982 non-null   object \n",
      " 4   SMILES               9982 non-null   object \n",
      " 5   Solubility           9982 non-null   float64\n",
      " 6   SD                   9982 non-null   float64\n",
      " 7   Ocurrences           9982 non-null   int64  \n",
      " 8   Group                9982 non-null   object \n",
      " 9   MolWt                9982 non-null   float64\n",
      " 10  MolLogP              9982 non-null   float64\n",
      " 11  MolMR                9982 non-null   float64\n",
      " 12  HeavyAtomCount       9982 non-null   float64\n",
      " 13  NumHAcceptors        9982 non-null   float64\n",
      " 14  NumHDonors           9982 non-null   float64\n",
      " 15  NumHeteroatoms       9982 non-null   float64\n",
      " 16  NumRotatableBonds    9982 non-null   float64\n",
      " 17  NumValenceElectrons  9982 non-null   float64\n",
      " 18  NumAromaticRings     9982 non-null   float64\n",
      " 19  NumSaturatedRings    9982 non-null   float64\n",
      " 20  NumAliphaticRings    9982 non-null   float64\n",
      " 21  RingCount            9982 non-null   float64\n",
      " 22  TPSA                 9982 non-null   float64\n",
      " 23  LabuteASA            9982 non-null   float64\n",
      " 24  BalabanJ             9982 non-null   float64\n",
      " 25  BertzCT              9982 non-null   float64\n",
      "dtypes: float64(19), int64(1), object(6)\n",
      "memory usage: 2.0+ MB\n",
      "None\n"
     ]
    }
   ],
   "source": [
    "print(aqsol.info())"
   ]
  },
  {
   "cell_type": "code",
   "execution_count": 151,
   "metadata": {},
   "outputs": [
    {
     "name": "stdout",
     "output_type": "stream",
     "text": [
      "<class 'pandas.core.frame.DataFrame'>\n",
      "RangeIndex: 56 entries, 0 to 55\n",
      "Data columns (total 12 columns):\n",
      " #   Column                         Non-Null Count  Dtype  \n",
      "---  ------                         --------------  -----  \n",
      " 0   Unnamed: 0                     56 non-null     int64  \n",
      " 1   Chemical name                  56 non-null     object \n",
      " 2   Crystal structure CSD refcode  56 non-null     object \n",
      " 3   LogS exp (mol/L)               56 non-null     float64\n",
      " 4   Reference                      56 non-null     int64  \n",
      " 5   Test                           56 non-null     bool   \n",
      " 6   SMILES                         56 non-null     object \n",
      " 7   Smiles Source                  56 non-null     object \n",
      " 8   Chemspider reference number    56 non-null     int64  \n",
      " 9   InChl                          56 non-null     object \n",
      " 10  cansmi                         56 non-null     object \n",
      " 11  is_unique                      56 non-null     bool   \n",
      "dtypes: bool(2), float64(1), int64(3), object(6)\n",
      "memory usage: 4.6+ KB\n",
      "None\n"
     ]
    }
   ],
   "source": [
    "print(dsl.info())"
   ]
  },
  {
   "attachments": {},
   "cell_type": "markdown",
   "metadata": {},
   "source": [
    "## Calculating Molecular Descriptors\n",
    "\n",
    "To predict log(S), the study of Delaney used four molecular descriptors:\n",
    "- cLogP (Octanol-Water partition coefficient)\n",
    "- MW (Molecular Weight)\n",
    "- RB (Number of rotatable bonds)\n",
    "- AP (Aromatic proportion = Number of aromatic atoms / total number of heavy atoms)"
   ]
  },
  {
   "cell_type": "code",
   "execution_count": 152,
   "metadata": {},
   "outputs": [],
   "source": [
    "def get_number_aromatic_atoms(molecule) -> int:\n",
    "    \n",
    "    aromatic_atoms = [molecule.GetAtomWithIdx(idx).GetIsAromatic() for idx in range(molecule.GetNumAtoms())]\n",
    "    count = []\n",
    "    for _, value in enumerate(aromatic_atoms):\n",
    "        if value == True:\n",
    "            count.append(value)\n",
    "    sum_count = sum(count)\n",
    "    \n",
    "    return sum_count"
   ]
  },
  {
   "cell_type": "code",
   "execution_count": 153,
   "metadata": {},
   "outputs": [],
   "source": [
    "def calc_aromatic_descriptors(molecule) -> float:\n",
    "    aromatic_atoms: int = get_number_aromatic_atoms(molecule)\n",
    "    num_heavy_atoms: int = Descriptors.HeavyAtomCount(molecule)\n",
    "    \n",
    "    aromatic_proportion: float = aromatic_atoms / num_heavy_atoms\n",
    "    return aromatic_proportion"
   ]
  },
  {
   "cell_type": "code",
   "execution_count": 154,
   "metadata": {},
   "outputs": [],
   "source": [
    "def generate_dataset(molecules) -> pd.DataFrame:\n",
    "    smiles = []\n",
    "    rows = []\n",
    "\n",
    "    for molecule in molecules:\n",
    "        descriptor = Chem.MolFromSmiles(molecule)\n",
    "        smiles.append(descriptor)\n",
    "    \n",
    "    for smile in smiles:\n",
    "        mol_log_p: float = Descriptors.MolLogP(smile)\n",
    "        mol_weight: float = Descriptors.MolWt(smile)\n",
    "        num_rot_bonds: int = Descriptors.NumRotatableBonds(smile)\n",
    "        aromatic_proportion: float = calc_aromatic_descriptors(smile)\n",
    "        \n",
    "        row = [smile, mol_log_p, mol_weight, num_rot_bonds, aromatic_proportion]\n",
    "        rows.append(row)\n",
    "    \n",
    "    df = pd.DataFrame(data=rows, columns=[\"SMILES\", \"MolLogP\", \"MolWeight\", \"NumRotatableBonds\", \"AromaticProportion\"])\n",
    "    return df"
   ]
  },
  {
   "cell_type": "code",
   "execution_count": 155,
   "metadata": {},
   "outputs": [
    {
     "name": "stderr",
     "output_type": "stream",
     "text": [
      "[16:48:01] WARNING: not removing hydrogen atom without neighbors\n",
      "[16:48:01] WARNING: not removing hydrogen atom without neighbors\n",
      "[16:48:01] WARNING: not removing hydrogen atom without neighbors\n",
      "[16:48:01] WARNING: not removing hydrogen atom without neighbors\n",
      "[16:48:01] WARNING: not removing hydrogen atom without neighbors\n",
      "[16:48:01] WARNING: not removing hydrogen atom without neighbors\n",
      "[16:48:01] WARNING: not removing hydrogen atom without neighbors\n",
      "[16:48:01] WARNING: not removing hydrogen atom without neighbors\n",
      "[16:48:01] WARNING: not removing hydrogen atom without neighbors\n",
      "[16:48:01] WARNING: not removing hydrogen atom without neighbors\n",
      "[16:48:01] WARNING: not removing hydrogen atom without neighbors\n",
      "[16:48:01] WARNING: not removing hydrogen atom without neighbors\n",
      "[16:48:02] WARNING: not removing hydrogen atom without neighbors\n",
      "[16:48:02] WARNING: not removing hydrogen atom without neighbors\n",
      "[16:48:02] WARNING: not removing hydrogen atom without neighbors\n",
      "[16:48:02] WARNING: not removing hydrogen atom without neighbors\n",
      "[16:48:02] WARNING: not removing hydrogen atom without neighbors\n",
      "[16:48:02] WARNING: not removing hydrogen atom without neighbors\n",
      "[16:48:02] WARNING: not removing hydrogen atom without neighbors\n",
      "[16:48:02] WARNING: not removing hydrogen atom without neighbors\n",
      "[16:48:02] WARNING: not removing hydrogen atom without neighbors\n",
      "[16:48:02] WARNING: not removing hydrogen atom without neighbors\n",
      "[16:48:02] WARNING: not removing hydrogen atom without neighbors\n",
      "[16:48:02] WARNING: not removing hydrogen atom without neighbors\n",
      "[16:48:02] WARNING: not removing hydrogen atom without neighbors\n",
      "[16:48:02] WARNING: not removing hydrogen atom without neighbors\n",
      "[16:48:02] WARNING: not removing hydrogen atom without neighbors\n",
      "[16:48:02] WARNING: not removing hydrogen atom without neighbors\n",
      "[16:48:02] WARNING: not removing hydrogen atom without neighbors\n",
      "[16:48:02] WARNING: not removing hydrogen atom without neighbors\n",
      "[16:48:02] WARNING: not removing hydrogen atom without neighbors\n",
      "[16:48:02] WARNING: not removing hydrogen atom without neighbors\n",
      "[16:48:02] WARNING: not removing hydrogen atom without neighbors\n",
      "[16:48:02] WARNING: not removing hydrogen atom without neighbors\n",
      "[16:48:02] WARNING: not removing hydrogen atom without neighbors\n",
      "[16:48:02] WARNING: not removing hydrogen atom without neighbors\n",
      "[16:48:02] WARNING: not removing hydrogen atom without neighbors\n",
      "[16:48:02] WARNING: not removing hydrogen atom without neighbors\n",
      "[16:48:02] WARNING: not removing hydrogen atom without neighbors\n",
      "[16:48:02] WARNING: not removing hydrogen atom without neighbors\n",
      "[16:48:02] WARNING: not removing hydrogen atom without neighbors\n",
      "[16:48:02] WARNING: not removing hydrogen atom without neighbors\n",
      "[16:48:02] WARNING: not removing hydrogen atom without neighbors\n",
      "[16:48:02] WARNING: not removing hydrogen atom without neighbors\n",
      "[16:48:02] WARNING: not removing hydrogen atom without neighbors\n",
      "[16:48:02] WARNING: not removing hydrogen atom without neighbors\n",
      "[16:48:02] WARNING: not removing hydrogen atom without neighbors\n",
      "[16:48:02] WARNING: not removing hydrogen atom without neighbors\n",
      "[16:48:02] WARNING: not removing hydrogen atom without neighbors\n",
      "[16:48:02] WARNING: not removing hydrogen atom without neighbors\n",
      "[16:48:02] WARNING: not removing hydrogen atom without neighbors\n",
      "[16:48:02] WARNING: not removing hydrogen atom without neighbors\n",
      "[16:48:02] WARNING: not removing hydrogen atom without neighbors\n",
      "[16:48:02] WARNING: not removing hydrogen atom without neighbors\n",
      "[16:48:02] WARNING: not removing hydrogen atom without neighbors\n",
      "[16:48:02] WARNING: not removing hydrogen atom without neighbors\n",
      "[16:48:02] WARNING: not removing hydrogen atom without neighbors\n",
      "[16:48:02] WARNING: not removing hydrogen atom without neighbors\n",
      "[16:48:02] WARNING: not removing hydrogen atom without neighbors\n",
      "[16:48:02] WARNING: not removing hydrogen atom without neighbors\n",
      "[16:48:02] WARNING: not removing hydrogen atom without neighbors\n",
      "[16:48:03] WARNING: not removing hydrogen atom without neighbors\n",
      "[16:48:03] WARNING: not removing hydrogen atom without neighbors\n",
      "[16:48:03] WARNING: not removing hydrogen atom without neighbors\n",
      "[16:48:03] WARNING: not removing hydrogen atom without neighbors\n"
     ]
    }
   ],
   "source": [
    "esol_parsed = generate_dataset(molecules=esol[\"smiles\"])\n",
    "aqsol_parsed = generate_dataset(molecules=aqsol[\"SMILES\"])\n",
    "dsl_parsed = generate_dataset(molecules=dsl[\"SMILES\"])"
   ]
  },
  {
   "cell_type": "code",
   "execution_count": 156,
   "metadata": {},
   "outputs": [
    {
     "data": {
      "text/plain": [
       "array(['Compound ID', 'ESOL predicted log solubility in mols per litre',\n",
       "       'Minimum Degree', 'Molecular Weight', 'Number of H-Bond Donors',\n",
       "       'Number of Rings', 'Number of Rotatable Bonds',\n",
       "       'Polar Surface Area', 'measured log solubility in mols per litre',\n",
       "       'smiles'], dtype=object)"
      ]
     },
     "execution_count": 156,
     "metadata": {},
     "output_type": "execute_result"
    }
   ],
   "source": [
    "esol.columns.values # y = measured log solubility in mols / L"
   ]
  },
  {
   "cell_type": "code",
   "execution_count": 157,
   "metadata": {},
   "outputs": [
    {
     "data": {
      "text/plain": [
       "array(['ID', 'Name', 'InChI', 'InChIKey', 'SMILES', 'Solubility', 'SD',\n",
       "       'Ocurrences', 'Group', 'MolWt', 'MolLogP', 'MolMR',\n",
       "       'HeavyAtomCount', 'NumHAcceptors', 'NumHDonors', 'NumHeteroatoms',\n",
       "       'NumRotatableBonds', 'NumValenceElectrons', 'NumAromaticRings',\n",
       "       'NumSaturatedRings', 'NumAliphaticRings', 'RingCount', 'TPSA',\n",
       "       'LabuteASA', 'BalabanJ', 'BertzCT'], dtype=object)"
      ]
     },
     "execution_count": 157,
     "metadata": {},
     "output_type": "execute_result"
    }
   ],
   "source": [
    "aqsol.columns.values # y = Solubility (reported as LogS (mol/L))"
   ]
  },
  {
   "cell_type": "code",
   "execution_count": 158,
   "metadata": {},
   "outputs": [
    {
     "data": {
      "text/plain": [
       "array(['Unnamed: 0', 'Chemical name', 'Crystal structure CSD refcode',\n",
       "       'LogS exp (mol/L)', 'Reference', 'Test', 'SMILES', 'Smiles Source',\n",
       "       'Chemspider reference number', 'InChl', 'cansmi', 'is_unique'],\n",
       "      dtype=object)"
      ]
     },
     "execution_count": 158,
     "metadata": {},
     "output_type": "execute_result"
    }
   ],
   "source": [
    "dsl.columns.values # y = LogS exp (mol/L)"
   ]
  },
  {
   "cell_type": "code",
   "execution_count": 159,
   "metadata": {},
   "outputs": [],
   "source": [
    "esol_parsed[\"y\"] = esol[\"measured log solubility in mols per litre\"]\n",
    "aqsol_parsed[\"y\"] = aqsol[\"Solubility\"]\n",
    "dsl_parsed[\"y\"] = dsl[\"LogS exp (mol/L)\"]"
   ]
  },
  {
   "cell_type": "code",
   "execution_count": 160,
   "metadata": {},
   "outputs": [],
   "source": [
    "train_dataset = pd.concat([esol_parsed, aqsol_parsed], axis=0)\n",
    "train_dataset.head()\n",
    "\n",
    "train_dataset = train_dataset.sample(frac=1)"
   ]
  },
  {
   "cell_type": "code",
   "execution_count": 161,
   "metadata": {},
   "outputs": [
    {
     "name": "stdout",
     "output_type": "stream",
     "text": [
      "Training dataset:  (11110, 6)\n",
      "Testing dataset:  (56, 6)\n"
     ]
    }
   ],
   "source": [
    "print(\"Training dataset: \", train_dataset.shape)\n",
    "print(\"Testing dataset: \", dsl_parsed.shape)"
   ]
  },
  {
   "cell_type": "code",
   "execution_count": 162,
   "metadata": {},
   "outputs": [
    {
     "data": {
      "text/html": [
       "<div>\n",
       "<style scoped>\n",
       "    .dataframe tbody tr th:only-of-type {\n",
       "        vertical-align: middle;\n",
       "    }\n",
       "\n",
       "    .dataframe tbody tr th {\n",
       "        vertical-align: top;\n",
       "    }\n",
       "\n",
       "    .dataframe thead th {\n",
       "        text-align: right;\n",
       "    }\n",
       "</style>\n",
       "<table border=\"1\" class=\"dataframe\">\n",
       "  <thead>\n",
       "    <tr style=\"text-align: right;\">\n",
       "      <th></th>\n",
       "      <th>SMILES</th>\n",
       "      <th>MolLogP</th>\n",
       "      <th>MolWeight</th>\n",
       "      <th>NumRotatableBonds</th>\n",
       "      <th>AromaticProportion</th>\n",
       "      <th>y</th>\n",
       "    </tr>\n",
       "  </thead>\n",
       "  <tbody>\n",
       "  </tbody>\n",
       "</table>\n",
       "</div>"
      ],
      "text/plain": [
       "Empty DataFrame\n",
       "Columns: [SMILES, MolLogP, MolWeight, NumRotatableBonds, AromaticProportion, y]\n",
       "Index: []"
      ]
     },
     "execution_count": 162,
     "metadata": {},
     "output_type": "execute_result"
    }
   ],
   "source": [
    "train_dataset[train_dataset.duplicated()]"
   ]
  },
  {
   "cell_type": "code",
   "execution_count": 171,
   "metadata": {},
   "outputs": [
    {
     "name": "stdout",
     "output_type": "stream",
     "text": [
      "Requirement already satisfied: scikit-learn in c:\\users\\user\\onedrive\\desktop\\github\\small-molecules\\env\\lib\\site-packages (1.2.0)\n",
      "Requirement already satisfied: lightgbm in c:\\users\\user\\onedrive\\desktop\\github\\small-molecules\\env\\lib\\site-packages (3.3.3)\n",
      "Requirement already satisfied: xgboost in c:\\users\\user\\onedrive\\desktop\\github\\small-molecules\\env\\lib\\site-packages (1.7.2)\n",
      "Requirement already satisfied: scipy>=1.3.2 in c:\\users\\user\\onedrive\\desktop\\github\\small-molecules\\env\\lib\\site-packages (from scikit-learn) (1.8.1)\n",
      "Requirement already satisfied: threadpoolctl>=2.0.0 in c:\\users\\user\\onedrive\\desktop\\github\\small-molecules\\env\\lib\\site-packages (from scikit-learn) (3.1.0)\n",
      "Requirement already satisfied: numpy>=1.17.3 in c:\\users\\user\\onedrive\\desktop\\github\\small-molecules\\env\\lib\\site-packages (from scikit-learn) (1.23.5)\n",
      "Requirement already satisfied: joblib>=1.1.1 in c:\\users\\user\\onedrive\\desktop\\github\\small-molecules\\env\\lib\\site-packages (from scikit-learn) (1.2.0)\n",
      "Requirement already satisfied: wheel in c:\\users\\user\\onedrive\\desktop\\github\\small-molecules\\env\\lib\\site-packages (from lightgbm) (0.38.4)\n"
     ]
    }
   ],
   "source": [
    "! pip install scikit-learn lightgbm xgboost"
   ]
  },
  {
   "cell_type": "code",
   "execution_count": 212,
   "metadata": {},
   "outputs": [
    {
     "name": "stdout",
     "output_type": "stream",
     "text": [
      "Training dataset statistics: linear-regression \n",
      "\n",
      "Coefficients:  [-0.40006646 -0.00413119  0.07682077 -0.74904093]\n",
      "Intercept:  -1.078668523504993\n",
      "RMSE: 1.716\n",
      "MAE: 1.254\n",
      "Coefficient of Correlation: 0.464\n",
      "===============================================\n",
      "\n",
      "Training dataset statistics: random-forest \n",
      "\n",
      "RMSE: 0.476\n",
      "MAE: 0.318\n",
      "Coefficient of Correlation: 0.959\n",
      "===============================================\n",
      "\n",
      "Training dataset statistics: lightgbm-regressor \n",
      "\n",
      "RMSE: 1.098\n",
      "MAE: 0.777\n",
      "Coefficient of Correlation: 0.780\n",
      "===============================================\n",
      "\n",
      "Training dataset statistics: xgboost-regressor \n",
      "\n",
      "RMSE: 0.877\n",
      "MAE: 0.627\n",
      "Coefficient of Correlation: 0.860\n",
      "===============================================\n",
      "\n"
     ]
    }
   ],
   "source": [
    "from xgboost.sklearn import XGBRegressor\n",
    "from lightgbm.sklearn import LGBMRegressor\n",
    "\n",
    "\n",
    "from sklearn.linear_model import LinearRegression\n",
    "from sklearn.ensemble import RandomForestRegressor\n",
    "from sklearn.metrics import mean_squared_error, r2_score, mean_absolute_error\n",
    "from sklearn.model_selection import train_test_split\n",
    "\n",
    "X_dataset, y = train_dataset[[\"MolLogP\", \"MolWeight\", \"NumRotatableBonds\", \"AromaticProportion\"]], train_dataset[\"y\"]\n",
    "\n",
    "\n",
    "models = {\n",
    "    \"linear-regression\": LinearRegression().fit(X_dataset, y),\n",
    "    \"random-forest\": RandomForestRegressor().fit(X_dataset, y),\n",
    "    \"lightgbm-regressor\": LGBMRegressor().fit(X_dataset, y),\n",
    "    \"xgboost-regressor\": XGBRegressor().fit(X_dataset, y)\n",
    "}\n",
    "\n",
    "for key, model in models.items():\n",
    "    print(f\"Training dataset statistics: {key} \\n\")\n",
    "    \n",
    "    pred_train = model.predict(X_dataset)\n",
    "    \n",
    "    if key == \"linear-regression\":\n",
    "        print(\"Coefficients: \", model.coef_)\n",
    "        print(\"Intercept: \", model.intercept_)\n",
    "        \n",
    "    print(f\"RMSE: {math.sqrt(mean_squared_error(y, pred_train)):.3f}\")\n",
    "    print(f\"MAE: {mean_absolute_error(y, pred_train):.3f}\")\n",
    "    print(f\"Coefficient of Correlation: {r2_score(y, pred_train):.3f}\")\n",
    "    \n",
    "    print(\"===============================================\\n\")\n",
    "\n"
   ]
  },
  {
   "cell_type": "code",
   "execution_count": 213,
   "metadata": {},
   "outputs": [
    {
     "name": "stdout",
     "output_type": "stream",
     "text": [
      "Training dataset statistics: linear-regression \n",
      "\n",
      "RMSE: 1.122\n",
      "MAE: 0.883\n",
      "Coefficient of Correlation: 0.543\n",
      "===============================================\n",
      "\n",
      "Training dataset statistics: random-forest \n",
      "\n",
      "RMSE: 0.658\n",
      "MAE: 0.430\n",
      "Coefficient of Correlation: 0.843\n",
      "===============================================\n",
      "\n",
      "Training dataset statistics: lightgbm-regressor \n",
      "\n",
      "RMSE: 0.903\n",
      "MAE: 0.711\n",
      "Coefficient of Correlation: 0.704\n",
      "===============================================\n",
      "\n",
      "Training dataset statistics: xgboost-regressor \n",
      "\n",
      "RMSE: 0.938\n",
      "MAE: 0.712\n",
      "Coefficient of Correlation: 0.680\n",
      "===============================================\n",
      "\n"
     ]
    }
   ],
   "source": [
    "X_test, y_test = dsl_parsed[[\"MolLogP\", \"MolWeight\", \"NumRotatableBonds\", \"AromaticProportion\"]], dsl_parsed[\"y\"]\n",
    "\n",
    "for key, model in models.items():\n",
    "    print(f\"Training dataset statistics: {key} \\n\")\n",
    "    \n",
    "    pred_train = model.predict(X_test)\n",
    "        \n",
    "    print(f\"RMSE: {math.sqrt(mean_squared_error(y_test, pred_train)):.3f}\")\n",
    "    print(f\"MAE: {mean_absolute_error(y_test, pred_train):.3f}\")\n",
    "    print(f\"Coefficient of Correlation: {r2_score(y_test, pred_train):.3f}\")\n",
    "    \n",
    "    print(\"===============================================\\n\")"
   ]
  },
  {
   "cell_type": "code",
   "execution_count": 214,
   "metadata": {},
   "outputs": [
    {
     "name": "stdout",
     "output_type": "stream",
     "text": [
      "Baseline model: Linear regression \n",
      "\n",
      "RMSE: 1.122\n",
      "MAE: 0.883\n",
      "Coefficient of Correlation: 0.543\n"
     ]
    }
   ],
   "source": [
    "print(\"Baseline model: Linear regression \\n\")\n",
    "pred_train = models[\"linear-regression\"].predict(X_test)\n",
    "        \n",
    "print(f\"RMSE: {math.sqrt(mean_squared_error(y_test, pred_train)):.3f}\")\n",
    "print(f\"MAE: {mean_absolute_error(y_test, pred_train):.3f}\")\n",
    "print(f\"Coefficient of Correlation: {r2_score(y_test, pred_train):.3f}\")"
   ]
  },
  {
   "cell_type": "code",
   "execution_count": 215,
   "metadata": {},
   "outputs": [
    {
     "name": "stdout",
     "output_type": "stream",
     "text": [
      "Best model: Random Forest Regression \n",
      "\n",
      "RMSE: 0.658\n",
      "MAE: 0.430\n",
      "Coefficient of Correlation: 0.843\n"
     ]
    }
   ],
   "source": [
    "print(\"Best model: Random Forest Regression \\n\")\n",
    "pred_train = models[\"random-forest\"].predict(X_test)\n",
    "        \n",
    "print(f\"RMSE: {math.sqrt(mean_squared_error(y_test, pred_train)):.3f}\")\n",
    "print(f\"MAE: {mean_absolute_error(y_test, pred_train):.3f}\")\n",
    "print(f\"Coefficient of Correlation: {r2_score(y_test, pred_train):.3f}\")"
   ]
  },
  {
   "cell_type": "code",
   "execution_count": null,
   "metadata": {},
   "outputs": [],
   "source": [
    "train_dataset.to_csv(\"data/esol-aqsol-training-set.csv\", index=False)\n",
    "dsl.to_csv(\"data/dsl-100-test-set.csv\", index=False)"
   ]
  },
  {
   "attachments": {},
   "cell_type": "markdown",
   "metadata": {},
   "source": [
    "### Use optuna for hyperparameter tuning"
   ]
  },
  {
   "cell_type": "code",
   "execution_count": 181,
   "metadata": {},
   "outputs": [
    {
     "name": "stdout",
     "output_type": "stream",
     "text": [
      "Collecting optuna\n",
      "  Downloading optuna-3.0.5-py3-none-any.whl (348 kB)\n",
      "     -------------------------------------- 348.5/348.5 kB 4.3 MB/s eta 0:00:00\n",
      "Requirement already satisfied: numpy in c:\\users\\user\\onedrive\\desktop\\github\\small-molecules\\env\\lib\\site-packages (from optuna) (1.23.5)\n",
      "Collecting alembic>=1.5.0\n",
      "  Downloading alembic-1.9.1-py3-none-any.whl (210 kB)\n",
      "     ---------------------------------------- 210.4/210.4 kB ? eta 0:00:00\n",
      "Collecting cliff\n",
      "  Downloading cliff-4.1.0-py3-none-any.whl (81 kB)\n",
      "     ---------------------------------------- 81.0/81.0 kB 4.4 MB/s eta 0:00:00\n",
      "Requirement already satisfied: scipy<1.9.0,>=1.7.0 in c:\\users\\user\\onedrive\\desktop\\github\\small-molecules\\env\\lib\\site-packages (from optuna) (1.8.1)\n",
      "Collecting colorlog\n",
      "  Using cached colorlog-6.7.0-py2.py3-none-any.whl (11 kB)\n",
      "Requirement already satisfied: packaging>=20.0 in c:\\users\\user\\onedrive\\desktop\\github\\small-molecules\\env\\lib\\site-packages (from optuna) (22.0)\n",
      "Collecting sqlalchemy>=1.3.0\n",
      "  Downloading SQLAlchemy-1.4.45-cp310-cp310-win_amd64.whl (1.6 MB)\n",
      "     ---------------------------------------- 1.6/1.6 MB 19.9 MB/s eta 0:00:00\n",
      "Requirement already satisfied: tqdm in c:\\users\\user\\onedrive\\desktop\\github\\small-molecules\\env\\lib\\site-packages (from optuna) (4.64.1)\n",
      "Collecting importlib-metadata<5.0.0\n",
      "  Downloading importlib_metadata-4.13.0-py3-none-any.whl (23 kB)\n",
      "Requirement already satisfied: PyYAML in c:\\users\\user\\onedrive\\desktop\\github\\small-molecules\\env\\lib\\site-packages (from optuna) (6.0)\n",
      "Collecting cmaes>=0.8.2\n",
      "  Downloading cmaes-0.9.0-py3-none-any.whl (23 kB)\n",
      "Collecting Mako\n",
      "  Downloading Mako-1.2.4-py3-none-any.whl (78 kB)\n",
      "     ---------------------------------------- 78.7/78.7 kB 4.3 MB/s eta 0:00:00\n",
      "Requirement already satisfied: zipp>=0.5 in c:\\users\\user\\onedrive\\desktop\\github\\small-molecules\\env\\lib\\site-packages (from importlib-metadata<5.0.0->optuna) (3.11.0)\n",
      "Collecting greenlet!=0.4.17\n",
      "  Downloading greenlet-2.0.1-cp310-cp310-win_amd64.whl (190 kB)\n",
      "     ------------------------------------- 190.9/190.9 kB 12.0 MB/s eta 0:00:00\n",
      "Collecting PrettyTable>=0.7.2\n",
      "  Using cached prettytable-3.5.0-py3-none-any.whl (26 kB)\n",
      "Collecting stevedore>=2.0.1\n",
      "  Downloading stevedore-4.1.1-py3-none-any.whl (50 kB)\n",
      "     ---------------------------------------- 50.0/50.0 kB ? eta 0:00:00\n",
      "Collecting autopage>=0.4.0\n",
      "  Using cached autopage-0.5.1-py3-none-any.whl (29 kB)\n",
      "Collecting cmd2>=1.0.0\n",
      "  Using cached cmd2-2.4.2-py3-none-any.whl (147 kB)\n",
      "Requirement already satisfied: colorama in c:\\users\\user\\onedrive\\desktop\\github\\small-molecules\\env\\lib\\site-packages (from colorlog->optuna) (0.4.6)\n",
      "Requirement already satisfied: wcwidth>=0.1.7 in c:\\users\\user\\onedrive\\desktop\\github\\small-molecules\\env\\lib\\site-packages (from cmd2>=1.0.0->cliff->optuna) (0.2.5)\n",
      "Collecting pyperclip>=1.6\n",
      "  Using cached pyperclip-1.8.2.tar.gz (20 kB)\n",
      "  Preparing metadata (setup.py): started\n",
      "  Preparing metadata (setup.py): finished with status 'done'\n",
      "Requirement already satisfied: attrs>=16.3.0 in c:\\users\\user\\onedrive\\desktop\\github\\small-molecules\\env\\lib\\site-packages (from cmd2>=1.0.0->cliff->optuna) (22.2.0)\n",
      "Collecting pyreadline3\n",
      "  Using cached pyreadline3-3.4.1-py3-none-any.whl (95 kB)\n",
      "Collecting pbr!=2.1.0,>=2.0.0\n",
      "  Downloading pbr-5.11.0-py2.py3-none-any.whl (112 kB)\n",
      "     ---------------------------------------- 112.6/112.6 kB ? eta 0:00:00\n",
      "Requirement already satisfied: MarkupSafe>=0.9.2 in c:\\users\\user\\onedrive\\desktop\\github\\small-molecules\\env\\lib\\site-packages (from Mako->alembic>=1.5.0->optuna) (2.1.1)\n",
      "Building wheels for collected packages: pyperclip\n",
      "  Building wheel for pyperclip (setup.py): started\n",
      "  Building wheel for pyperclip (setup.py): finished with status 'done'\n",
      "  Created wheel for pyperclip: filename=pyperclip-1.8.2-py3-none-any.whl size=11137 sha256=ba7d4286c87acde958a2dbeee10746b3945e4c70546c0344fbbf5c0f1eb5cf27\n",
      "  Stored in directory: c:\\users\\user\\appdata\\local\\pip\\cache\\wheels\\3c\\77\\81\\aaa2802e9b0553585f2789c6f2756b50a09a01d2848423bb15\n",
      "Successfully built pyperclip\n",
      "Installing collected packages: pyreadline3, pyperclip, PrettyTable, pbr, Mako, importlib-metadata, greenlet, colorlog, cmd2, cmaes, autopage, stevedore, sqlalchemy, cliff, alembic, optuna\n",
      "  Attempting uninstall: importlib-metadata\n",
      "    Found existing installation: importlib-metadata 5.2.0\n",
      "    Uninstalling importlib-metadata-5.2.0:\n",
      "      Successfully uninstalled importlib-metadata-5.2.0\n",
      "Successfully installed Mako-1.2.4 PrettyTable-3.5.0 alembic-1.9.1 autopage-0.5.1 cliff-4.1.0 cmaes-0.9.0 cmd2-2.4.2 colorlog-6.7.0 greenlet-2.0.1 importlib-metadata-4.13.0 optuna-3.0.5 pbr-5.11.0 pyperclip-1.8.2 pyreadline3-3.4.1 sqlalchemy-1.4.45 stevedore-4.1.1\n"
     ]
    }
   ],
   "source": [
    "! pip install optuna"
   ]
  },
  {
   "cell_type": "code",
   "execution_count": 195,
   "metadata": {},
   "outputs": [
    {
     "name": "stderr",
     "output_type": "stream",
     "text": [
      "\u001b[32m[I 2022-12-30 22:12:12,872]\u001b[0m A new study created in memory with name: experiment-2022-12-30 22:12:12.872330\u001b[0m\n",
      "\u001b[32m[I 2022-12-30 22:12:15,542]\u001b[0m Trial 2 finished with value: 0.6625445286688569 and parameters: {'max_depth': 4, 'n_estimators': 28, 'criterion': 'squared_error', 'max_features': 'log2'}. Best is trial 2 with value: 0.6625445286688569.\u001b[0m\n",
      "\u001b[32m[I 2022-12-30 22:12:56,128]\u001b[0m Trial 3 finished with value: 0.7287807455300485 and parameters: {'max_depth': 63, 'n_estimators': 71, 'criterion': 'friedman_mse', 'max_features': None}. Best is trial 3 with value: 0.7287807455300485.\u001b[0m\n",
      "\u001b[32m[I 2022-12-30 22:13:43,311]\u001b[0m Trial 5 finished with value: 0.7301453191440814 and parameters: {'max_depth': 94, 'n_estimators': 83, 'criterion': 'friedman_mse', 'max_features': None}. Best is trial 5 with value: 0.7301453191440814.\u001b[0m\n",
      "\u001b[32m[I 2022-12-30 22:14:17,002]\u001b[0m Trial 6 finished with value: 0.72887479962535 and parameters: {'max_depth': 33, 'n_estimators': 59, 'criterion': 'friedman_mse', 'max_features': None}. Best is trial 5 with value: 0.7301453191440814.\u001b[0m\n",
      "\u001b[32m[I 2022-12-30 22:14:25,081]\u001b[0m Trial 7 finished with value: 0.7161973617814011 and parameters: {'max_depth': 52, 'n_estimators': 14, 'criterion': 'squared_error', 'max_features': None}. Best is trial 5 with value: 0.7301453191440814.\u001b[0m\n",
      "\u001b[32m[I 2022-12-30 22:14:44,130]\u001b[0m Trial 8 finished with value: 0.7337698431112107 and parameters: {'max_depth': 50, 'n_estimators': 56, 'criterion': 'squared_error', 'max_features': 'sqrt'}. Best is trial 8 with value: 0.7337698431112107.\u001b[0m\n",
      "\u001b[32m[I 2022-12-30 22:18:22,393]\u001b[0m Trial 0 finished with value: 0.7261535140250859 and parameters: {'max_depth': 100, 'n_estimators': 37, 'criterion': 'absolute_error', 'max_features': None}. Best is trial 8 with value: 0.7337698431112107.\u001b[0m\n",
      "\u001b[32m[I 2022-12-30 22:18:50,372]\u001b[0m Trial 10 finished with value: 0.7359521037592222 and parameters: {'max_depth': 70, 'n_estimators': 81, 'criterion': 'friedman_mse', 'max_features': 'sqrt'}. Best is trial 10 with value: 0.7359521037592222.\u001b[0m\n",
      "\u001b[32m[I 2022-12-30 22:21:23,709]\u001b[0m Trial 1 finished with value: 0.7379704296885169 and parameters: {'max_depth': 58, 'n_estimators': 98, 'criterion': 'absolute_error', 'max_features': 'sqrt'}. Best is trial 1 with value: 0.7379704296885169.\u001b[0m\n",
      "\u001b[32m[I 2022-12-30 22:23:08,741]\u001b[0m Trial 9 finished with value: 0.7312902075900668 and parameters: {'max_depth': 13, 'n_estimators': 96, 'criterion': 'absolute_error', 'max_features': 'sqrt'}. Best is trial 1 with value: 0.7379704296885169.\u001b[0m\n",
      "\u001b[32m[I 2022-12-30 22:24:09,187]\u001b[0m Trial 4 finished with value: 0.7302090815999008 and parameters: {'max_depth': 64, 'n_estimators': 72, 'criterion': 'absolute_error', 'max_features': None}. Best is trial 1 with value: 0.7379704296885169.\u001b[0m\n",
      "\u001b[32m[I 2022-12-30 22:24:42,905]\u001b[0m Trial 14 finished with value: 0.7361541558081507 and parameters: {'max_depth': 78, 'n_estimators': 99, 'criterion': 'friedman_mse', 'max_features': 'sqrt'}. Best is trial 1 with value: 0.7379704296885169.\u001b[0m\n",
      "\u001b[32m[I 2022-12-30 22:26:46,763]\u001b[0m Trial 11 finished with value: 0.7375562517685895 and parameters: {'max_depth': 64, 'n_estimators': 85, 'criterion': 'absolute_error', 'max_features': 'sqrt'}. Best is trial 1 with value: 0.7379704296885169.\u001b[0m\n",
      "\u001b[32m[I 2022-12-30 22:28:54,770]\u001b[0m Trial 12 finished with value: 0.7181812085109236 and parameters: {'max_depth': 10, 'n_estimators': 90, 'criterion': 'absolute_error', 'max_features': 'log2'}. Best is trial 1 with value: 0.7379704296885169.\u001b[0m\n",
      "\u001b[32m[I 2022-12-30 22:32:27,558]\u001b[0m Trial 13 finished with value: 0.7375217816805185 and parameters: {'max_depth': 80, 'n_estimators': 100, 'criterion': 'absolute_error', 'max_features': 'log2'}. Best is trial 1 with value: 0.7379704296885169.\u001b[0m\n",
      "\u001b[32m[I 2022-12-30 22:33:55,011]\u001b[0m Trial 15 finished with value: 0.7381655261714767 and parameters: {'max_depth': 81, 'n_estimators': 99, 'criterion': 'absolute_error', 'max_features': 'sqrt'}. Best is trial 15 with value: 0.7381655261714767.\u001b[0m\n",
      "\u001b[32m[I 2022-12-30 22:35:00,547]\u001b[0m Trial 16 finished with value: 0.7372369997748578 and parameters: {'max_depth': 36, 'n_estimators': 88, 'criterion': 'absolute_error', 'max_features': 'sqrt'}. Best is trial 15 with value: 0.7381655261714767.\u001b[0m\n",
      "\u001b[32m[I 2022-12-30 22:36:06,403]\u001b[0m Trial 17 finished with value: 0.7361848520282581 and parameters: {'max_depth': 36, 'n_estimators': 77, 'criterion': 'absolute_error', 'max_features': 'sqrt'}. Best is trial 15 with value: 0.7381655261714767.\u001b[0m\n",
      "\u001b[32m[I 2022-12-30 22:37:51,434]\u001b[0m Trial 19 finished with value: 0.7351263038059586 and parameters: {'max_depth': 42, 'n_estimators': 42, 'criterion': 'absolute_error', 'max_features': 'sqrt'}. Best is trial 15 with value: 0.7381655261714767.\u001b[0m\n",
      "\u001b[32m[I 2022-12-30 22:39:04,743]\u001b[0m Trial 18 finished with value: 0.7370078665441626 and parameters: {'max_depth': 36, 'n_estimators': 71, 'criterion': 'absolute_error', 'max_features': 'sqrt'}. Best is trial 15 with value: 0.7381655261714767.\u001b[0m\n",
      "\u001b[32m[I 2022-12-30 22:39:26,167]\u001b[0m Trial 23 finished with value: 0.7343183643706404 and parameters: {'max_depth': 87, 'n_estimators': 62, 'criterion': 'squared_error', 'max_features': 'sqrt'}. Best is trial 15 with value: 0.7381655261714767.\u001b[0m\n",
      "\u001b[32m[I 2022-12-30 22:41:28,574]\u001b[0m Trial 20 finished with value: 0.7350756669087214 and parameters: {'max_depth': 86, 'n_estimators': 69, 'criterion': 'absolute_error', 'max_features': 'sqrt'}. Best is trial 15 with value: 0.7381655261714767.\u001b[0m\n",
      "\u001b[32m[I 2022-12-30 22:41:58,907]\u001b[0m Trial 21 finished with value: 0.7366442754870863 and parameters: {'max_depth': 87, 'n_estimators': 63, 'criterion': 'absolute_error', 'max_features': 'sqrt'}. Best is trial 15 with value: 0.7381655261714767.\u001b[0m\n",
      "\u001b[32m[I 2022-12-30 22:44:19,662]\u001b[0m Trial 22 finished with value: 0.7373303407656987 and parameters: {'max_depth': 87, 'n_estimators': 65, 'criterion': 'absolute_error', 'max_features': 'sqrt'}. Best is trial 15 with value: 0.7381655261714767.\u001b[0m\n",
      "\u001b[32m[I 2022-12-30 22:48:22,233]\u001b[0m Trial 24 finished with value: 0.7378518630142141 and parameters: {'max_depth': 57, 'n_estimators': 91, 'criterion': 'absolute_error', 'max_features': 'sqrt'}. Best is trial 15 with value: 0.7381655261714767.\u001b[0m\n",
      "\u001b[32m[I 2022-12-30 22:50:13,506]\u001b[0m Trial 25 finished with value: 0.7374898523628296 and parameters: {'max_depth': 57, 'n_estimators': 89, 'criterion': 'absolute_error', 'max_features': 'sqrt'}. Best is trial 15 with value: 0.7381655261714767.\u001b[0m\n",
      "\u001b[32m[I 2022-12-30 22:50:54,183]\u001b[0m Trial 26 finished with value: 0.7362972926646698 and parameters: {'max_depth': 58, 'n_estimators': 91, 'criterion': 'absolute_error', 'max_features': 'sqrt'}. Best is trial 15 with value: 0.7381655261714767.\u001b[0m\n",
      "\u001b[32m[I 2022-12-30 22:52:38,109]\u001b[0m Trial 27 finished with value: 0.7369984534717279 and parameters: {'max_depth': 57, 'n_estimators': 90, 'criterion': 'absolute_error', 'max_features': 'sqrt'}. Best is trial 15 with value: 0.7381655261714767.\u001b[0m\n",
      "\u001b[32m[I 2022-12-30 22:56:27,967]\u001b[0m Trial 28 finished with value: 0.7374724739143084 and parameters: {'max_depth': 53, 'n_estimators': 92, 'criterion': 'absolute_error', 'max_features': 'log2'}. Best is trial 15 with value: 0.7381655261714767.\u001b[0m\n",
      "\u001b[32m[I 2022-12-30 22:58:18,102]\u001b[0m Trial 29 finished with value: 0.7373840550359017 and parameters: {'max_depth': 48, 'n_estimators': 94, 'criterion': 'absolute_error', 'max_features': 'log2'}. Best is trial 15 with value: 0.7381655261714767.\u001b[0m\n"
     ]
    }
   ],
   "source": [
    "import datetime\n",
    "import optuna\n",
    "from functools import partial\n",
    "\n",
    "from sklearn.model_selection import cross_val_score\n",
    "\n",
    "def objective(trial, name, X_train, y_train):\n",
    "    max_depth = trial.suggest_int('max_depth', 1, 100)\n",
    "    n_estimators = trial.suggest_int('n_estimators', 10, 100)\n",
    "    criterion = trial.suggest_categorical(\"criterion\", [\"squared_error\", \"absolute_error\", \"friedman_mse\"])\n",
    "    max_features = trial.suggest_categorical(\"max_features\", [\"sqrt\", \"log2\", None])\n",
    "    \n",
    "    random_regressor = RandomForestRegressor(\n",
    "        n_estimators=n_estimators,\n",
    "        max_depth=max_depth,\n",
    "        criterion=criterion,\n",
    "        max_features=max_features\n",
    "    )\n",
    "    \n",
    "    score = cross_val_score(random_regressor, X_train, y_train, cv=10)\n",
    "    return score.mean()\n",
    "\n",
    "current_time = datetime.datetime.now()\n",
    "\n",
    "opt_function = partial(objective, name=\"rf\", X_train=X_dataset, y_train=y)\n",
    "\n",
    "study = optuna.create_study(direction=\"maximize\", study_name=f\"experiment-{current_time}\")\n",
    "study.optimize(opt_function, n_trials=30, n_jobs=-1)                                                         "
   ]
  },
  {
   "cell_type": "code",
   "execution_count": 207,
   "metadata": {},
   "outputs": [
    {
     "name": "stdout",
     "output_type": "stream",
     "text": [
      "RMSE: 0.491\n",
      "MAE: 0.329\n",
      "Coefficient of Correlation: 0.956\n"
     ]
    }
   ],
   "source": [
    "params = study.best_params\n",
    "\n",
    "random_forest = RandomForestRegressor(**params).fit(X_dataset, y)\n",
    "\n",
    "pred_train = random_forest.predict(X_dataset)\n",
    "        \n",
    "print(f\"RMSE: {math.sqrt(mean_squared_error(y, pred_train)):.3f}\")\n",
    "print(f\"MAE: {mean_absolute_error(y, pred_train):.3f}\")\n",
    "print(f\"Coefficient of Correlation: {r2_score(y, pred_train):.3f}\")"
   ]
  },
  {
   "cell_type": "code",
   "execution_count": 208,
   "metadata": {},
   "outputs": [
    {
     "name": "stdout",
     "output_type": "stream",
     "text": [
      "RMSE: 0.614\n",
      "MAE: 0.408\n",
      "Coefficient of Correlation: 0.863\n"
     ]
    }
   ],
   "source": [
    "pred_test = random_forest.predict(X_test)\n",
    "        \n",
    "print(f\"RMSE: {math.sqrt(mean_squared_error(y_test, pred_test)):.3f}\")\n",
    "print(f\"MAE: {mean_absolute_error(y_test, pred_test):.3f}\")\n",
    "print(f\"Coefficient of Correlation: {r2_score(y_test, pred_test):.3f}\")"
   ]
  },
  {
   "cell_type": "code",
   "execution_count": 204,
   "metadata": {},
   "outputs": [],
   "source": [
    "import joblib\n",
    "\n",
    "with open(file=\"model/regressors/solubility-rf-sklearn.model\", mode=\"wb\") as file:\n",
    "    joblib.dump(value=random_forest, filename=file)"
   ]
  },
  {
   "cell_type": "code",
   "execution_count": 205,
   "metadata": {},
   "outputs": [],
   "source": [
    "import torch"
   ]
  }
 ],
 "metadata": {
  "kernelspec": {
   "display_name": "env",
   "language": "python",
   "name": "python3"
  },
  "language_info": {
   "codemirror_mode": {
    "name": "ipython",
    "version": 3
   },
   "file_extension": ".py",
   "mimetype": "text/x-python",
   "name": "python",
   "nbconvert_exporter": "python",
   "pygments_lexer": "ipython3",
   "version": "3.10.9"
  },
  "orig_nbformat": 4,
  "vscode": {
   "interpreter": {
    "hash": "4df9ae2f3669d2915414309207e4c3fb96f9f71dd598ede9d89ce16f72233d5f"
   }
  }
 },
 "nbformat": 4,
 "nbformat_minor": 2
}
