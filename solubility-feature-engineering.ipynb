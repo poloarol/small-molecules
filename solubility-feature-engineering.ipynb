{
 "cells": [
  {
   "attachments": {},
   "cell_type": "markdown",
   "metadata": {},
   "source": [
    "# Preparation of Dataset for solubility prediction\n",
    "\n",
    "## Datasets\n",
    "\n",
    "1. [ESOL: Estimating Aqueous Solubility Directly from Molecular Structure](https://pubs.acs.org/doi/10.1021/ci034243x)\n",
    "2. [AqSolDB, a curated reference set of aqueous solubility and 2D descriptors for a diverse set of compounds](https://www.nature.com/articles/s41597-019-0151-1)\n",
    "3. [Is Experimental Data Quality the Limiting Factor in Predicting the Aqueous Solubility of Driglike Molecules](https://pubs.acs.org/doi/full/10.1021/mp500103r)"
   ]
  },
  {
   "attachments": {},
   "cell_type": "markdown",
   "metadata": {},
   "source": [
    "## Backgroud:\n",
    "\n",
    "Aqueous solubility is a key factor in drug discovery, since if a molecule is not soluble. it will typically be poorly bioavailable, making it difficult to perform <i>in-vivo</i> studies with it, and hence deliver to patients."
   ]
  },
  {
   "cell_type": "code",
   "execution_count": 145,
   "metadata": {},
   "outputs": [
    {
     "name": "stdout",
     "output_type": "stream",
     "text": [
      "Requirement already satisfied: rdkit in c:\\users\\user\\onedrive\\desktop\\github\\small-molecules\\env\\lib\\site-packages (2022.9.3)\n",
      "Requirement already satisfied: pandas in c:\\users\\user\\onedrive\\desktop\\github\\small-molecules\\env\\lib\\site-packages (1.5.2)\n",
      "Requirement already satisfied: numpy in c:\\users\\user\\onedrive\\desktop\\github\\small-molecules\\env\\lib\\site-packages (1.23.5)\n",
      "Requirement already satisfied: Pillow in c:\\users\\user\\onedrive\\desktop\\github\\small-molecules\\env\\lib\\site-packages (from rdkit) (9.3.0)\n",
      "Requirement already satisfied: python-dateutil>=2.8.1 in c:\\users\\user\\onedrive\\desktop\\github\\small-molecules\\env\\lib\\site-packages (from pandas) (2.8.2)\n",
      "Requirement already satisfied: pytz>=2020.1 in c:\\users\\user\\onedrive\\desktop\\github\\small-molecules\\env\\lib\\site-packages (from pandas) (2022.7)\n",
      "Requirement already satisfied: six>=1.5 in c:\\users\\user\\onedrive\\desktop\\github\\small-molecules\\env\\lib\\site-packages (from python-dateutil>=2.8.1->pandas) (1.16.0)\n"
     ]
    }
   ],
   "source": [
    "! pip install rdkit pandas numpy"
   ]
  },
  {
   "cell_type": "code",
   "execution_count": 146,
   "metadata": {},
   "outputs": [],
   "source": [
    "import numpy as np\n",
    "import pandas as pd\n",
    "from rdkit import Chem\n",
    "from rdkit.Chem import Descriptors"
   ]
  },
  {
   "cell_type": "code",
   "execution_count": 147,
   "metadata": {},
   "outputs": [],
   "source": [
    "def load_csv(path: str) -> pd.DataFrame:\n",
    "    return pd.read_csv(path)"
   ]
  },
  {
   "cell_type": "code",
   "execution_count": 148,
   "metadata": {},
   "outputs": [],
   "source": [
    "esol = load_csv(path=\"data/esol.csv\")\n",
    "aqsol = load_csv(path=\"data/solubility-dataset-train.csv\")\n",
    "dsl = load_csv(path=\"data/dsl-100-unique.csv\")"
   ]
  },
  {
   "cell_type": "code",
   "execution_count": 149,
   "metadata": {},
   "outputs": [
    {
     "name": "stdout",
     "output_type": "stream",
     "text": [
      "<class 'pandas.core.frame.DataFrame'>\n",
      "RangeIndex: 1128 entries, 0 to 1127\n",
      "Data columns (total 10 columns):\n",
      " #   Column                                           Non-Null Count  Dtype  \n",
      "---  ------                                           --------------  -----  \n",
      " 0   Compound ID                                      1128 non-null   object \n",
      " 1   ESOL predicted log solubility in mols per litre  1128 non-null   float64\n",
      " 2   Minimum Degree                                   1128 non-null   int64  \n",
      " 3   Molecular Weight                                 1128 non-null   float64\n",
      " 4   Number of H-Bond Donors                          1128 non-null   int64  \n",
      " 5   Number of Rings                                  1128 non-null   int64  \n",
      " 6   Number of Rotatable Bonds                        1128 non-null   int64  \n",
      " 7   Polar Surface Area                               1128 non-null   float64\n",
      " 8   measured log solubility in mols per litre        1128 non-null   float64\n",
      " 9   smiles                                           1128 non-null   object \n",
      "dtypes: float64(4), int64(4), object(2)\n",
      "memory usage: 88.2+ KB\n",
      "None\n"
     ]
    }
   ],
   "source": [
    "print(esol.info())"
   ]
  },
  {
   "cell_type": "code",
   "execution_count": 150,
   "metadata": {},
   "outputs": [
    {
     "name": "stdout",
     "output_type": "stream",
     "text": [
      "<class 'pandas.core.frame.DataFrame'>\n",
      "RangeIndex: 9982 entries, 0 to 9981\n",
      "Data columns (total 26 columns):\n",
      " #   Column               Non-Null Count  Dtype  \n",
      "---  ------               --------------  -----  \n",
      " 0   ID                   9982 non-null   object \n",
      " 1   Name                 9982 non-null   object \n",
      " 2   InChI                9982 non-null   object \n",
      " 3   InChIKey             9982 non-null   object \n",
      " 4   SMILES               9982 non-null   object \n",
      " 5   Solubility           9982 non-null   float64\n",
      " 6   SD                   9982 non-null   float64\n",
      " 7   Ocurrences           9982 non-null   int64  \n",
      " 8   Group                9982 non-null   object \n",
      " 9   MolWt                9982 non-null   float64\n",
      " 10  MolLogP              9982 non-null   float64\n",
      " 11  MolMR                9982 non-null   float64\n",
      " 12  HeavyAtomCount       9982 non-null   float64\n",
      " 13  NumHAcceptors        9982 non-null   float64\n",
      " 14  NumHDonors           9982 non-null   float64\n",
      " 15  NumHeteroatoms       9982 non-null   float64\n",
      " 16  NumRotatableBonds    9982 non-null   float64\n",
      " 17  NumValenceElectrons  9982 non-null   float64\n",
      " 18  NumAromaticRings     9982 non-null   float64\n",
      " 19  NumSaturatedRings    9982 non-null   float64\n",
      " 20  NumAliphaticRings    9982 non-null   float64\n",
      " 21  RingCount            9982 non-null   float64\n",
      " 22  TPSA                 9982 non-null   float64\n",
      " 23  LabuteASA            9982 non-null   float64\n",
      " 24  BalabanJ             9982 non-null   float64\n",
      " 25  BertzCT              9982 non-null   float64\n",
      "dtypes: float64(19), int64(1), object(6)\n",
      "memory usage: 2.0+ MB\n",
      "None\n"
     ]
    }
   ],
   "source": [
    "print(aqsol.info())"
   ]
  },
  {
   "cell_type": "code",
   "execution_count": 151,
   "metadata": {},
   "outputs": [
    {
     "name": "stdout",
     "output_type": "stream",
     "text": [
      "<class 'pandas.core.frame.DataFrame'>\n",
      "RangeIndex: 56 entries, 0 to 55\n",
      "Data columns (total 12 columns):\n",
      " #   Column                         Non-Null Count  Dtype  \n",
      "---  ------                         --------------  -----  \n",
      " 0   Unnamed: 0                     56 non-null     int64  \n",
      " 1   Chemical name                  56 non-null     object \n",
      " 2   Crystal structure CSD refcode  56 non-null     object \n",
      " 3   LogS exp (mol/L)               56 non-null     float64\n",
      " 4   Reference                      56 non-null     int64  \n",
      " 5   Test                           56 non-null     bool   \n",
      " 6   SMILES                         56 non-null     object \n",
      " 7   Smiles Source                  56 non-null     object \n",
      " 8   Chemspider reference number    56 non-null     int64  \n",
      " 9   InChl                          56 non-null     object \n",
      " 10  cansmi                         56 non-null     object \n",
      " 11  is_unique                      56 non-null     bool   \n",
      "dtypes: bool(2), float64(1), int64(3), object(6)\n",
      "memory usage: 4.6+ KB\n",
      "None\n"
     ]
    }
   ],
   "source": [
    "print(dsl.info())"
   ]
  },
  {
   "attachments": {},
   "cell_type": "markdown",
   "metadata": {},
   "source": [
    "## Calculating Molecular Descriptors\n",
    "\n",
    "To predict log(S), the study of Delaney used four molecular descriptors:\n",
    "- cLogP (Octanol-Water partition coefficient)\n",
    "- MW (Molecular Weight)\n",
    "- RB (Number of rotatable bonds)\n",
    "- AP (Aromatic proportion = Number of aromatic atoms / total number of heavy atoms)"
   ]
  },
  {
   "cell_type": "code",
   "execution_count": 152,
   "metadata": {},
   "outputs": [],
   "source": [
    "def get_number_aromatic_atoms(molecule) -> int:\n",
    "    \n",
    "    aromatic_atoms = [molecule.GetAtomWithIdx(idx).GetIsAromatic() for idx in range(molecule.GetNumAtoms())]\n",
    "    count = []\n",
    "    for _, value in enumerate(aromatic_atoms):\n",
    "        if value == True:\n",
    "            count.append(value)\n",
    "    sum_count = sum(count)\n",
    "    \n",
    "    return sum_count"
   ]
  },
  {
   "cell_type": "code",
   "execution_count": 153,
   "metadata": {},
   "outputs": [],
   "source": [
    "def calc_aromatic_descriptors(molecule) -> float:\n",
    "    aromatic_atoms: int = get_number_aromatic_atoms(molecule)\n",
    "    num_heavy_atoms: int = Descriptors.HeavyAtomCount(molecule)\n",
    "    \n",
    "    aromatic_proportion: float = aromatic_atoms / num_heavy_atoms\n",
    "    return aromatic_proportion"
   ]
  },
  {
   "cell_type": "code",
   "execution_count": 154,
   "metadata": {},
   "outputs": [],
   "source": [
    "def generate_dataset(molecules) -> pd.DataFrame:\n",
    "    smiles = []\n",
    "    rows = []\n",
    "\n",
    "    for molecule in molecules:\n",
    "        descriptor = Chem.MolFromSmiles(molecule)\n",
    "        smiles.append(descriptor)\n",
    "    \n",
    "    for smile in smiles:\n",
    "        mol_log_p: float = Descriptors.MolLogP(smile)\n",
    "        mol_weight: float = Descriptors.MolWt(smile)\n",
    "        num_rot_bonds: int = Descriptors.NumRotatableBonds(smile)\n",
    "        aromatic_proportion: float = calc_aromatic_descriptors(smile)\n",
    "        \n",
    "        row = [smile, mol_log_p, mol_weight, num_rot_bonds, aromatic_proportion]\n",
    "        rows.append(row)\n",
    "    \n",
    "    df = pd.DataFrame(data=rows, columns=[\"SMILES\", \"MolLogP\", \"MolWeight\", \"NumRotatableBonds\", \"AromaticProportion\"])\n",
    "    return df"
   ]
  },
  {
   "cell_type": "code",
   "execution_count": 155,
   "metadata": {},
   "outputs": [
    {
     "name": "stderr",
     "output_type": "stream",
     "text": [
      "[16:48:01] WARNING: not removing hydrogen atom without neighbors\n",
      "[16:48:01] WARNING: not removing hydrogen atom without neighbors\n",
      "[16:48:01] WARNING: not removing hydrogen atom without neighbors\n",
      "[16:48:01] WARNING: not removing hydrogen atom without neighbors\n",
      "[16:48:01] WARNING: not removing hydrogen atom without neighbors\n",
      "[16:48:01] WARNING: not removing hydrogen atom without neighbors\n",
      "[16:48:01] WARNING: not removing hydrogen atom without neighbors\n",
      "[16:48:01] WARNING: not removing hydrogen atom without neighbors\n",
      "[16:48:01] WARNING: not removing hydrogen atom without neighbors\n",
      "[16:48:01] WARNING: not removing hydrogen atom without neighbors\n",
      "[16:48:01] WARNING: not removing hydrogen atom without neighbors\n",
      "[16:48:01] WARNING: not removing hydrogen atom without neighbors\n",
      "[16:48:02] WARNING: not removing hydrogen atom without neighbors\n",
      "[16:48:02] WARNING: not removing hydrogen atom without neighbors\n",
      "[16:48:02] WARNING: not removing hydrogen atom without neighbors\n",
      "[16:48:02] WARNING: not removing hydrogen atom without neighbors\n",
      "[16:48:02] WARNING: not removing hydrogen atom without neighbors\n",
      "[16:48:02] WARNING: not removing hydrogen atom without neighbors\n",
      "[16:48:02] WARNING: not removing hydrogen atom without neighbors\n",
      "[16:48:02] WARNING: not removing hydrogen atom without neighbors\n",
      "[16:48:02] WARNING: not removing hydrogen atom without neighbors\n",
      "[16:48:02] WARNING: not removing hydrogen atom without neighbors\n",
      "[16:48:02] WARNING: not removing hydrogen atom without neighbors\n",
      "[16:48:02] WARNING: not removing hydrogen atom without neighbors\n",
      "[16:48:02] WARNING: not removing hydrogen atom without neighbors\n",
      "[16:48:02] WARNING: not removing hydrogen atom without neighbors\n",
      "[16:48:02] WARNING: not removing hydrogen atom without neighbors\n",
      "[16:48:02] WARNING: not removing hydrogen atom without neighbors\n",
      "[16:48:02] WARNING: not removing hydrogen atom without neighbors\n",
      "[16:48:02] WARNING: not removing hydrogen atom without neighbors\n",
      "[16:48:02] WARNING: not removing hydrogen atom without neighbors\n",
      "[16:48:02] WARNING: not removing hydrogen atom without neighbors\n",
      "[16:48:02] WARNING: not removing hydrogen atom without neighbors\n",
      "[16:48:02] WARNING: not removing hydrogen atom without neighbors\n",
      "[16:48:02] WARNING: not removing hydrogen atom without neighbors\n",
      "[16:48:02] WARNING: not removing hydrogen atom without neighbors\n",
      "[16:48:02] WARNING: not removing hydrogen atom without neighbors\n",
      "[16:48:02] WARNING: not removing hydrogen atom without neighbors\n",
      "[16:48:02] WARNING: not removing hydrogen atom without neighbors\n",
      "[16:48:02] WARNING: not removing hydrogen atom without neighbors\n",
      "[16:48:02] WARNING: not removing hydrogen atom without neighbors\n",
      "[16:48:02] WARNING: not removing hydrogen atom without neighbors\n",
      "[16:48:02] WARNING: not removing hydrogen atom without neighbors\n",
      "[16:48:02] WARNING: not removing hydrogen atom without neighbors\n",
      "[16:48:02] WARNING: not removing hydrogen atom without neighbors\n",
      "[16:48:02] WARNING: not removing hydrogen atom without neighbors\n",
      "[16:48:02] WARNING: not removing hydrogen atom without neighbors\n",
      "[16:48:02] WARNING: not removing hydrogen atom without neighbors\n",
      "[16:48:02] WARNING: not removing hydrogen atom without neighbors\n",
      "[16:48:02] WARNING: not removing hydrogen atom without neighbors\n",
      "[16:48:02] WARNING: not removing hydrogen atom without neighbors\n",
      "[16:48:02] WARNING: not removing hydrogen atom without neighbors\n",
      "[16:48:02] WARNING: not removing hydrogen atom without neighbors\n",
      "[16:48:02] WARNING: not removing hydrogen atom without neighbors\n",
      "[16:48:02] WARNING: not removing hydrogen atom without neighbors\n",
      "[16:48:02] WARNING: not removing hydrogen atom without neighbors\n",
      "[16:48:02] WARNING: not removing hydrogen atom without neighbors\n",
      "[16:48:02] WARNING: not removing hydrogen atom without neighbors\n",
      "[16:48:02] WARNING: not removing hydrogen atom without neighbors\n",
      "[16:48:02] WARNING: not removing hydrogen atom without neighbors\n",
      "[16:48:02] WARNING: not removing hydrogen atom without neighbors\n",
      "[16:48:03] WARNING: not removing hydrogen atom without neighbors\n",
      "[16:48:03] WARNING: not removing hydrogen atom without neighbors\n",
      "[16:48:03] WARNING: not removing hydrogen atom without neighbors\n",
      "[16:48:03] WARNING: not removing hydrogen atom without neighbors\n"
     ]
    }
   ],
   "source": [
    "esol_parsed = generate_dataset(molecules=esol[\"smiles\"])\n",
    "aqsol_parsed = generate_dataset(molecules=aqsol[\"SMILES\"])\n",
    "dsl_parsed = generate_dataset(molecules=dsl[\"SMILES\"])"
   ]
  },
  {
   "cell_type": "code",
   "execution_count": 156,
   "metadata": {},
   "outputs": [
    {
     "data": {
      "text/plain": [
       "array(['Compound ID', 'ESOL predicted log solubility in mols per litre',\n",
       "       'Minimum Degree', 'Molecular Weight', 'Number of H-Bond Donors',\n",
       "       'Number of Rings', 'Number of Rotatable Bonds',\n",
       "       'Polar Surface Area', 'measured log solubility in mols per litre',\n",
       "       'smiles'], dtype=object)"
      ]
     },
     "execution_count": 156,
     "metadata": {},
     "output_type": "execute_result"
    }
   ],
   "source": [
    "esol.columns.values # y = measured log solubility in mols / L"
   ]
  },
  {
   "cell_type": "code",
   "execution_count": 157,
   "metadata": {},
   "outputs": [
    {
     "data": {
      "text/plain": [
       "array(['ID', 'Name', 'InChI', 'InChIKey', 'SMILES', 'Solubility', 'SD',\n",
       "       'Ocurrences', 'Group', 'MolWt', 'MolLogP', 'MolMR',\n",
       "       'HeavyAtomCount', 'NumHAcceptors', 'NumHDonors', 'NumHeteroatoms',\n",
       "       'NumRotatableBonds', 'NumValenceElectrons', 'NumAromaticRings',\n",
       "       'NumSaturatedRings', 'NumAliphaticRings', 'RingCount', 'TPSA',\n",
       "       'LabuteASA', 'BalabanJ', 'BertzCT'], dtype=object)"
      ]
     },
     "execution_count": 157,
     "metadata": {},
     "output_type": "execute_result"
    }
   ],
   "source": [
    "aqsol.columns.values # y = Solubility (reported as LogS (mol/L))"
   ]
  },
  {
   "cell_type": "code",
   "execution_count": 158,
   "metadata": {},
   "outputs": [
    {
     "data": {
      "text/plain": [
       "array(['Unnamed: 0', 'Chemical name', 'Crystal structure CSD refcode',\n",
       "       'LogS exp (mol/L)', 'Reference', 'Test', 'SMILES', 'Smiles Source',\n",
       "       'Chemspider reference number', 'InChl', 'cansmi', 'is_unique'],\n",
       "      dtype=object)"
      ]
     },
     "execution_count": 158,
     "metadata": {},
     "output_type": "execute_result"
    }
   ],
   "source": [
    "dsl.columns.values # y = LogS exp (mol/L)"
   ]
  },
  {
   "cell_type": "code",
   "execution_count": 159,
   "metadata": {},
   "outputs": [],
   "source": [
    "esol_parsed[\"y\"] = esol[\"measured log solubility in mols per litre\"]\n",
    "aqsol_parsed[\"y\"] = aqsol[\"Solubility\"]\n",
    "dsl_parsed[\"y\"] = dsl[\"LogS exp (mol/L)\"]"
   ]
  },
  {
   "cell_type": "code",
   "execution_count": 160,
   "metadata": {},
   "outputs": [],
   "source": [
    "train_dataset = pd.concat([esol_parsed, aqsol_parsed], axis=0)\n",
    "train_dataset.head()\n",
    "\n",
    "train_dataset = train_dataset.sample(frac=1)"
   ]
  },
  {
   "cell_type": "code",
   "execution_count": 161,
   "metadata": {},
   "outputs": [
    {
     "name": "stdout",
     "output_type": "stream",
     "text": [
      "Training dataset:  (11110, 6)\n",
      "Testing dataset:  (56, 6)\n"
     ]
    }
   ],
   "source": [
    "print(\"Training dataset: \", train_dataset.shape)\n",
    "print(\"Testing dataset: \", dsl_parsed.shape)"
   ]
  },
  {
   "cell_type": "code",
   "execution_count": 162,
   "metadata": {},
   "outputs": [
    {
     "data": {
      "text/html": [
       "<div>\n",
       "<style scoped>\n",
       "    .dataframe tbody tr th:only-of-type {\n",
       "        vertical-align: middle;\n",
       "    }\n",
       "\n",
       "    .dataframe tbody tr th {\n",
       "        vertical-align: top;\n",
       "    }\n",
       "\n",
       "    .dataframe thead th {\n",
       "        text-align: right;\n",
       "    }\n",
       "</style>\n",
       "<table border=\"1\" class=\"dataframe\">\n",
       "  <thead>\n",
       "    <tr style=\"text-align: right;\">\n",
       "      <th></th>\n",
       "      <th>SMILES</th>\n",
       "      <th>MolLogP</th>\n",
       "      <th>MolWeight</th>\n",
       "      <th>NumRotatableBonds</th>\n",
       "      <th>AromaticProportion</th>\n",
       "      <th>y</th>\n",
       "    </tr>\n",
       "  </thead>\n",
       "  <tbody>\n",
       "  </tbody>\n",
       "</table>\n",
       "</div>"
      ],
      "text/plain": [
       "Empty DataFrame\n",
       "Columns: [SMILES, MolLogP, MolWeight, NumRotatableBonds, AromaticProportion, y]\n",
       "Index: []"
      ]
     },
     "execution_count": 162,
     "metadata": {},
     "output_type": "execute_result"
    }
   ],
   "source": [
    "train_dataset[train_dataset.duplicated()]"
   ]
  },
  {
   "cell_type": "code",
   "execution_count": 171,
   "metadata": {},
   "outputs": [
    {
     "name": "stdout",
     "output_type": "stream",
     "text": [
      "Requirement already satisfied: scikit-learn in c:\\users\\user\\onedrive\\desktop\\github\\small-molecules\\env\\lib\\site-packages (1.2.0)\n",
      "Requirement already satisfied: lightgbm in c:\\users\\user\\onedrive\\desktop\\github\\small-molecules\\env\\lib\\site-packages (3.3.3)\n",
      "Requirement already satisfied: xgboost in c:\\users\\user\\onedrive\\desktop\\github\\small-molecules\\env\\lib\\site-packages (1.7.2)\n",
      "Requirement already satisfied: scipy>=1.3.2 in c:\\users\\user\\onedrive\\desktop\\github\\small-molecules\\env\\lib\\site-packages (from scikit-learn) (1.8.1)\n",
      "Requirement already satisfied: threadpoolctl>=2.0.0 in c:\\users\\user\\onedrive\\desktop\\github\\small-molecules\\env\\lib\\site-packages (from scikit-learn) (3.1.0)\n",
      "Requirement already satisfied: numpy>=1.17.3 in c:\\users\\user\\onedrive\\desktop\\github\\small-molecules\\env\\lib\\site-packages (from scikit-learn) (1.23.5)\n",
      "Requirement already satisfied: joblib>=1.1.1 in c:\\users\\user\\onedrive\\desktop\\github\\small-molecules\\env\\lib\\site-packages (from scikit-learn) (1.2.0)\n",
      "Requirement already satisfied: wheel in c:\\users\\user\\onedrive\\desktop\\github\\small-molecules\\env\\lib\\site-packages (from lightgbm) (0.38.4)\n"
     ]
    }
   ],
   "source": [
    "! pip install scikit-learn lightgbm xgboost"
   ]
  },
  {
   "cell_type": "code",
   "execution_count": 174,
   "metadata": {},
   "outputs": [
    {
     "name": "stdout",
     "output_type": "stream",
     "text": [
      "Training dataset statistics: linear-regression \n",
      "\n",
      "Coefficients:  [-0.40006646 -0.00413119  0.07682077 -0.74904093]\n",
      "Intercept:  -1.078668523504993\n",
      "MSE: 2.943\n",
      "MAE: 1.254\n",
      "Coefficient of Correlation: 0.464\n",
      "===============================================\n",
      "\n",
      "Training dataset statistics: random-forest \n",
      "\n",
      "MSE: 0.227\n",
      "MAE: 0.319\n",
      "Coefficient of Correlation: 0.959\n",
      "===============================================\n",
      "\n",
      "Training dataset statistics: lightgbm-regressor \n",
      "\n",
      "MSE: 1.205\n",
      "MAE: 0.777\n",
      "Coefficient of Correlation: 0.780\n",
      "===============================================\n",
      "\n",
      "Training dataset statistics: xgboost-regressor \n",
      "\n",
      "MSE: 0.769\n",
      "MAE: 0.627\n",
      "Coefficient of Correlation: 0.860\n",
      "===============================================\n",
      "\n"
     ]
    }
   ],
   "source": [
    "from xgboost.sklearn import XGBRegressor\n",
    "from lightgbm.sklearn import LGBMRegressor\n",
    "\n",
    "\n",
    "from sklearn.linear_model import LinearRegression\n",
    "from sklearn.ensemble import RandomForestRegressor\n",
    "from sklearn.metrics import mean_squared_error, r2_score, mean_absolute_error\n",
    "from sklearn.model_selection import train_test_split\n",
    "\n",
    "X_dataset, y = train_dataset[[\"MolLogP\", \"MolWeight\", \"NumRotatableBonds\", \"AromaticProportion\"]], train_dataset[\"y\"]\n",
    "\n",
    "\n",
    "models = {\n",
    "    \"linear-regression\": LinearRegression().fit(X_dataset, y),\n",
    "    \"random-forest\": RandomForestRegressor().fit(X_dataset, y),\n",
    "    \"lightgbm-regressor\": LGBMRegressor().fit(X_dataset, y),\n",
    "    \"xgboost-regressor\": XGBRegressor().fit(X_dataset, y)\n",
    "}\n",
    "\n",
    "for key, model in models.items():\n",
    "    print(f\"Training dataset statistics: {key} \\n\")\n",
    "    \n",
    "    pred_train = model.predict(X_dataset)\n",
    "    \n",
    "    if key == \"linear-regression\":\n",
    "        print(\"Coefficients: \", model.coef_)\n",
    "        print(\"Intercept: \", model.intercept_)\n",
    "        \n",
    "    print(f\"MSE: {mean_squared_error(y, pred_train):.3f}\")\n",
    "    print(f\"MAE: {mean_absolute_error(y, pred_train):.3f}\")\n",
    "    print(f\"Coefficient of Correlation: {r2_score(y, pred_train):.3f}\")\n",
    "    \n",
    "    print(\"===============================================\\n\")\n",
    "\n"
   ]
  },
  {
   "cell_type": "code",
   "execution_count": 177,
   "metadata": {},
   "outputs": [
    {
     "name": "stdout",
     "output_type": "stream",
     "text": [
      "Training dataset statistics: linear-regression \n",
      "\n",
      "MSE: 1.259\n",
      "MAE: 0.883\n",
      "Coefficient of Correlation: 0.543\n",
      "===============================================\n",
      "\n",
      "Training dataset statistics: random-forest \n",
      "\n",
      "MSE: 0.383\n",
      "MAE: 0.409\n",
      "Coefficient of Correlation: 0.861\n",
      "===============================================\n",
      "\n",
      "Training dataset statistics: lightgbm-regressor \n",
      "\n",
      "MSE: 0.816\n",
      "MAE: 0.711\n",
      "Coefficient of Correlation: 0.704\n",
      "===============================================\n",
      "\n",
      "Training dataset statistics: xgboost-regressor \n",
      "\n",
      "MSE: 0.880\n",
      "MAE: 0.712\n",
      "Coefficient of Correlation: 0.680\n",
      "===============================================\n",
      "\n"
     ]
    }
   ],
   "source": [
    "X_test, y_test = dsl_parsed[[\"MolLogP\", \"MolWeight\", \"NumRotatableBonds\", \"AromaticProportion\"]], dsl_parsed[\"y\"]\n",
    "\n",
    "for key, model in models.items():\n",
    "    print(f\"Training dataset statistics: {key} \\n\")\n",
    "    \n",
    "    pred_train = model.predict(X_test)\n",
    "        \n",
    "    print(f\"MSE: {mean_squared_error(y_test, pred_train):.3f}\")\n",
    "    print(f\"MAE: {mean_absolute_error(y_test, pred_train):.3f}\")\n",
    "    print(f\"Coefficient of Correlation: {r2_score(y_test, pred_train):.3f}\")\n",
    "    \n",
    "    print(\"===============================================\\n\")"
   ]
  },
  {
   "cell_type": "code",
   "execution_count": 179,
   "metadata": {},
   "outputs": [
    {
     "name": "stdout",
     "output_type": "stream",
     "text": [
      "Baseline model: Linear regression \n",
      "\n",
      "MSE: 1.259\n",
      "MAE: 0.883\n",
      "Coefficient of Correlation: 0.543\n"
     ]
    }
   ],
   "source": [
    "print(\"Baseline model: Linear regression \\n\")\n",
    "pred_train = models[\"linear-regression\"].predict(X_test)\n",
    "        \n",
    "print(f\"MSE: {mean_squared_error(y_test, pred_train):.3f}\")\n",
    "print(f\"MAE: {mean_absolute_error(y_test, pred_train):.3f}\")\n",
    "print(f\"Coefficient of Correlation: {r2_score(y_test, pred_train):.3f}\")"
   ]
  },
  {
   "cell_type": "code",
   "execution_count": 180,
   "metadata": {},
   "outputs": [
    {
     "name": "stdout",
     "output_type": "stream",
     "text": [
      "Best model: Random Forest Regression \n",
      "\n",
      "MSE: 0.383\n",
      "MAE: 0.409\n",
      "Coefficient of Correlation: 0.861\n"
     ]
    }
   ],
   "source": [
    "print(\"Best model: Random Forest Regression \\n\")\n",
    "pred_train = models[\"random-forest\"].predict(X_test)\n",
    "        \n",
    "print(f\"MSE: {mean_squared_error(y_test, pred_train):.3f}\")\n",
    "print(f\"MAE: {mean_absolute_error(y_test, pred_train):.3f}\")\n",
    "print(f\"Coefficient of Correlation: {r2_score(y_test, pred_train):.3f}\")"
   ]
  },
  {
   "attachments": {},
   "cell_type": "markdown",
   "metadata": {},
   "source": [
    "### Use optuna for hyperparameter tuning"
   ]
  },
  {
   "cell_type": "code",
   "execution_count": null,
   "metadata": {},
   "outputs": [],
   "source": [
    "! pip install optuna"
   ]
  }
 ],
 "metadata": {
  "kernelspec": {
   "display_name": "env",
   "language": "python",
   "name": "python3"
  },
  "language_info": {
   "codemirror_mode": {
    "name": "ipython",
    "version": 3
   },
   "file_extension": ".py",
   "mimetype": "text/x-python",
   "name": "python",
   "nbconvert_exporter": "python",
   "pygments_lexer": "ipython3",
   "version": "3.10.9"
  },
  "orig_nbformat": 4,
  "vscode": {
   "interpreter": {
    "hash": "4df9ae2f3669d2915414309207e4c3fb96f9f71dd598ede9d89ce16f72233d5f"
   }
  }
 },
 "nbformat": 4,
 "nbformat_minor": 2
}
