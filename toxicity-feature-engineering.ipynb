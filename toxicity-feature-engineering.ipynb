{
 "cells": [
  {
   "cell_type": "code",
   "execution_count": 84,
   "metadata": {},
   "outputs": [
    {
     "name": "stdout",
     "output_type": "stream",
     "text": [
      "Requirement already satisfied: deepchem in c:\\users\\user\\onedrive\\desktop\\github\\small-molecules\\env\\lib\\site-packages (2.7.1)\n",
      "Requirement already satisfied: rdkit in c:\\users\\user\\onedrive\\desktop\\github\\small-molecules\\env\\lib\\site-packages (from deepchem) (2022.9.3)\n",
      "Requirement already satisfied: pandas in c:\\users\\user\\onedrive\\desktop\\github\\small-molecules\\env\\lib\\site-packages (from deepchem) (1.5.2)\n",
      "Requirement already satisfied: joblib in c:\\users\\user\\onedrive\\desktop\\github\\small-molecules\\env\\lib\\site-packages (from deepchem) (1.2.0)\n",
      "Requirement already satisfied: numpy>=1.21 in c:\\users\\user\\onedrive\\desktop\\github\\small-molecules\\env\\lib\\site-packages (from deepchem) (1.22.1)\n",
      "Requirement already satisfied: scikit-learn in c:\\users\\user\\onedrive\\desktop\\github\\small-molecules\\env\\lib\\site-packages (from deepchem) (1.2.0)\n",
      "Requirement already satisfied: scipy<1.9 in c:\\users\\user\\onedrive\\desktop\\github\\small-molecules\\env\\lib\\site-packages (from deepchem) (1.7.3)\n",
      "Requirement already satisfied: python-dateutil>=2.8.1 in c:\\users\\user\\onedrive\\desktop\\github\\small-molecules\\env\\lib\\site-packages (from pandas->deepchem) (2.8.2)\n",
      "Requirement already satisfied: pytz>=2020.1 in c:\\users\\user\\onedrive\\desktop\\github\\small-molecules\\env\\lib\\site-packages (from pandas->deepchem) (2022.7)\n",
      "Requirement already satisfied: Pillow in c:\\users\\user\\onedrive\\desktop\\github\\small-molecules\\env\\lib\\site-packages (from rdkit->deepchem) (9.3.0)\n",
      "Requirement already satisfied: threadpoolctl>=2.0.0 in c:\\users\\user\\onedrive\\desktop\\github\\small-molecules\\env\\lib\\site-packages (from scikit-learn->deepchem) (3.1.0)\n",
      "Requirement already satisfied: six>=1.5 in c:\\users\\user\\onedrive\\desktop\\github\\small-molecules\\env\\lib\\site-packages (from python-dateutil>=2.8.1->pandas->deepchem) (1.16.0)\n"
     ]
    }
   ],
   "source": [
    "! pip install deepchem"
   ]
  },
  {
   "cell_type": "code",
   "execution_count": 85,
   "metadata": {},
   "outputs": [],
   "source": [
    "import deepchem as dc\n",
    "from deepchem.feat.molecule_featurizers import MolGraphConvFeaturizer"
   ]
  },
  {
   "cell_type": "code",
   "execution_count": 86,
   "metadata": {},
   "outputs": [
    {
     "name": "stdout",
     "output_type": "stream",
     "text": [
      "6852 857 857\n"
     ]
    }
   ],
   "source": [
    "feat = MolGraphConvFeaturizer(use_edges=True)\n",
    "\n",
    "toxcast_tasks, toxcast_datasets, transformers = dc.molnet.load_toxcast(featurizer=feat)\n",
    "train_dataset, valid_dataset, test_dataset = toxcast_datasets\n",
    "\n",
    "print(len(train_dataset), len(valid_dataset), len(test_dataset))"
   ]
  },
  {
   "cell_type": "code",
   "execution_count": 87,
   "metadata": {},
   "outputs": [
    {
     "name": "stdout",
     "output_type": "stream",
     "text": [
      "6861 858 858\n"
     ]
    }
   ],
   "source": [
    "toxcast_tasks_one, toxcast_datasets_one, transformers_one = dc.molnet.load_toxcast(featurizer=\"GraphConv\")\n",
    "train_dataset_one, valid_dataset_one, test_dataset_one = toxcast_datasets_one\n",
    "\n",
    "print(len(train_dataset_one), len(valid_dataset_one), len(test_dataset_one))"
   ]
  },
  {
   "cell_type": "code",
   "execution_count": 88,
   "metadata": {},
   "outputs": [
    {
     "name": "stdout",
     "output_type": "stream",
     "text": [
      "Requirement already satisfied: dgl in c:\\users\\user\\onedrive\\desktop\\github\\small-molecules\\env\\lib\\site-packages (0.9.1)\n",
      "Requirement already satisfied: dgllife in c:\\users\\user\\onedrive\\desktop\\github\\small-molecules\\env\\lib\\site-packages (0.3.1)\n",
      "Requirement already satisfied: tqdm in c:\\users\\user\\onedrive\\desktop\\github\\small-molecules\\env\\lib\\site-packages (from dgl) (4.64.1)\n",
      "Requirement already satisfied: psutil>=5.8.0 in c:\\users\\user\\onedrive\\desktop\\github\\small-molecules\\env\\lib\\site-packages (from dgl) (5.9.4)\n",
      "Requirement already satisfied: requests>=2.19.0 in c:\\users\\user\\onedrive\\desktop\\github\\small-molecules\\env\\lib\\site-packages (from dgl) (2.28.1)\n",
      "Requirement already satisfied: scipy>=1.1.0 in c:\\users\\user\\onedrive\\desktop\\github\\small-molecules\\env\\lib\\site-packages (from dgl) (1.7.3)\n",
      "Requirement already satisfied: networkx>=2.1 in c:\\users\\user\\onedrive\\desktop\\github\\small-molecules\\env\\lib\\site-packages (from dgl) (2.8.8)\n",
      "Requirement already satisfied: numpy>=1.14.0 in c:\\users\\user\\onedrive\\desktop\\github\\small-molecules\\env\\lib\\site-packages (from dgl) (1.22.1)\n",
      "Requirement already satisfied: scikit-learn>=0.22.2 in c:\\users\\user\\onedrive\\desktop\\github\\small-molecules\\env\\lib\\site-packages (from dgllife) (1.2.0)\n",
      "Requirement already satisfied: joblib in c:\\users\\user\\onedrive\\desktop\\github\\small-molecules\\env\\lib\\site-packages (from dgllife) (1.2.0)\n",
      "Requirement already satisfied: pandas in c:\\users\\user\\onedrive\\desktop\\github\\small-molecules\\env\\lib\\site-packages (from dgllife) (1.5.2)\n",
      "Requirement already satisfied: hyperopt in c:\\users\\user\\onedrive\\desktop\\github\\small-molecules\\env\\lib\\site-packages (from dgllife) (0.2.7)\n",
      "Requirement already satisfied: certifi>=2017.4.17 in c:\\users\\user\\onedrive\\desktop\\github\\small-molecules\\env\\lib\\site-packages (from requests>=2.19.0->dgl) (2022.12.7)\n",
      "Requirement already satisfied: idna<4,>=2.5 in c:\\users\\user\\onedrive\\desktop\\github\\small-molecules\\env\\lib\\site-packages (from requests>=2.19.0->dgl) (3.4)\n",
      "Requirement already satisfied: urllib3<1.27,>=1.21.1 in c:\\users\\user\\onedrive\\desktop\\github\\small-molecules\\env\\lib\\site-packages (from requests>=2.19.0->dgl) (1.26.13)\n",
      "Requirement already satisfied: charset-normalizer<3,>=2 in c:\\users\\user\\onedrive\\desktop\\github\\small-molecules\\env\\lib\\site-packages (from requests>=2.19.0->dgl) (2.1.1)\n",
      "Requirement already satisfied: threadpoolctl>=2.0.0 in c:\\users\\user\\onedrive\\desktop\\github\\small-molecules\\env\\lib\\site-packages (from scikit-learn>=0.22.2->dgllife) (3.1.0)\n",
      "Requirement already satisfied: py4j in c:\\users\\user\\onedrive\\desktop\\github\\small-molecules\\env\\lib\\site-packages (from hyperopt->dgllife) (0.10.9.7)\n",
      "Requirement already satisfied: future in c:\\users\\user\\onedrive\\desktop\\github\\small-molecules\\env\\lib\\site-packages (from hyperopt->dgllife) (0.18.2)\n",
      "Requirement already satisfied: cloudpickle in c:\\users\\user\\onedrive\\desktop\\github\\small-molecules\\env\\lib\\site-packages (from hyperopt->dgllife) (2.2.0)\n",
      "Requirement already satisfied: six in c:\\users\\user\\onedrive\\desktop\\github\\small-molecules\\env\\lib\\site-packages (from hyperopt->dgllife) (1.16.0)\n",
      "Requirement already satisfied: python-dateutil>=2.8.1 in c:\\users\\user\\onedrive\\desktop\\github\\small-molecules\\env\\lib\\site-packages (from pandas->dgllife) (2.8.2)\n",
      "Requirement already satisfied: pytz>=2020.1 in c:\\users\\user\\onedrive\\desktop\\github\\small-molecules\\env\\lib\\site-packages (from pandas->dgllife) (2022.7)\n",
      "Requirement already satisfied: colorama in c:\\users\\user\\onedrive\\desktop\\github\\small-molecules\\env\\lib\\site-packages (from tqdm->dgl) (0.4.6)\n"
     ]
    }
   ],
   "source": [
    "! pip install dgl dgllife"
   ]
  },
  {
   "cell_type": "code",
   "execution_count": 89,
   "metadata": {},
   "outputs": [],
   "source": [
    "from deepchem.models import GATModel, GCNModel, GraphConvModel\n",
    "\n",
    "gcn_model_one = GraphConvModel(n_tasks=len(toxcast_tasks_one), mode=\"classification\", dropout=0.1, batch_size=32, learning_rate=0.001)\n",
    "gat_model = GATModel(mode=\"classification\", dropout=0.1, n_tasks=len(toxcast_tasks), learning_rate=0.001, batch_size=32)\n",
    "gcn_model = GCNModel(n_tasks=len(toxcast_tasks), mode=\"classification\", dropout=0.1, batch_size=32, learning_rate=0.001)"
   ]
  },
  {
   "cell_type": "code",
   "execution_count": 90,
   "metadata": {},
   "outputs": [
    {
     "data": {
      "text/plain": [
       "0.23065557479858398"
      ]
     },
     "execution_count": 90,
     "metadata": {},
     "output_type": "execute_result"
    }
   ],
   "source": [
    "gcn_model.fit(train_dataset, nb_epoch = 50)"
   ]
  },
  {
   "cell_type": "code",
   "execution_count": 91,
   "metadata": {},
   "outputs": [
    {
     "name": "stderr",
     "output_type": "stream",
     "text": [
      "c:\\Users\\user\\OneDrive\\Desktop\\GitHub\\small-molecules\\env\\lib\\site-packages\\sklearn\\metrics\\_classification.py:2184: UserWarning: y_pred contains classes not in y_true\n",
      "  warnings.warn(\"y_pred contains classes not in y_true\")\n",
      "c:\\Users\\user\\OneDrive\\Desktop\\GitHub\\small-molecules\\env\\lib\\site-packages\\sklearn\\metrics\\_classification.py:2184: UserWarning: y_pred contains classes not in y_true\n",
      "  warnings.warn(\"y_pred contains classes not in y_true\")\n",
      "c:\\Users\\user\\OneDrive\\Desktop\\GitHub\\small-molecules\\env\\lib\\site-packages\\sklearn\\metrics\\_classification.py:2184: UserWarning: y_pred contains classes not in y_true\n",
      "  warnings.warn(\"y_pred contains classes not in y_true\")\n",
      "c:\\Users\\user\\OneDrive\\Desktop\\GitHub\\small-molecules\\env\\lib\\site-packages\\sklearn\\metrics\\_classification.py:2184: UserWarning: y_pred contains classes not in y_true\n",
      "  warnings.warn(\"y_pred contains classes not in y_true\")\n",
      "c:\\Users\\user\\OneDrive\\Desktop\\GitHub\\small-molecules\\env\\lib\\site-packages\\sklearn\\metrics\\_classification.py:2184: UserWarning: y_pred contains classes not in y_true\n",
      "  warnings.warn(\"y_pred contains classes not in y_true\")\n",
      "c:\\Users\\user\\OneDrive\\Desktop\\GitHub\\small-molecules\\env\\lib\\site-packages\\sklearn\\metrics\\_classification.py:2184: UserWarning: y_pred contains classes not in y_true\n",
      "  warnings.warn(\"y_pred contains classes not in y_true\")\n",
      "c:\\Users\\user\\OneDrive\\Desktop\\GitHub\\small-molecules\\env\\lib\\site-packages\\sklearn\\metrics\\_classification.py:2184: UserWarning: y_pred contains classes not in y_true\n",
      "  warnings.warn(\"y_pred contains classes not in y_true\")\n",
      "c:\\Users\\user\\OneDrive\\Desktop\\GitHub\\small-molecules\\env\\lib\\site-packages\\sklearn\\metrics\\_classification.py:2184: UserWarning: y_pred contains classes not in y_true\n",
      "  warnings.warn(\"y_pred contains classes not in y_true\")\n",
      "c:\\Users\\user\\OneDrive\\Desktop\\GitHub\\small-molecules\\env\\lib\\site-packages\\sklearn\\metrics\\_classification.py:2184: UserWarning: y_pred contains classes not in y_true\n",
      "  warnings.warn(\"y_pred contains classes not in y_true\")\n"
     ]
    },
    {
     "name": "stdout",
     "output_type": "stream",
     "text": [
      "Training Balanced Accuracy: {'mean-balanced_accuracy_score': 0.814000813041521}:.3f\n",
      "Testing Balanced Accuracy: {'mean-balanced_accuracy_score': 0.6026351964239486}:.3f\n"
     ]
    }
   ],
   "source": [
    "import numpy as np\n",
    "\n",
    "metric = dc.metrics.Metric(dc.metrics.balanced_accuracy_score, np.mean, mode=\"classification\")\n",
    "train_scores = gcn_model.evaluate(train_dataset, [metric], transformers)\n",
    "test_scores = gcn_model.evaluate(test_dataset, [metric], transformers)\n",
    "\n",
    "print(f\"Training Balanced Accuracy: {train_scores}:.3f\")\n",
    "print(f\"Testing Balanced Accuracy: {test_scores}:.3f\")"
   ]
  },
  {
   "cell_type": "code",
   "execution_count": 92,
   "metadata": {},
   "outputs": [
    {
     "data": {
      "text/plain": [
       "0.2713625144958496"
      ]
     },
     "execution_count": 92,
     "metadata": {},
     "output_type": "execute_result"
    }
   ],
   "source": [
    "gat_model.fit(train_dataset, nb_epoch=50)"
   ]
  },
  {
   "cell_type": "code",
   "execution_count": 93,
   "metadata": {},
   "outputs": [
    {
     "name": "stderr",
     "output_type": "stream",
     "text": [
      "c:\\Users\\user\\OneDrive\\Desktop\\GitHub\\small-molecules\\env\\lib\\site-packages\\sklearn\\metrics\\_classification.py:2184: UserWarning: y_pred contains classes not in y_true\n",
      "  warnings.warn(\"y_pred contains classes not in y_true\")\n",
      "c:\\Users\\user\\OneDrive\\Desktop\\GitHub\\small-molecules\\env\\lib\\site-packages\\sklearn\\metrics\\_classification.py:2184: UserWarning: y_pred contains classes not in y_true\n",
      "  warnings.warn(\"y_pred contains classes not in y_true\")\n",
      "c:\\Users\\user\\OneDrive\\Desktop\\GitHub\\small-molecules\\env\\lib\\site-packages\\sklearn\\metrics\\_classification.py:2184: UserWarning: y_pred contains classes not in y_true\n",
      "  warnings.warn(\"y_pred contains classes not in y_true\")\n",
      "c:\\Users\\user\\OneDrive\\Desktop\\GitHub\\small-molecules\\env\\lib\\site-packages\\sklearn\\metrics\\_classification.py:2184: UserWarning: y_pred contains classes not in y_true\n",
      "  warnings.warn(\"y_pred contains classes not in y_true\")\n",
      "c:\\Users\\user\\OneDrive\\Desktop\\GitHub\\small-molecules\\env\\lib\\site-packages\\sklearn\\metrics\\_classification.py:2184: UserWarning: y_pred contains classes not in y_true\n",
      "  warnings.warn(\"y_pred contains classes not in y_true\")\n",
      "c:\\Users\\user\\OneDrive\\Desktop\\GitHub\\small-molecules\\env\\lib\\site-packages\\sklearn\\metrics\\_classification.py:2184: UserWarning: y_pred contains classes not in y_true\n",
      "  warnings.warn(\"y_pred contains classes not in y_true\")\n",
      "c:\\Users\\user\\OneDrive\\Desktop\\GitHub\\small-molecules\\env\\lib\\site-packages\\sklearn\\metrics\\_classification.py:2184: UserWarning: y_pred contains classes not in y_true\n",
      "  warnings.warn(\"y_pred contains classes not in y_true\")\n"
     ]
    },
    {
     "name": "stdout",
     "output_type": "stream",
     "text": [
      "Training Balanced Accuracy: {'mean-balanced_accuracy_score': 0.7741483311084422}:.3f\n",
      "Testing Balanced Accuracy: {'mean-balanced_accuracy_score': 0.6048645385492057}:.3f\n"
     ]
    },
    {
     "name": "stderr",
     "output_type": "stream",
     "text": [
      "c:\\Users\\user\\OneDrive\\Desktop\\GitHub\\small-molecules\\env\\lib\\site-packages\\sklearn\\metrics\\_classification.py:2184: UserWarning: y_pred contains classes not in y_true\n",
      "  warnings.warn(\"y_pred contains classes not in y_true\")\n",
      "c:\\Users\\user\\OneDrive\\Desktop\\GitHub\\small-molecules\\env\\lib\\site-packages\\sklearn\\metrics\\_classification.py:2184: UserWarning: y_pred contains classes not in y_true\n",
      "  warnings.warn(\"y_pred contains classes not in y_true\")\n"
     ]
    }
   ],
   "source": [
    "train_scores = gat_model.evaluate(train_dataset, [metric], transformers)\n",
    "test_scores = gat_model.evaluate(test_dataset, [metric], transformers)\n",
    "\n",
    "print(f\"Training Balanced Accuracy: {train_scores}:.3f\")\n",
    "print(f\"Testing Balanced Accuracy: {test_scores}:.3f\")"
   ]
  },
  {
   "cell_type": "code",
   "execution_count": 94,
   "metadata": {},
   "outputs": [
    {
     "data": {
      "text/plain": [
       "0.21082258224487305"
      ]
     },
     "execution_count": 94,
     "metadata": {},
     "output_type": "execute_result"
    }
   ],
   "source": [
    "gcn_model_one.fit(train_dataset_one, nb_epoch=50)"
   ]
  },
  {
   "cell_type": "code",
   "execution_count": 95,
   "metadata": {},
   "outputs": [
    {
     "name": "stderr",
     "output_type": "stream",
     "text": [
      "c:\\Users\\user\\OneDrive\\Desktop\\GitHub\\small-molecules\\env\\lib\\site-packages\\sklearn\\metrics\\_classification.py:2184: UserWarning: y_pred contains classes not in y_true\n",
      "  warnings.warn(\"y_pred contains classes not in y_true\")\n",
      "c:\\Users\\user\\OneDrive\\Desktop\\GitHub\\small-molecules\\env\\lib\\site-packages\\sklearn\\metrics\\_classification.py:2184: UserWarning: y_pred contains classes not in y_true\n",
      "  warnings.warn(\"y_pred contains classes not in y_true\")\n",
      "c:\\Users\\user\\OneDrive\\Desktop\\GitHub\\small-molecules\\env\\lib\\site-packages\\sklearn\\metrics\\_classification.py:2184: UserWarning: y_pred contains classes not in y_true\n",
      "  warnings.warn(\"y_pred contains classes not in y_true\")\n",
      "c:\\Users\\user\\OneDrive\\Desktop\\GitHub\\small-molecules\\env\\lib\\site-packages\\sklearn\\metrics\\_classification.py:2184: UserWarning: y_pred contains classes not in y_true\n",
      "  warnings.warn(\"y_pred contains classes not in y_true\")\n",
      "c:\\Users\\user\\OneDrive\\Desktop\\GitHub\\small-molecules\\env\\lib\\site-packages\\sklearn\\metrics\\_classification.py:2184: UserWarning: y_pred contains classes not in y_true\n",
      "  warnings.warn(\"y_pred contains classes not in y_true\")\n",
      "c:\\Users\\user\\OneDrive\\Desktop\\GitHub\\small-molecules\\env\\lib\\site-packages\\sklearn\\metrics\\_classification.py:2184: UserWarning: y_pred contains classes not in y_true\n",
      "  warnings.warn(\"y_pred contains classes not in y_true\")\n",
      "c:\\Users\\user\\OneDrive\\Desktop\\GitHub\\small-molecules\\env\\lib\\site-packages\\sklearn\\metrics\\_classification.py:2184: UserWarning: y_pred contains classes not in y_true\n",
      "  warnings.warn(\"y_pred contains classes not in y_true\")\n"
     ]
    },
    {
     "name": "stdout",
     "output_type": "stream",
     "text": [
      "Training Balanced Accuracy: {'mean-balanced_accuracy_score': 0.8416308669714819}\n",
      "Testing Balanced Accuracy: {'mean-balanced_accuracy_score': 0.5863796951999999}\n"
     ]
    },
    {
     "name": "stderr",
     "output_type": "stream",
     "text": [
      "c:\\Users\\user\\OneDrive\\Desktop\\GitHub\\small-molecules\\env\\lib\\site-packages\\sklearn\\metrics\\_classification.py:2184: UserWarning: y_pred contains classes not in y_true\n",
      "  warnings.warn(\"y_pred contains classes not in y_true\")\n",
      "c:\\Users\\user\\OneDrive\\Desktop\\GitHub\\small-molecules\\env\\lib\\site-packages\\sklearn\\metrics\\_classification.py:2184: UserWarning: y_pred contains classes not in y_true\n",
      "  warnings.warn(\"y_pred contains classes not in y_true\")\n"
     ]
    }
   ],
   "source": [
    "train_scores = gcn_model_one.evaluate(train_dataset_one, [metric], transformers_one)\n",
    "test_scores = gcn_model_one.evaluate(test_dataset_one, [metric], transformers_one)\n",
    "\n",
    "print(f\"Training Balanced Accuracy: {train_scores}\")\n",
    "print(f\"Testing Balanced Accuracy: {test_scores}\")"
   ]
  },
  {
   "attachments": {},
   "cell_type": "markdown",
   "metadata": {},
   "source": [
    "Observations\n",
    "-----------\n",
    "\n",
    "## Baseline\n",
    "\n",
    "We'll use the GCN Model, with MolGraphConvFeaturizer featurization as the baseline estimator, \n",
    "hence no model should do worse than it.\n",
    "\n",
    "- Training Balanced Accuracy: 84.320%\n",
    "\n",
    "- Testing Balanced Accuracy: 60%\n",
    "\n",
    "## Preliminary model\n",
    "\n",
    "Our preliminary model is a GraphConvModel with GraphConvMol featurization\n",
    "\n",
    "- Training Balanced Accuracy: 81.699%\n",
    "\n",
    "- Testing Balanced Accuracy: 60.155%"
   ]
  },
  {
   "cell_type": "code",
   "execution_count": 96,
   "metadata": {},
   "outputs": [
    {
     "name": "stdout",
     "output_type": "stream",
     "text": [
      "Requirement already satisfied: pip in c:\\users\\user\\onedrive\\desktop\\github\\small-molecules\\env\\lib\\site-packages (22.3.1)\n"
     ]
    }
   ],
   "source": [
    "! pip install --upgrade pip"
   ]
  },
  {
   "cell_type": "code",
   "execution_count": 97,
   "metadata": {},
   "outputs": [
    {
     "name": "stdout",
     "output_type": "stream",
     "text": [
      "Requirement already satisfied: pyGPGO in c:\\users\\user\\onedrive\\desktop\\github\\small-molecules\\env\\lib\\site-packages (0.5.1)\n",
      "Requirement already satisfied: Theano-PyMC in c:\\users\\user\\onedrive\\desktop\\github\\small-molecules\\env\\lib\\site-packages (from pyGPGO) (1.1.2)\n",
      "Requirement already satisfied: scikit-learn in c:\\users\\user\\onedrive\\desktop\\github\\small-molecules\\env\\lib\\site-packages (from pyGPGO) (1.2.0)\n",
      "Requirement already satisfied: joblib in c:\\users\\user\\onedrive\\desktop\\github\\small-molecules\\env\\lib\\site-packages (from pyGPGO) (1.2.0)\n",
      "Requirement already satisfied: scipy in c:\\users\\user\\onedrive\\desktop\\github\\small-molecules\\env\\lib\\site-packages (from pyGPGO) (1.7.3)\n",
      "Requirement already satisfied: pyMC3 in c:\\users\\user\\onedrive\\desktop\\github\\small-molecules\\env\\lib\\site-packages (from pyGPGO) (3.11.5)\n",
      "Requirement already satisfied: numpy in c:\\users\\user\\onedrive\\desktop\\github\\small-molecules\\env\\lib\\site-packages (from pyGPGO) (1.22.1)\n",
      "Requirement already satisfied: mkl in c:\\users\\user\\onedrive\\desktop\\github\\small-molecules\\env\\lib\\site-packages (from pyGPGO) (2022.2.1)\n",
      "Requirement already satisfied: intel-openmp==2022.* in c:\\users\\user\\onedrive\\desktop\\github\\small-molecules\\env\\lib\\site-packages (from mkl->pyGPGO) (2022.2.1)\n",
      "Requirement already satisfied: tbb==2021.* in c:\\users\\user\\onedrive\\desktop\\github\\small-molecules\\env\\lib\\site-packages (from mkl->pyGPGO) (2021.7.1)\n",
      "Requirement already satisfied: semver>=2.13.0 in c:\\users\\user\\onedrive\\desktop\\github\\small-molecules\\env\\lib\\site-packages (from pyMC3->pyGPGO) (2.13.0)\n",
      "Requirement already satisfied: dill in c:\\users\\user\\onedrive\\desktop\\github\\small-molecules\\env\\lib\\site-packages (from pyMC3->pyGPGO) (0.3.6)\n",
      "Requirement already satisfied: deprecat in c:\\users\\user\\onedrive\\desktop\\github\\small-molecules\\env\\lib\\site-packages (from pyMC3->pyGPGO) (2.1.1)\n",
      "Requirement already satisfied: patsy>=0.5.1 in c:\\users\\user\\onedrive\\desktop\\github\\small-molecules\\env\\lib\\site-packages (from pyMC3->pyGPGO) (0.5.3)\n",
      "Requirement already satisfied: typing-extensions>=3.7.4 in c:\\users\\user\\onedrive\\desktop\\github\\small-molecules\\env\\lib\\site-packages (from pyMC3->pyGPGO) (4.4.0)\n",
      "Requirement already satisfied: arviz>=0.11.0 in c:\\users\\user\\onedrive\\desktop\\github\\small-molecules\\env\\lib\\site-packages (from pyMC3->pyGPGO) (0.12.1)\n",
      "Requirement already satisfied: pandas>=0.24.0 in c:\\users\\user\\onedrive\\desktop\\github\\small-molecules\\env\\lib\\site-packages (from pyMC3->pyGPGO) (1.5.2)\n",
      "Requirement already satisfied: cachetools>=4.2.1 in c:\\users\\user\\onedrive\\desktop\\github\\small-molecules\\env\\lib\\site-packages (from pyMC3->pyGPGO) (5.2.0)\n",
      "Requirement already satisfied: fastprogress>=0.2.0 in c:\\users\\user\\onedrive\\desktop\\github\\small-molecules\\env\\lib\\site-packages (from pyMC3->pyGPGO) (1.0.3)\n",
      "Requirement already satisfied: filelock in c:\\users\\user\\onedrive\\desktop\\github\\small-molecules\\env\\lib\\site-packages (from Theano-PyMC->pyGPGO) (3.9.0)\n",
      "Requirement already satisfied: threadpoolctl>=2.0.0 in c:\\users\\user\\onedrive\\desktop\\github\\small-molecules\\env\\lib\\site-packages (from scikit-learn->pyGPGO) (3.1.0)\n",
      "Requirement already satisfied: netcdf4 in c:\\users\\user\\onedrive\\desktop\\github\\small-molecules\\env\\lib\\site-packages (from arviz>=0.11.0->pyMC3->pyGPGO) (1.6.2)\n",
      "Requirement already satisfied: xarray-einstats>=0.2 in c:\\users\\user\\onedrive\\desktop\\github\\small-molecules\\env\\lib\\site-packages (from arviz>=0.11.0->pyMC3->pyGPGO) (0.4.0)\n",
      "Requirement already satisfied: matplotlib>=3.0 in c:\\users\\user\\onedrive\\desktop\\github\\small-molecules\\env\\lib\\site-packages (from arviz>=0.11.0->pyMC3->pyGPGO) (3.6.2)\n",
      "Requirement already satisfied: packaging in c:\\users\\user\\onedrive\\desktop\\github\\small-molecules\\env\\lib\\site-packages (from arviz>=0.11.0->pyMC3->pyGPGO) (22.0)\n",
      "Requirement already satisfied: xarray>=0.16.1 in c:\\users\\user\\onedrive\\desktop\\github\\small-molecules\\env\\lib\\site-packages (from arviz>=0.11.0->pyMC3->pyGPGO) (2022.12.0)\n",
      "Requirement already satisfied: setuptools>=38.4 in c:\\users\\user\\onedrive\\desktop\\github\\small-molecules\\env\\lib\\site-packages (from arviz>=0.11.0->pyMC3->pyGPGO) (65.5.0)\n",
      "Requirement already satisfied: pytz>=2020.1 in c:\\users\\user\\onedrive\\desktop\\github\\small-molecules\\env\\lib\\site-packages (from pandas>=0.24.0->pyMC3->pyGPGO) (2022.7)\n",
      "Requirement already satisfied: python-dateutil>=2.8.1 in c:\\users\\user\\onedrive\\desktop\\github\\small-molecules\\env\\lib\\site-packages (from pandas>=0.24.0->pyMC3->pyGPGO) (2.8.2)\n",
      "Requirement already satisfied: six in c:\\users\\user\\onedrive\\desktop\\github\\small-molecules\\env\\lib\\site-packages (from patsy>=0.5.1->pyMC3->pyGPGO) (1.16.0)\n",
      "Requirement already satisfied: wrapt<2,>=1.10 in c:\\users\\user\\onedrive\\desktop\\github\\small-molecules\\env\\lib\\site-packages (from deprecat->pyMC3->pyGPGO) (1.14.1)\n",
      "Requirement already satisfied: pillow>=6.2.0 in c:\\users\\user\\onedrive\\desktop\\github\\small-molecules\\env\\lib\\site-packages (from matplotlib>=3.0->arviz>=0.11.0->pyMC3->pyGPGO) (9.3.0)\n",
      "Requirement already satisfied: fonttools>=4.22.0 in c:\\users\\user\\onedrive\\desktop\\github\\small-molecules\\env\\lib\\site-packages (from matplotlib>=3.0->arviz>=0.11.0->pyMC3->pyGPGO) (4.38.0)\n",
      "Requirement already satisfied: contourpy>=1.0.1 in c:\\users\\user\\onedrive\\desktop\\github\\small-molecules\\env\\lib\\site-packages (from matplotlib>=3.0->arviz>=0.11.0->pyMC3->pyGPGO) (1.0.6)\n",
      "Requirement already satisfied: pyparsing>=2.2.1 in c:\\users\\user\\onedrive\\desktop\\github\\small-molecules\\env\\lib\\site-packages (from matplotlib>=3.0->arviz>=0.11.0->pyMC3->pyGPGO) (3.0.9)\n",
      "Requirement already satisfied: kiwisolver>=1.0.1 in c:\\users\\user\\onedrive\\desktop\\github\\small-molecules\\env\\lib\\site-packages (from matplotlib>=3.0->arviz>=0.11.0->pyMC3->pyGPGO) (1.4.4)\n",
      "Requirement already satisfied: cycler>=0.10 in c:\\users\\user\\onedrive\\desktop\\github\\small-molecules\\env\\lib\\site-packages (from matplotlib>=3.0->arviz>=0.11.0->pyMC3->pyGPGO) (0.11.0)\n",
      "Requirement already satisfied: cftime in c:\\users\\user\\onedrive\\desktop\\github\\small-molecules\\env\\lib\\site-packages (from netcdf4->arviz>=0.11.0->pyMC3->pyGPGO) (1.6.2)\n"
     ]
    }
   ],
   "source": [
    "! pip install pyGPGO"
   ]
  },
  {
   "cell_type": "code",
   "execution_count": 98,
   "metadata": {},
   "outputs": [
    {
     "name": "stderr",
     "output_type": "stream",
     "text": [
      "c:\\Users\\user\\OneDrive\\Desktop\\GitHub\\small-molecules\\env\\lib\\site-packages\\sklearn\\metrics\\_classification.py:2184: UserWarning: y_pred contains classes not in y_true\n",
      "  warnings.warn(\"y_pred contains classes not in y_true\")\n",
      "c:\\Users\\user\\OneDrive\\Desktop\\GitHub\\small-molecules\\env\\lib\\site-packages\\sklearn\\metrics\\_classification.py:2184: UserWarning: y_pred contains classes not in y_true\n",
      "  warnings.warn(\"y_pred contains classes not in y_true\")\n",
      "c:\\Users\\user\\OneDrive\\Desktop\\GitHub\\small-molecules\\env\\lib\\site-packages\\sklearn\\metrics\\_classification.py:2184: UserWarning: y_pred contains classes not in y_true\n",
      "  warnings.warn(\"y_pred contains classes not in y_true\")\n",
      "c:\\Users\\user\\OneDrive\\Desktop\\GitHub\\small-molecules\\env\\lib\\site-packages\\sklearn\\metrics\\_classification.py:2184: UserWarning: y_pred contains classes not in y_true\n",
      "  warnings.warn(\"y_pred contains classes not in y_true\")\n",
      "c:\\Users\\user\\OneDrive\\Desktop\\GitHub\\small-molecules\\env\\lib\\site-packages\\sklearn\\metrics\\_classification.py:2184: UserWarning: y_pred contains classes not in y_true\n",
      "  warnings.warn(\"y_pred contains classes not in y_true\")\n",
      "c:\\Users\\user\\OneDrive\\Desktop\\GitHub\\small-molecules\\env\\lib\\site-packages\\sklearn\\metrics\\_classification.py:2184: UserWarning: y_pred contains classes not in y_true\n",
      "  warnings.warn(\"y_pred contains classes not in y_true\")\n",
      "c:\\Users\\user\\OneDrive\\Desktop\\GitHub\\small-molecules\\env\\lib\\site-packages\\sklearn\\metrics\\_classification.py:2184: UserWarning: y_pred contains classes not in y_true\n",
      "  warnings.warn(\"y_pred contains classes not in y_true\")\n",
      "c:\\Users\\user\\OneDrive\\Desktop\\GitHub\\small-molecules\\env\\lib\\site-packages\\sklearn\\metrics\\_classification.py:2184: UserWarning: y_pred contains classes not in y_true\n",
      "  warnings.warn(\"y_pred contains classes not in y_true\")\n",
      "c:\\Users\\user\\OneDrive\\Desktop\\GitHub\\small-molecules\\env\\lib\\site-packages\\sklearn\\metrics\\_classification.py:2184: UserWarning: y_pred contains classes not in y_true\n",
      "  warnings.warn(\"y_pred contains classes not in y_true\")\n",
      "c:\\Users\\user\\OneDrive\\Desktop\\GitHub\\small-molecules\\env\\lib\\site-packages\\sklearn\\metrics\\_classification.py:2184: UserWarning: y_pred contains classes not in y_true\n",
      "  warnings.warn(\"y_pred contains classes not in y_true\")\n",
      "c:\\Users\\user\\OneDrive\\Desktop\\GitHub\\small-molecules\\env\\lib\\site-packages\\sklearn\\metrics\\_classification.py:2184: UserWarning: y_pred contains classes not in y_true\n",
      "  warnings.warn(\"y_pred contains classes not in y_true\")\n",
      "c:\\Users\\user\\OneDrive\\Desktop\\GitHub\\small-molecules\\env\\lib\\site-packages\\sklearn\\metrics\\_classification.py:2184: UserWarning: y_pred contains classes not in y_true\n",
      "  warnings.warn(\"y_pred contains classes not in y_true\")\n",
      "c:\\Users\\user\\OneDrive\\Desktop\\GitHub\\small-molecules\\env\\lib\\site-packages\\sklearn\\metrics\\_classification.py:2184: UserWarning: y_pred contains classes not in y_true\n",
      "  warnings.warn(\"y_pred contains classes not in y_true\")\n",
      "c:\\Users\\user\\OneDrive\\Desktop\\GitHub\\small-molecules\\env\\lib\\site-packages\\sklearn\\metrics\\_classification.py:2184: UserWarning: y_pred contains classes not in y_true\n",
      "  warnings.warn(\"y_pred contains classes not in y_true\")\n",
      "c:\\Users\\user\\OneDrive\\Desktop\\GitHub\\small-molecules\\env\\lib\\site-packages\\sklearn\\metrics\\_classification.py:2184: UserWarning: y_pred contains classes not in y_true\n",
      "  warnings.warn(\"y_pred contains classes not in y_true\")\n",
      "c:\\Users\\user\\OneDrive\\Desktop\\GitHub\\small-molecules\\env\\lib\\site-packages\\sklearn\\metrics\\_classification.py:2184: UserWarning: y_pred contains classes not in y_true\n",
      "  warnings.warn(\"y_pred contains classes not in y_true\")\n",
      "c:\\Users\\user\\OneDrive\\Desktop\\GitHub\\small-molecules\\env\\lib\\site-packages\\sklearn\\metrics\\_classification.py:2184: UserWarning: y_pred contains classes not in y_true\n",
      "  warnings.warn(\"y_pred contains classes not in y_true\")\n",
      "c:\\Users\\user\\OneDrive\\Desktop\\GitHub\\small-molecules\\env\\lib\\site-packages\\sklearn\\metrics\\_classification.py:2184: UserWarning: y_pred contains classes not in y_true\n",
      "  warnings.warn(\"y_pred contains classes not in y_true\")\n",
      "c:\\Users\\user\\OneDrive\\Desktop\\GitHub\\small-molecules\\env\\lib\\site-packages\\sklearn\\metrics\\_classification.py:2184: UserWarning: y_pred contains classes not in y_true\n",
      "  warnings.warn(\"y_pred contains classes not in y_true\")\n",
      "c:\\Users\\user\\OneDrive\\Desktop\\GitHub\\small-molecules\\env\\lib\\site-packages\\sklearn\\metrics\\_classification.py:2184: UserWarning: y_pred contains classes not in y_true\n",
      "  warnings.warn(\"y_pred contains classes not in y_true\")\n",
      "c:\\Users\\user\\OneDrive\\Desktop\\GitHub\\small-molecules\\env\\lib\\site-packages\\sklearn\\metrics\\_classification.py:2184: UserWarning: y_pred contains classes not in y_true\n",
      "  warnings.warn(\"y_pred contains classes not in y_true\")\n",
      "c:\\Users\\user\\OneDrive\\Desktop\\GitHub\\small-molecules\\env\\lib\\site-packages\\sklearn\\metrics\\_classification.py:2184: UserWarning: y_pred contains classes not in y_true\n",
      "  warnings.warn(\"y_pred contains classes not in y_true\")\n",
      "c:\\Users\\user\\OneDrive\\Desktop\\GitHub\\small-molecules\\env\\lib\\site-packages\\sklearn\\metrics\\_classification.py:2184: UserWarning: y_pred contains classes not in y_true\n",
      "  warnings.warn(\"y_pred contains classes not in y_true\")\n",
      "c:\\Users\\user\\OneDrive\\Desktop\\GitHub\\small-molecules\\env\\lib\\site-packages\\sklearn\\metrics\\_classification.py:2184: UserWarning: y_pred contains classes not in y_true\n",
      "  warnings.warn(\"y_pred contains classes not in y_true\")\n",
      "c:\\Users\\user\\OneDrive\\Desktop\\GitHub\\small-molecules\\env\\lib\\site-packages\\sklearn\\metrics\\_classification.py:2184: UserWarning: y_pred contains classes not in y_true\n",
      "  warnings.warn(\"y_pred contains classes not in y_true\")\n",
      "c:\\Users\\user\\OneDrive\\Desktop\\GitHub\\small-molecules\\env\\lib\\site-packages\\sklearn\\metrics\\_classification.py:2184: UserWarning: y_pred contains classes not in y_true\n",
      "  warnings.warn(\"y_pred contains classes not in y_true\")\n",
      "c:\\Users\\user\\OneDrive\\Desktop\\GitHub\\small-molecules\\env\\lib\\site-packages\\sklearn\\metrics\\_classification.py:2184: UserWarning: y_pred contains classes not in y_true\n",
      "  warnings.warn(\"y_pred contains classes not in y_true\")\n",
      "c:\\Users\\user\\OneDrive\\Desktop\\GitHub\\small-molecules\\env\\lib\\site-packages\\sklearn\\metrics\\_classification.py:2184: UserWarning: y_pred contains classes not in y_true\n",
      "  warnings.warn(\"y_pred contains classes not in y_true\")\n",
      "c:\\Users\\user\\OneDrive\\Desktop\\GitHub\\small-molecules\\env\\lib\\site-packages\\sklearn\\metrics\\_classification.py:2184: UserWarning: y_pred contains classes not in y_true\n",
      "  warnings.warn(\"y_pred contains classes not in y_true\")\n",
      "c:\\Users\\user\\OneDrive\\Desktop\\GitHub\\small-molecules\\env\\lib\\site-packages\\sklearn\\metrics\\_classification.py:2184: UserWarning: y_pred contains classes not in y_true\n",
      "  warnings.warn(\"y_pred contains classes not in y_true\")\n",
      "c:\\Users\\user\\OneDrive\\Desktop\\GitHub\\small-molecules\\env\\lib\\site-packages\\sklearn\\metrics\\_classification.py:2184: UserWarning: y_pred contains classes not in y_true\n",
      "  warnings.warn(\"y_pred contains classes not in y_true\")\n",
      "c:\\Users\\user\\OneDrive\\Desktop\\GitHub\\small-molecules\\env\\lib\\site-packages\\sklearn\\metrics\\_classification.py:2184: UserWarning: y_pred contains classes not in y_true\n",
      "  warnings.warn(\"y_pred contains classes not in y_true\")\n",
      "c:\\Users\\user\\OneDrive\\Desktop\\GitHub\\small-molecules\\env\\lib\\site-packages\\sklearn\\metrics\\_classification.py:2184: UserWarning: y_pred contains classes not in y_true\n",
      "  warnings.warn(\"y_pred contains classes not in y_true\")\n",
      "c:\\Users\\user\\OneDrive\\Desktop\\GitHub\\small-molecules\\env\\lib\\site-packages\\sklearn\\metrics\\_classification.py:2184: UserWarning: y_pred contains classes not in y_true\n",
      "  warnings.warn(\"y_pred contains classes not in y_true\")\n",
      "c:\\Users\\user\\OneDrive\\Desktop\\GitHub\\small-molecules\\env\\lib\\site-packages\\sklearn\\metrics\\_classification.py:2184: UserWarning: y_pred contains classes not in y_true\n",
      "  warnings.warn(\"y_pred contains classes not in y_true\")\n",
      "c:\\Users\\user\\OneDrive\\Desktop\\GitHub\\small-molecules\\env\\lib\\site-packages\\sklearn\\metrics\\_classification.py:2184: UserWarning: y_pred contains classes not in y_true\n",
      "  warnings.warn(\"y_pred contains classes not in y_true\")\n",
      "c:\\Users\\user\\OneDrive\\Desktop\\GitHub\\small-molecules\\env\\lib\\site-packages\\sklearn\\metrics\\_classification.py:2184: UserWarning: y_pred contains classes not in y_true\n",
      "  warnings.warn(\"y_pred contains classes not in y_true\")\n",
      "c:\\Users\\user\\OneDrive\\Desktop\\GitHub\\small-molecules\\env\\lib\\site-packages\\sklearn\\metrics\\_classification.py:2184: UserWarning: y_pred contains classes not in y_true\n",
      "  warnings.warn(\"y_pred contains classes not in y_true\")\n",
      "c:\\Users\\user\\OneDrive\\Desktop\\GitHub\\small-molecules\\env\\lib\\site-packages\\sklearn\\metrics\\_classification.py:2184: UserWarning: y_pred contains classes not in y_true\n",
      "  warnings.warn(\"y_pred contains classes not in y_true\")\n",
      "c:\\Users\\user\\OneDrive\\Desktop\\GitHub\\small-molecules\\env\\lib\\site-packages\\sklearn\\metrics\\_classification.py:2184: UserWarning: y_pred contains classes not in y_true\n",
      "  warnings.warn(\"y_pred contains classes not in y_true\")\n",
      "c:\\Users\\user\\OneDrive\\Desktop\\GitHub\\small-molecules\\env\\lib\\site-packages\\sklearn\\metrics\\_classification.py:2184: UserWarning: y_pred contains classes not in y_true\n",
      "  warnings.warn(\"y_pred contains classes not in y_true\")\n",
      "c:\\Users\\user\\OneDrive\\Desktop\\GitHub\\small-molecules\\env\\lib\\site-packages\\sklearn\\metrics\\_classification.py:2184: UserWarning: y_pred contains classes not in y_true\n",
      "  warnings.warn(\"y_pred contains classes not in y_true\")\n",
      "c:\\Users\\user\\OneDrive\\Desktop\\GitHub\\small-molecules\\env\\lib\\site-packages\\sklearn\\metrics\\_classification.py:2184: UserWarning: y_pred contains classes not in y_true\n",
      "  warnings.warn(\"y_pred contains classes not in y_true\")\n",
      "c:\\Users\\user\\OneDrive\\Desktop\\GitHub\\small-molecules\\env\\lib\\site-packages\\sklearn\\metrics\\_classification.py:2184: UserWarning: y_pred contains classes not in y_true\n",
      "  warnings.warn(\"y_pred contains classes not in y_true\")\n",
      "c:\\Users\\user\\OneDrive\\Desktop\\GitHub\\small-molecules\\env\\lib\\site-packages\\sklearn\\metrics\\_classification.py:2184: UserWarning: y_pred contains classes not in y_true\n",
      "  warnings.warn(\"y_pred contains classes not in y_true\")\n",
      "c:\\Users\\user\\OneDrive\\Desktop\\GitHub\\small-molecules\\env\\lib\\site-packages\\sklearn\\metrics\\_classification.py:2184: UserWarning: y_pred contains classes not in y_true\n",
      "  warnings.warn(\"y_pred contains classes not in y_true\")\n",
      "c:\\Users\\user\\OneDrive\\Desktop\\GitHub\\small-molecules\\env\\lib\\site-packages\\sklearn\\metrics\\_classification.py:2184: UserWarning: y_pred contains classes not in y_true\n",
      "  warnings.warn(\"y_pred contains classes not in y_true\")\n",
      "c:\\Users\\user\\OneDrive\\Desktop\\GitHub\\small-molecules\\env\\lib\\site-packages\\sklearn\\metrics\\_classification.py:2184: UserWarning: y_pred contains classes not in y_true\n",
      "  warnings.warn(\"y_pred contains classes not in y_true\")\n",
      "c:\\Users\\user\\OneDrive\\Desktop\\GitHub\\small-molecules\\env\\lib\\site-packages\\sklearn\\metrics\\_classification.py:2184: UserWarning: y_pred contains classes not in y_true\n",
      "  warnings.warn(\"y_pred contains classes not in y_true\")\n",
      "c:\\Users\\user\\OneDrive\\Desktop\\GitHub\\small-molecules\\env\\lib\\site-packages\\sklearn\\metrics\\_classification.py:2184: UserWarning: y_pred contains classes not in y_true\n",
      "  warnings.warn(\"y_pred contains classes not in y_true\")\n",
      "c:\\Users\\user\\OneDrive\\Desktop\\GitHub\\small-molecules\\env\\lib\\site-packages\\sklearn\\metrics\\_classification.py:2184: UserWarning: y_pred contains classes not in y_true\n",
      "  warnings.warn(\"y_pred contains classes not in y_true\")\n",
      "c:\\Users\\user\\OneDrive\\Desktop\\GitHub\\small-molecules\\env\\lib\\site-packages\\sklearn\\metrics\\_classification.py:2184: UserWarning: y_pred contains classes not in y_true\n",
      "  warnings.warn(\"y_pred contains classes not in y_true\")\n",
      "c:\\Users\\user\\OneDrive\\Desktop\\GitHub\\small-molecules\\env\\lib\\site-packages\\sklearn\\metrics\\_classification.py:2184: UserWarning: y_pred contains classes not in y_true\n",
      "  warnings.warn(\"y_pred contains classes not in y_true\")\n",
      "c:\\Users\\user\\OneDrive\\Desktop\\GitHub\\small-molecules\\env\\lib\\site-packages\\sklearn\\metrics\\_classification.py:2184: UserWarning: y_pred contains classes not in y_true\n",
      "  warnings.warn(\"y_pred contains classes not in y_true\")\n",
      "c:\\Users\\user\\OneDrive\\Desktop\\GitHub\\small-molecules\\env\\lib\\site-packages\\sklearn\\metrics\\_classification.py:2184: UserWarning: y_pred contains classes not in y_true\n",
      "  warnings.warn(\"y_pred contains classes not in y_true\")\n",
      "c:\\Users\\user\\OneDrive\\Desktop\\GitHub\\small-molecules\\env\\lib\\site-packages\\sklearn\\metrics\\_classification.py:2184: UserWarning: y_pred contains classes not in y_true\n",
      "  warnings.warn(\"y_pred contains classes not in y_true\")\n",
      "c:\\Users\\user\\OneDrive\\Desktop\\GitHub\\small-molecules\\env\\lib\\site-packages\\sklearn\\metrics\\_classification.py:2184: UserWarning: y_pred contains classes not in y_true\n",
      "  warnings.warn(\"y_pred contains classes not in y_true\")\n",
      "c:\\Users\\user\\OneDrive\\Desktop\\GitHub\\small-molecules\\env\\lib\\site-packages\\sklearn\\metrics\\_classification.py:2184: UserWarning: y_pred contains classes not in y_true\n",
      "  warnings.warn(\"y_pred contains classes not in y_true\")\n",
      "c:\\Users\\user\\OneDrive\\Desktop\\GitHub\\small-molecules\\env\\lib\\site-packages\\sklearn\\metrics\\_classification.py:2184: UserWarning: y_pred contains classes not in y_true\n",
      "  warnings.warn(\"y_pred contains classes not in y_true\")\n",
      "c:\\Users\\user\\OneDrive\\Desktop\\GitHub\\small-molecules\\env\\lib\\site-packages\\sklearn\\metrics\\_classification.py:2184: UserWarning: y_pred contains classes not in y_true\n",
      "  warnings.warn(\"y_pred contains classes not in y_true\")\n",
      "c:\\Users\\user\\OneDrive\\Desktop\\GitHub\\small-molecules\\env\\lib\\site-packages\\sklearn\\metrics\\_classification.py:2184: UserWarning: y_pred contains classes not in y_true\n",
      "  warnings.warn(\"y_pred contains classes not in y_true\")\n",
      "c:\\Users\\user\\OneDrive\\Desktop\\GitHub\\small-molecules\\env\\lib\\site-packages\\sklearn\\metrics\\_classification.py:2184: UserWarning: y_pred contains classes not in y_true\n",
      "  warnings.warn(\"y_pred contains classes not in y_true\")\n",
      "c:\\Users\\user\\OneDrive\\Desktop\\GitHub\\small-molecules\\env\\lib\\site-packages\\sklearn\\metrics\\_classification.py:2184: UserWarning: y_pred contains classes not in y_true\n",
      "  warnings.warn(\"y_pred contains classes not in y_true\")\n",
      "c:\\Users\\user\\OneDrive\\Desktop\\GitHub\\small-molecules\\env\\lib\\site-packages\\sklearn\\metrics\\_classification.py:2184: UserWarning: y_pred contains classes not in y_true\n",
      "  warnings.warn(\"y_pred contains classes not in y_true\")\n",
      "c:\\Users\\user\\OneDrive\\Desktop\\GitHub\\small-molecules\\env\\lib\\site-packages\\sklearn\\metrics\\_classification.py:2184: UserWarning: y_pred contains classes not in y_true\n",
      "  warnings.warn(\"y_pred contains classes not in y_true\")\n",
      "c:\\Users\\user\\OneDrive\\Desktop\\GitHub\\small-molecules\\env\\lib\\site-packages\\sklearn\\metrics\\_classification.py:2184: UserWarning: y_pred contains classes not in y_true\n",
      "  warnings.warn(\"y_pred contains classes not in y_true\")\n",
      "c:\\Users\\user\\OneDrive\\Desktop\\GitHub\\small-molecules\\env\\lib\\site-packages\\sklearn\\metrics\\_classification.py:2184: UserWarning: y_pred contains classes not in y_true\n",
      "  warnings.warn(\"y_pred contains classes not in y_true\")\n",
      "c:\\Users\\user\\OneDrive\\Desktop\\GitHub\\small-molecules\\env\\lib\\site-packages\\sklearn\\metrics\\_classification.py:2184: UserWarning: y_pred contains classes not in y_true\n",
      "  warnings.warn(\"y_pred contains classes not in y_true\")\n",
      "c:\\Users\\user\\OneDrive\\Desktop\\GitHub\\small-molecules\\env\\lib\\site-packages\\sklearn\\metrics\\_classification.py:2184: UserWarning: y_pred contains classes not in y_true\n",
      "  warnings.warn(\"y_pred contains classes not in y_true\")\n",
      "c:\\Users\\user\\OneDrive\\Desktop\\GitHub\\small-molecules\\env\\lib\\site-packages\\sklearn\\metrics\\_classification.py:2184: UserWarning: y_pred contains classes not in y_true\n",
      "  warnings.warn(\"y_pred contains classes not in y_true\")\n",
      "c:\\Users\\user\\OneDrive\\Desktop\\GitHub\\small-molecules\\env\\lib\\site-packages\\sklearn\\metrics\\_classification.py:2184: UserWarning: y_pred contains classes not in y_true\n",
      "  warnings.warn(\"y_pred contains classes not in y_true\")\n",
      "c:\\Users\\user\\OneDrive\\Desktop\\GitHub\\small-molecules\\env\\lib\\site-packages\\sklearn\\metrics\\_classification.py:2184: UserWarning: y_pred contains classes not in y_true\n",
      "  warnings.warn(\"y_pred contains classes not in y_true\")\n",
      "c:\\Users\\user\\OneDrive\\Desktop\\GitHub\\small-molecules\\env\\lib\\site-packages\\sklearn\\metrics\\_classification.py:2184: UserWarning: y_pred contains classes not in y_true\n",
      "  warnings.warn(\"y_pred contains classes not in y_true\")\n",
      "c:\\Users\\user\\OneDrive\\Desktop\\GitHub\\small-molecules\\env\\lib\\site-packages\\sklearn\\metrics\\_classification.py:2184: UserWarning: y_pred contains classes not in y_true\n",
      "  warnings.warn(\"y_pred contains classes not in y_true\")\n",
      "c:\\Users\\user\\OneDrive\\Desktop\\GitHub\\small-molecules\\env\\lib\\site-packages\\sklearn\\metrics\\_classification.py:2184: UserWarning: y_pred contains classes not in y_true\n",
      "  warnings.warn(\"y_pred contains classes not in y_true\")\n",
      "c:\\Users\\user\\OneDrive\\Desktop\\GitHub\\small-molecules\\env\\lib\\site-packages\\sklearn\\metrics\\_classification.py:2184: UserWarning: y_pred contains classes not in y_true\n",
      "  warnings.warn(\"y_pred contains classes not in y_true\")\n",
      "c:\\Users\\user\\OneDrive\\Desktop\\GitHub\\small-molecules\\env\\lib\\site-packages\\sklearn\\metrics\\_classification.py:2184: UserWarning: y_pred contains classes not in y_true\n",
      "  warnings.warn(\"y_pred contains classes not in y_true\")\n",
      "c:\\Users\\user\\OneDrive\\Desktop\\GitHub\\small-molecules\\env\\lib\\site-packages\\sklearn\\metrics\\_classification.py:2184: UserWarning: y_pred contains classes not in y_true\n",
      "  warnings.warn(\"y_pred contains classes not in y_true\")\n",
      "c:\\Users\\user\\OneDrive\\Desktop\\GitHub\\small-molecules\\env\\lib\\site-packages\\sklearn\\metrics\\_classification.py:2184: UserWarning: y_pred contains classes not in y_true\n",
      "  warnings.warn(\"y_pred contains classes not in y_true\")\n",
      "c:\\Users\\user\\OneDrive\\Desktop\\GitHub\\small-molecules\\env\\lib\\site-packages\\sklearn\\metrics\\_classification.py:2184: UserWarning: y_pred contains classes not in y_true\n",
      "  warnings.warn(\"y_pred contains classes not in y_true\")\n",
      "c:\\Users\\user\\OneDrive\\Desktop\\GitHub\\small-molecules\\env\\lib\\site-packages\\sklearn\\metrics\\_classification.py:2184: UserWarning: y_pred contains classes not in y_true\n",
      "  warnings.warn(\"y_pred contains classes not in y_true\")\n"
     ]
    },
    {
     "data": {
      "text/plain": [
       "{'graph_conv_layers': [128, 128], 'dense_layer_size': 256}"
      ]
     },
     "execution_count": 98,
     "metadata": {},
     "output_type": "execute_result"
    }
   ],
   "source": [
    "## Hyperparameter optimization\n",
    "\n",
    "# def model_bulder(**model_params):\n",
    "#     model = GraphConvModel(**model_params, n_tasks=1, mode=\"classification\")\n",
    "#     return model\n",
    "\n",
    "import tensorflow as tf\n",
    "from deepchem.hyper import GaussianProcessHyperparamOpt, GridHyperparamOpt\n",
    "\n",
    "params = {\n",
    "        'graph_conv_layers': [[32, 32], [64, 64], [128, 128]],\n",
    "        'dense_layer_size': [128, 256, 512]\n",
    "}\n",
    "\n",
    "optimizer = GridHyperparamOpt(lambda **p: GraphConvModel(n_tasks=len(toxcast_tasks_one), mode=\"classification\", dropout=0.1, batch_size=32, learning_rate=0.001, **p))\n",
    "\n",
    "best_model, best_hyperparams, all_results =   optimizer.hyperparam_search(params, train_dataset_one, test_dataset_one, metric, transformers_one)\n",
    "\n",
    "best_hyperparams"
   ]
  },
  {
   "cell_type": "code",
   "execution_count": 99,
   "metadata": {},
   "outputs": [
    {
     "data": {
      "text/plain": [
       "{'_dense_layer_size_128_graph_conv_layers[32, 32]': 0.5769704687833895,\n",
       " '_dense_layer_size_256_graph_conv_layers[32, 32]': 0.5679807425512707,\n",
       " '_dense_layer_size_512_graph_conv_layers[32, 32]': 0.5746413935928033,\n",
       " '_dense_layer_size_128_graph_conv_layers[64, 64]': 0.5764633685793026,\n",
       " '_dense_layer_size_256_graph_conv_layers[64, 64]': 0.5682762394459503,\n",
       " '_dense_layer_size_512_graph_conv_layers[64, 64]': 0.5936834390086138,\n",
       " '_dense_layer_size_128_graph_conv_layers[128, 128]': 0.591753125941375,\n",
       " '_dense_layer_size_256_graph_conv_layers[128, 128]': 0.594404028339408,\n",
       " '_dense_layer_size_512_graph_conv_layers[128, 128]': 0.5725283606498852}"
      ]
     },
     "execution_count": 99,
     "metadata": {},
     "output_type": "execute_result"
    }
   ],
   "source": [
    "all_results"
   ]
  },
  {
   "cell_type": "code",
   "execution_count": 100,
   "metadata": {},
   "outputs": [
    {
     "name": "stderr",
     "output_type": "stream",
     "text": [
      "c:\\Users\\user\\OneDrive\\Desktop\\GitHub\\small-molecules\\env\\lib\\site-packages\\sklearn\\metrics\\_classification.py:2184: UserWarning: y_pred contains classes not in y_true\n",
      "  warnings.warn(\"y_pred contains classes not in y_true\")\n",
      "c:\\Users\\user\\OneDrive\\Desktop\\GitHub\\small-molecules\\env\\lib\\site-packages\\sklearn\\metrics\\_classification.py:2184: UserWarning: y_pred contains classes not in y_true\n",
      "  warnings.warn(\"y_pred contains classes not in y_true\")\n",
      "c:\\Users\\user\\OneDrive\\Desktop\\GitHub\\small-molecules\\env\\lib\\site-packages\\sklearn\\metrics\\_classification.py:2184: UserWarning: y_pred contains classes not in y_true\n",
      "  warnings.warn(\"y_pred contains classes not in y_true\")\n",
      "c:\\Users\\user\\OneDrive\\Desktop\\GitHub\\small-molecules\\env\\lib\\site-packages\\sklearn\\metrics\\_classification.py:2184: UserWarning: y_pred contains classes not in y_true\n",
      "  warnings.warn(\"y_pred contains classes not in y_true\")\n",
      "c:\\Users\\user\\OneDrive\\Desktop\\GitHub\\small-molecules\\env\\lib\\site-packages\\sklearn\\metrics\\_classification.py:2184: UserWarning: y_pred contains classes not in y_true\n",
      "  warnings.warn(\"y_pred contains classes not in y_true\")\n"
     ]
    },
    {
     "name": "stdout",
     "output_type": "stream",
     "text": [
      "Training Balanced Accuracy: {'mean-balanced_accuracy_score': 0.7563852428202532}\n",
      "Testing Balanced Accuracy: {'mean-balanced_accuracy_score': 0.5834136532368377}\n"
     ]
    },
    {
     "name": "stderr",
     "output_type": "stream",
     "text": [
      "c:\\Users\\user\\OneDrive\\Desktop\\GitHub\\small-molecules\\env\\lib\\site-packages\\sklearn\\metrics\\_classification.py:2184: UserWarning: y_pred contains classes not in y_true\n",
      "  warnings.warn(\"y_pred contains classes not in y_true\")\n",
      "c:\\Users\\user\\OneDrive\\Desktop\\GitHub\\small-molecules\\env\\lib\\site-packages\\sklearn\\metrics\\_classification.py:2184: UserWarning: y_pred contains classes not in y_true\n",
      "  warnings.warn(\"y_pred contains classes not in y_true\")\n",
      "c:\\Users\\user\\OneDrive\\Desktop\\GitHub\\small-molecules\\env\\lib\\site-packages\\sklearn\\metrics\\_classification.py:2184: UserWarning: y_pred contains classes not in y_true\n",
      "  warnings.warn(\"y_pred contains classes not in y_true\")\n",
      "c:\\Users\\user\\OneDrive\\Desktop\\GitHub\\small-molecules\\env\\lib\\site-packages\\sklearn\\metrics\\_classification.py:2184: UserWarning: y_pred contains classes not in y_true\n",
      "  warnings.warn(\"y_pred contains classes not in y_true\")\n"
     ]
    }
   ],
   "source": [
    "final_model = GraphConvModel(n_tasks=len(toxcast_tasks_one), mode=\"classification\", dropout=0.1, batch_size=32, learning_rate=0.001, dense_layer_size=128, graph_conv_layers= [128, 128])\n",
    "final_model.fit(train_dataset_one)\n",
    "\n",
    "train_scores = final_model.evaluate(train_dataset_one, [metric], transformers_one)\n",
    "test_scores = final_model.evaluate(test_dataset_one, [metric], transformers_one)\n",
    "\n",
    "print(f\"Training Balanced Accuracy: {train_scores}\")\n",
    "print(f\"Testing Balanced Accuracy: {test_scores}\")"
   ]
  }
 ],
 "metadata": {
  "kernelspec": {
   "display_name": "env",
   "language": "python",
   "name": "python3"
  },
  "language_info": {
   "codemirror_mode": {
    "name": "ipython",
    "version": 3
   },
   "file_extension": ".py",
   "mimetype": "text/x-python",
   "name": "python",
   "nbconvert_exporter": "python",
   "pygments_lexer": "ipython3",
   "version": "3.10.9"
  },
  "orig_nbformat": 4,
  "vscode": {
   "interpreter": {
    "hash": "4df9ae2f3669d2915414309207e4c3fb96f9f71dd598ede9d89ce16f72233d5f"
   }
  }
 },
 "nbformat": 4,
 "nbformat_minor": 2
}
